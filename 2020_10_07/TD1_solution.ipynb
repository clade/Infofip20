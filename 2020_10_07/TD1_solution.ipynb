{
 "cells": [
  {
   "cell_type": "markdown",
   "metadata": {},
   "source": [
    "# Jupyter notebook\n",
    "\n",
    "## Utilisation de jupyter notebook\n",
    "\n",
    "* Créer un répertoire pour le TD d'aujourd'hui (nommé par exemple TD1 ou 2020_10_06\n",
    "* Dans ce répertoire, créer un notebook. \n",
    "* Si vous n'êtes par famillier avec les notebook, voici quelques astuces : \n",
    "    * Utilisation de la touche 'Tab' pour la complétion automatique\n",
    "    * Utiliser la combinaiser Ctrl + Entrée pour valider une celluler\n",
    "    * Menu : Cellule -> type de cellule -> markdown pour créer une zone de texte\n",
    "    \n",
    "Par exemple, créer au début de votre notebook les blocs suivants (zone de texte et calcul). Il est possible de rentrer des équations en utilisant le format latex : \\\\$E=mc^2\\\\$"
   ]
  },
  {
   "cell_type": "code",
   "execution_count": null,
   "metadata": {},
   "outputs": [],
   "source": [
    "------------------------------------------------------"
   ]
  },
  {
   "cell_type": "markdown",
   "metadata": {},
   "source": [
    "## Relativité\n",
    "\n",
    "Tout le monde connait la formule $E=mc^2$. Mais que vaut exactement l'énergie de masse d'une pomme ?"
   ]
  },
  {
   "cell_type": "code",
   "execution_count": 2,
   "metadata": {},
   "outputs": [
    {
     "name": "stdout",
     "output_type": "stream",
     "text": [
      "L'énergie de masse d'une pomme est 1.800e+16 J\n"
     ]
    }
   ],
   "source": [
    "masse_d_une_pomme = 0.2\n",
    "c = 3E8\n",
    "\n",
    "energie_masse_pomme = masse_d_une_pomme*c**2\n",
    "print(f\"L'énergie de masse d'une pomme est {energie_masse_pomme:.3e} J\")"
   ]
  },
  {
   "cell_type": "code",
   "execution_count": null,
   "metadata": {},
   "outputs": [],
   "source": [
    "------------------------------------------------------"
   ]
  },
  {
   "cell_type": "markdown",
   "metadata": {},
   "source": [
    "# Analyse des données du CAC 40\n",
    "\n",
    "Téléchager depuis le site https://www.abcbourse.com/download/valeur/PX1p les données du CAC 40 depuis 2 ans. On laissera le format 'Action bourse'.  Le fichier texte obtenu contient : l'identifiant de la valeur, la date, le cours d'ouverture, le plus haut, le plus bas, le cours de clôture et le volume de titres échangés. Ce contenu est séparé par des `;`.\n",
    "\n",
    "Remarque : la métode `split` d'une chaine de caractère permet de la séparer en plusieurs sous chaînes. Par exemple : \n",
    "\n",
    "```\n",
    "s = '12;bonjour;3.14'\n",
    "print(s.split(';'))\n",
    "```\n",
    "\n",
    "\n",
    "\n",
    "\n",
    "1. Afficher les 10 premières lignes du fichier\n",
    "\n",
    "2. Créer une liste contenant le plus haut de la bourse jour par jour. Qu'elle est la valeur la plus haute du CAC 40 au cours des deux dernières années ?\n",
    "\n",
    "3. Écrire une fonction qui prend le jour, le mois et l'année et renvoie une chaîne de caractère pour la date sous la forme : jj/mm/aa (par exemple 11/02/19)\n",
    "\n",
    "4. Écrire une fonction qui renvoie le plus bas d'une journée à partir du jour, du mois et de l'année. Cette fontion renverra une exception si le jour n'existe pas. \n",
    "\n",
    "5. Plutôt qu'une liste, on va utiliser un dictionnaire dont la clé sera la date. Créer un dictionnaire qui contiendra pour chaque jour un dictionnaire avec pour clé : 'haut', 'bas', 'ouverture', 'fermeture', 'volume'. Par exemple on pourra utiliser :\n",
    "  ```cac_40['27/03/20']['haut']```\n",
    "\n",
    "6. Enregistrer ce dictionnaire dans un fichier au format json. Vérifier que vous pouvez l'ouvrir !\n",
    "\n",
    "7. Regarder la documentation de la fontion ``parse`` du module ``dateutil.parser`` et trouver le moyen de convertir une date sous la forme ``05/10/18`` en un nombre (nombre de jour ou nombre de seconde depuis une date donnée). \n",
    "\n",
    "8. Tracer l'évolution au cours du temps de CAC 40."
   ]
  },
  {
   "cell_type": "code",
   "execution_count": 12,
   "metadata": {},
   "outputs": [
    {
     "name": "stdout",
     "output_type": "stream",
     "text": [
      "FR0003500008;24/09/18;5480.64;5488.18;5463.44;5476.17;3312679\n",
      "\n",
      "FR0003500008;25/09/18;5468.91;5497.15;5468.78;5479.10;3353051\n",
      "\n",
      "FR0003500008;26/09/18;5482.99;5512.75;5471.57;5512.73;3638713\n",
      "\n",
      "FR0003500008;27/09/18;5500.25;5546.80;5485.83;5540.41;3331707\n",
      "\n",
      "FR0003500008;28/09/18;5514.55;5527.24;5458.21;5493.49;4598176\n",
      "\n",
      "FR0003500008;01/10/18;5494.93;5519.94;5491.17;5506.82;3162953\n",
      "\n",
      "FR0003500008;02/10/18;5473.79;5480.24;5440.78;5467.89;3527714\n",
      "\n",
      "FR0003500008;03/10/18;5485.02;5509.08;5468.47;5491.40;2889112\n",
      "\n",
      "FR0003500008;04/10/18;5471.88;5477.92;5404.84;5410.85;4435990\n",
      "\n",
      "FR0003500008;05/10/18;5407.58;5412.31;5354.79;5359.36;3770764\n",
      "\n"
     ]
    }
   ],
   "source": [
    "with open('PX1.txt') as f:\n",
    "    toutes_les_lignes = f.readlines()\n",
    "    \n",
    "for elm in toutes_les_lignes[:10]:\n",
    "    print(elm)"
   ]
  },
  {
   "cell_type": "code",
   "execution_count": 4,
   "metadata": {},
   "outputs": [
    {
     "data": {
      "text/plain": [
       "6111.41"
      ]
     },
     "execution_count": 4,
     "metadata": {},
     "output_type": "execute_result"
    }
   ],
   "source": [
    "plus_haut = []\n",
    "for elm in toutes_les_lignes:\n",
    "    plus_haut.append(float(elm.split(';')[3]))\n",
    "max(plus_haut) # Remarque : ne pas coder soi même la fonction max!"
   ]
  },
  {
   "cell_type": "code",
   "execution_count": null,
   "metadata": {},
   "outputs": [],
   "source": []
  },
  {
   "cell_type": "code",
   "execution_count": 5,
   "metadata": {},
   "outputs": [],
   "source": [
    "def format_date(jour, mois, annee):\n",
    "    \"\"\"Formate la date sous la forme : jj/mm/aa\n",
    "    \"\"\"\n",
    "    return f\"{jour:02d}/{mois:02d}/{annee%100:02d}\"\n",
    "\n",
    "assert format_date(11, 2, 2018)=='11/02/18'\n"
   ]
  },
  {
   "cell_type": "code",
   "execution_count": 6,
   "metadata": {},
   "outputs": [
    {
     "name": "stdout",
     "output_type": "stream",
     "text": [
      "5354.79\n"
     ]
    },
    {
     "ename": "Exception",
     "evalue": "La date 05/10/10 n'a pas pu être trouvée",
     "output_type": "error",
     "traceback": [
      "\u001b[0;31m---------------------------------------------------------------------------\u001b[0m",
      "\u001b[0;31mException\u001b[0m                                 Traceback (most recent call last)",
      "\u001b[0;32m<ipython-input-6-fd673832d62f>\u001b[0m in \u001b[0;36m<module>\u001b[0;34m\u001b[0m\n\u001b[1;32m     10\u001b[0m \u001b[0;34m\u001b[0m\u001b[0m\n\u001b[1;32m     11\u001b[0m \u001b[0;34m\u001b[0m\u001b[0m\n\u001b[0;32m---> 12\u001b[0;31m \u001b[0mprint\u001b[0m\u001b[0;34m(\u001b[0m\u001b[0mplus_bas\u001b[0m\u001b[0;34m(\u001b[0m\u001b[0;36m5\u001b[0m\u001b[0;34m,\u001b[0m \u001b[0;36m10\u001b[0m\u001b[0;34m,\u001b[0m \u001b[0;36m10\u001b[0m\u001b[0;34m)\u001b[0m\u001b[0;34m)\u001b[0m\u001b[0;34m\u001b[0m\u001b[0;34m\u001b[0m\u001b[0m\n\u001b[0m",
      "\u001b[0;32m<ipython-input-6-fd673832d62f>\u001b[0m in \u001b[0;36mplus_bas\u001b[0;34m(jour, mois, annee)\u001b[0m\n\u001b[1;32m      5\u001b[0m         \u001b[0;32mif\u001b[0m \u001b[0mdate\u001b[0m\u001b[0;34m==\u001b[0m\u001b[0mdate_demandee\u001b[0m\u001b[0;34m:\u001b[0m\u001b[0;34m\u001b[0m\u001b[0;34m\u001b[0m\u001b[0m\n\u001b[1;32m      6\u001b[0m             \u001b[0;32mreturn\u001b[0m \u001b[0mfloat\u001b[0m\u001b[0;34m(\u001b[0m\u001b[0mbas\u001b[0m\u001b[0;34m)\u001b[0m\u001b[0;34m\u001b[0m\u001b[0;34m\u001b[0m\u001b[0m\n\u001b[0;32m----> 7\u001b[0;31m     \u001b[0;32mraise\u001b[0m \u001b[0mException\u001b[0m\u001b[0;34m(\u001b[0m\u001b[0;34mf\"La date {date_demandee} n'a pas pu être trouvée\"\u001b[0m\u001b[0;34m)\u001b[0m\u001b[0;34m\u001b[0m\u001b[0;34m\u001b[0m\u001b[0m\n\u001b[0m\u001b[1;32m      8\u001b[0m \u001b[0;34m\u001b[0m\u001b[0m\n\u001b[1;32m      9\u001b[0m \u001b[0mprint\u001b[0m\u001b[0;34m(\u001b[0m\u001b[0mplus_bas\u001b[0m\u001b[0;34m(\u001b[0m\u001b[0;36m5\u001b[0m\u001b[0;34m,\u001b[0m \u001b[0;36m10\u001b[0m\u001b[0;34m,\u001b[0m \u001b[0;36m18\u001b[0m\u001b[0;34m)\u001b[0m\u001b[0;34m)\u001b[0m\u001b[0;34m\u001b[0m\u001b[0;34m\u001b[0m\u001b[0m\n",
      "\u001b[0;31mException\u001b[0m: La date 05/10/10 n'a pas pu être trouvée"
     ]
    }
   ],
   "source": [
    "def plus_bas(jour, mois, annee):\n",
    "    date_demandee = format_date(jour, mois, annee)\n",
    "    for elm in toutes_les_lignes:\n",
    "        _, date, ouverture, haut, bas, fermeture, volume = elm.split(';')\n",
    "        if date==date_demandee:\n",
    "            return float(bas)\n",
    "    raise Exception(f\"La date {date_demandee} n'a pas pu être trouvée\")\n",
    "\n",
    "print(plus_bas(5, 10, 18))\n",
    "\n",
    "\n",
    "print(plus_bas(5, 10, 10))"
   ]
  },
  {
   "cell_type": "code",
   "execution_count": null,
   "metadata": {},
   "outputs": [],
   "source": []
  },
  {
   "cell_type": "code",
   "execution_count": 7,
   "metadata": {},
   "outputs": [
    {
     "data": {
      "text/plain": [
       "5359.36"
      ]
     },
     "execution_count": 7,
     "metadata": {},
     "output_type": "execute_result"
    }
   ],
   "source": [
    "cac_40 = {}\n",
    "for elm in toutes_les_lignes:\n",
    "    _, date, ouverture, haut, bas, fermeture, volume = elm.split(';')\n",
    "    line = {\n",
    "        'ouverture':float(ouverture),\n",
    "        'haut' : float(haut),\n",
    "        'bas' : float(bas),\n",
    "        'fermeture' : float(fermeture),\n",
    "        'volume' : int(volume)\n",
    "    }\n",
    "    cac_40[date] = line\n",
    "    \n",
    "cac_40['05/10/18']['fermeture']"
   ]
  },
  {
   "cell_type": "code",
   "execution_count": 8,
   "metadata": {},
   "outputs": [],
   "source": [
    "import json\n",
    "\n",
    "with open('cac_40.json', 'w') as f:\n",
    "    json.dump(cac_40, f, indent=3)"
   ]
  },
  {
   "cell_type": "code",
   "execution_count": 9,
   "metadata": {},
   "outputs": [
    {
     "data": {
      "text/plain": [
       "5359.36"
      ]
     },
     "execution_count": 9,
     "metadata": {},
     "output_type": "execute_result"
    }
   ],
   "source": [
    "with open('cac_40.json') as f:\n",
    "    tmp = json.load(f)\n",
    "    \n",
    "    \n",
    "tmp['05/10/18']['fermeture']"
   ]
  },
  {
   "cell_type": "code",
   "execution_count": null,
   "metadata": {},
   "outputs": [],
   "source": []
  },
  {
   "cell_type": "code",
   "execution_count": 10,
   "metadata": {},
   "outputs": [],
   "source": [
    "from dateutil.parser import parse\n",
    "day = parse('05/10/18', dayfirst=True)\n",
    "\n",
    "\n",
    "list_of_day = []\n",
    "list_of_ouverture = []\n",
    "for key, elm in cac_40.items():\n",
    "    list_of_day.append(parse(key, dayfirst=True).toordinal())\n",
    "    list_of_ouverture.append(elm['ouverture'])\n",
    "\n",
    "    "
   ]
  },
  {
   "cell_type": "code",
   "execution_count": 11,
   "metadata": {},
   "outputs": [
    {
     "data": {
      "text/plain": [
       "[<matplotlib.lines.Line2D at 0x7ff45d7c4c90>]"
      ]
     },
     "execution_count": 11,
     "metadata": {},
     "output_type": "execute_result"
    },
    {
     "data": {
      "image/png": "[encoded data removed]",
      "text/plain": [
       "<Figure size 432x288 with 1 Axes>"
      ]
     },
     "metadata": {
      "needs_background": "light"
     },
     "output_type": "display_data"
    }
   ],
   "source": [
    "%matplotlib inline\n",
    "from matplotlib.pyplot import *\n",
    "\n",
    "plot(list_of_day, list_of_ouverture)\n"
   ]
  },
  {
   "cell_type": "code",
   "execution_count": null,
   "metadata": {},
   "outputs": [],
   "source": []
  }
 ],
 "metadata": {
  "kernelspec": {
   "display_name": "Python 3",
   "language": "python",
   "name": "python3"
  },
  "language_info": {
   "codemirror_mode": {
    "name": "ipython",
    "version": 3
   },
   "file_extension": ".py",
   "mimetype": "text/x-python",
   "name": "python",
   "nbconvert_exporter": "python",
   "pygments_lexer": "ipython3",
   "version": "3.7.4"
  }
 },
 "nbformat": 4,
 "nbformat_minor": 2
}
