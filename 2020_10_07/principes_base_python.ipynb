{
 "cells": [
  {
   "cell_type": "markdown",
   "metadata": {},
   "source": [
    "# Objectif du cours\n",
    "\n",
    "* Python 1 : Outils de bases pour les scientifiques\n",
    "* Python 2 : Programmation orientée objet. Projet informatique\n",
    "\n",
    "Python 1 : \n",
    "* Quelques bases de Python\n",
    "* Les tableaux numpy\n",
    "* Statistiques, ajustement de courbes\n",
    "* Transformée de Fourier\n",
    "* Equations différentielles"
   ]
  },
  {
   "cell_type": "markdown",
   "metadata": {
    "collapsed": true,
    "extensions": {
     "jupyter_dashboards": {
      "version": 1,
      "views": {
       "grid_default": {
        "col": 0,
        "height": 11,
        "hidden": false,
        "row": 10,
        "width": 12
       },
       "report_default": {}
      }
     }
    },
    "nbpresent": {
     "id": "3e40f331-3e82-4c39-be42-29befb1a98c4"
    },
    "slideshow": {
     "slide_type": "slide"
    }
   },
   "source": [
    "## Installation de Python\n",
    "\n",
    "* Il existe plusieurs interpréteurs open source de Python. Le principal est CPython\n",
    "* Il est fortement conseillé d'installer Anaconda et Python 3.8\n",
    "\n",
    "## Comment exécuter Python\n",
    "\n",
    "* Jupyter notebook : très pratique (compte rendu de TP, cours). Pas pour des projets\n",
    "* Spyder : éditeur de texte adapté à Python et l'environnement scientifique (à la matlab)\n",
    "* IPython (inclus dans spyder) : terminal interactif. Faire des essais avant de copier dans un programme\n",
    "* Console : interface graphique, test automatique, ..."
   ]
  },
  {
   "cell_type": "markdown",
   "metadata": {
    "extensions": {
     "jupyter_dashboards": {
      "version": 1,
      "views": {
       "grid_default": {
        "col": 0,
        "height": 5,
        "hidden": false,
        "row": 21,
        "width": 12
       },
       "report_default": {}
      }
     }
    },
    "slideshow": {
     "slide_type": "slide"
    }
   },
   "source": [
    "# Plan du cours\n",
    "\n",
    "Aujourd'hui : Bases de python. \n",
    "\n",
    "* Les types de bases de python\n",
    "* Structures de contrôle\n",
    "* Les fichiers\n",
    "* Les exceptions"
   ]
  },
  {
   "cell_type": "markdown",
   "metadata": {
    "slideshow": {
     "slide_type": "slide"
    }
   },
   "source": [
    "# Types de données"
   ]
  },
  {
   "cell_type": "markdown",
   "metadata": {
    "extensions": {
     "jupyter_dashboards": {
      "version": 1,
      "views": {
       "grid_default": {
        "col": 8,
        "height": 8,
        "hidden": false,
        "row": 47,
        "width": null
       },
       "report_default": {}
      }
     }
    },
    "slideshow": {
     "slide_type": "slide"
    }
   },
   "source": [
    "## Nombres\n",
    "\n",
    "* entiers : pas de limite de tailles\n",
    "* réels : flottant (float). Par défaut 64bits, précision relative de environ $10^{-15}$\n",
    "* Complexe : deux réels ; `a = 1 + 3J`\n",
    "* +, -, \\*, /, \\*\\* (puissance)\n",
    "* Modulo, division entière"
   ]
  },
  {
   "cell_type": "code",
   "execution_count": null,
   "metadata": {
    "extensions": {
     "jupyter_dashboards": {
      "version": 1,
      "views": {
       "grid_default": {
        "hidden": true
       },
       "report_default": {}
      }
     }
    }
   },
   "outputs": [],
   "source": [
    "print(2**145)\n",
    "\n",
    "x = 1\n",
    "print((x + 1E-16) - x)\n",
    "\n",
    "z = 1 + 3J\n",
    "print(z.imag)"
   ]
  },
  {
   "cell_type": "code",
   "execution_count": null,
   "metadata": {},
   "outputs": [],
   "source": [
    "print(5%2)\n",
    "print(5//2)"
   ]
  },
  {
   "cell_type": "markdown",
   "metadata": {
    "extensions": {
     "jupyter_dashboards": {
      "version": 1,
      "views": {
       "grid_default": {
        "col": 0,
        "height": 5,
        "hidden": false,
        "row": 55,
        "width": 12
       },
       "report_default": {}
      }
     }
    },
    "slideshow": {
     "slide_type": "slide"
    }
   },
   "source": [
    "## Booléens \n",
    "\n",
    "* `True` et `False`\n",
    "* Comparaison : `>`, `>=`, `==`, `<=`,  `<`, `!=`\n",
    "* Opérations : and, or et not (attention aux priorités)\n",
    "* \"évaluation paresseuse\""
   ]
  },
  {
   "cell_type": "code",
   "execution_count": null,
   "metadata": {
    "extensions": {
     "jupyter_dashboards": {
      "version": 1,
      "views": {
       "grid_default": {
        "hidden": true
       },
       "report_default": {}
      }
     }
    }
   },
   "outputs": [],
   "source": [
    "x = -1\n",
    "\n",
    "x>0 and sqrt(x)>2\n",
    "#if x>0:\n",
    "#    return sqrt(x)\n",
    "# else:\n",
    "#    return False\n",
    "    "
   ]
  },
  {
   "cell_type": "markdown",
   "metadata": {
    "extensions": {
     "jupyter_dashboards": {
      "version": 1,
      "views": {
       "grid_default": {
        "col": 4,
        "height": 4,
        "hidden": false,
        "row": 51,
        "width": 4
       },
       "report_default": {}
      }
     }
    },
    "slideshow": {
     "slide_type": "slide"
    }
   },
   "source": [
    "## Chaînes de caractères (str)\n",
    "* Plusieurs façon d'écrire une chaine : \", ', \"\"\", ''' .\n",
    "* Caractère spéciaux : \\\\n (retour à la ligne), \\\\t (tabulation)\n",
    "* Unicode\n",
    "* Concaténation \n",
    "* Quelques méthodes sur les chaînes\n",
    "* Formatage de chaîne de caractère"
   ]
  },
  {
   "cell_type": "code",
   "execution_count": null,
   "metadata": {
    "extensions": {
     "jupyter_dashboards": {
      "version": 1,
      "views": {
       "grid_default": {
        "col": 0,
        "height": 4,
        "hidden": false,
        "row": 60,
        "width": 4
       },
       "report_default": {}
      }
     }
    }
   },
   "outputs": [],
   "source": [
    "s0 = 'Bonjour'\n",
    "s1 = \"Pierre\"\n",
    "s2 = \"Aujourd'hui\"\n",
    "print(s1[2])\n",
    "print(s1[2:5])\n",
    "print(s0 + ' ' + s1) # Concaténation"
   ]
  },
  {
   "cell_type": "code",
   "execution_count": null,
   "metadata": {},
   "outputs": [],
   "source": [
    "s3 = \"\"\"Une chaine\n",
    "sur plusieurs \n",
    "lignes\"\"\"\n",
    "\n",
    "s3"
   ]
  },
  {
   "cell_type": "code",
   "execution_count": null,
   "metadata": {},
   "outputs": [],
   "source": [
    "print(\"Rayon \\u03B3\")\n",
    "print(\"Rayon γ\")"
   ]
  },
  {
   "cell_type": "code",
   "execution_count": null,
   "metadata": {},
   "outputs": [],
   "source": [
    "# Quelques méthodes \n",
    "s = 'Bonjour'\n",
    "print(s.replace('o', 'r'))\n",
    "s = \"1;2;4;3\"\n",
    "print(s.split(';'))\n",
    "\n",
    "s = 'monfichier.txt'\n",
    "print(s.endswith('.txt'))"
   ]
  },
  {
   "cell_type": "markdown",
   "metadata": {},
   "source": [
    "### Formatage\n",
    "Mettre une variable dans une chaîne de caractère\n",
    "\n",
    "On utilise la méthode .format (ancienne syntaxe avec le %). On utilise des accolades. \n",
    "\n",
    "On peut préciser: \n",
    "* le nom de l'argument (keyword argument)\n",
    "* le type d'écriture : entier (d), virgule fixe (f), notation scientifique\n",
    "* la précision\n",
    "\n",
    "Exemple {name:8.3f} : \n",
    "* argument : name\n",
    "* virgule fixe\n",
    "* taille totale 8\n",
    "* 3 chiffres après la virgule\n",
    "\n"
   ]
  },
  {
   "cell_type": "code",
   "execution_count": null,
   "metadata": {},
   "outputs": [],
   "source": [
    "# Formatage \n",
    "from math import pi\n",
    "print('La valeur de pi est {:.3f}'.format(pi))\n",
    "c = 299792458\n",
    "\n",
    "print('La vitesse de la lumière est c={c:.3e} m/s'.format(c=c))\n",
    "\n",
    "# Format string\n",
    "print(f'La valeur de pi est {pi:.3f}')"
   ]
  },
  {
   "cell_type": "markdown",
   "metadata": {
    "extensions": {
     "jupyter_dashboards": {
      "version": 1,
      "views": {
       "grid_default": {
        "col": 0,
        "height": 6,
        "hidden": false,
        "row": 64,
        "width": 12
       },
       "report_default": {}
      }
     }
    },
    "slideshow": {
     "slide_type": "slide"
    }
   },
   "source": [
    "## Les listes\n",
    "\n",
    "* Elles peuvent contenir n'importe quel type de donnée\n",
    "* Les indices commencent par 0\n",
    "* Index négatif : par la fin (modulo la taille de la liste)\n",
    "* iterateur : par exemple `range`. "
   ]
  },
  {
   "cell_type": "code",
   "execution_count": null,
   "metadata": {
    "extensions": {
     "jupyter_dashboards": {
      "version": 1,
      "views": {
       "grid_default": {
        "col": 4,
        "height": 4,
        "hidden": false,
        "row": 60,
        "width": 4
       },
       "report_default": {}
      }
     }
    }
   },
   "outputs": [],
   "source": [
    "l = ['Pierre', 34, 3.1415]\n",
    "l[1]\n",
    "l.append(25)\n",
    "l"
   ]
  },
  {
   "cell_type": "markdown",
   "metadata": {},
   "source": [
    "La méthode .append() modifie la liste. C'est toujours la même liste (comme on rajoute une page dans un classeur)."
   ]
  },
  {
   "cell_type": "code",
   "execution_count": null,
   "metadata": {},
   "outputs": [],
   "source": []
  },
  {
   "cell_type": "markdown",
   "metadata": {
    "extensions": {
     "jupyter_dashboards": {
      "version": 1,
      "views": {
       "grid_default": {
        "col": 0,
        "height": 5,
        "hidden": false,
        "row": 70,
        "width": 12
       },
       "report_default": {}
      }
     }
    },
    "slideshow": {
     "slide_type": "slide"
    }
   },
   "source": [
    "## Créer une liste à partir d'une autre liste\n",
    "\n",
    "* Boucle `for`\n",
    "* Liste comprehension []\n",
    "* `list.append` : méthode de l'objet liste"
   ]
  },
  {
   "cell_type": "code",
   "execution_count": null,
   "metadata": {
    "extensions": {
     "jupyter_dashboards": {
      "version": 1,
      "views": {
       "grid_default": {
        "col": 8,
        "height": 4,
        "hidden": false,
        "row": 60,
        "width": 4
       },
       "report_default": {}
      }
     }
    }
   },
   "outputs": [],
   "source": [
    "liste_initiale = [1, 34, 23, 2.]\n",
    "\n",
    "liste_finale = []\n",
    "for elm in liste_initiale:\n",
    "    liste_finale.append(elm**2)\n",
    "liste_finale\n",
    "\n",
    "[elm**2 for elm in liste_initiale]"
   ]
  },
  {
   "cell_type": "markdown",
   "metadata": {},
   "source": [
    "## Parcourir une liste\n",
    "* ``for``\n",
    "* enumerate\n",
    "* zip"
   ]
  },
  {
   "cell_type": "code",
   "execution_count": null,
   "metadata": {},
   "outputs": [],
   "source": [
    "ma_liste = ['Dupont', 'Martin', 'Dubois']\n",
    "for name in ma_liste:\n",
    "    print(name)\n",
    "    \n",
    "for i, name in enumerate(ma_liste):\n",
    "    print(f'Le nom numéro {i} est {name}')"
   ]
  },
  {
   "cell_type": "code",
   "execution_count": null,
   "metadata": {},
   "outputs": [],
   "source": [
    "liste_age = [12, 35, 23]\n",
    "for age, name in zip(liste_age, ma_liste):\n",
    "    print(f\"{name} a {age} ans.\")"
   ]
  },
  {
   "cell_type": "markdown",
   "metadata": {},
   "source": [
    "## Les n-uplets (tuples)\n",
    "* Comme les listes sauf que l'on ne peut pas les modifier\n",
    "* Défini avec des ()\n",
    "* Utilisé pour regroupé une nombre connu de données : (x, y, z)\n",
    "* Utilisé lorsqu'une fonction renvoie plusieurs valeurs"
   ]
  },
  {
   "cell_type": "code",
   "execution_count": null,
   "metadata": {},
   "outputs": [],
   "source": [
    "def ma_fonction():\n",
    "    return 1, 2, 3\n",
    "\n",
    "a = ma_fonction()\n",
    "print(type(a))\n",
    "print(a[1])"
   ]
  },
  {
   "cell_type": "code",
   "execution_count": null,
   "metadata": {},
   "outputs": [],
   "source": [
    "a, b, c = (1, 2, 5)\n",
    "print(b)"
   ]
  },
  {
   "cell_type": "code",
   "execution_count": null,
   "metadata": {
    "extensions": {
     "jupyter_dashboards": {
      "version": 1,
      "views": {
       "grid_default": {
        "col": 0,
        "height": 4,
        "hidden": false,
        "row": 75,
        "width": 4
       },
       "report_default": {}
      }
     }
    }
   },
   "outputs": [],
   "source": []
  },
  {
   "cell_type": "markdown",
   "metadata": {},
   "source": [
    "## Les dictionnaires\n",
    "* Conteneur (comme les listes ou tuple)\n",
    "* Le contenu est indéxé par une clé qui est en général un nombre ou une chaine de caractère\n",
    "* Explicit is better than implicit (paramètre ou résultat d'une expérience)"
   ]
  },
  {
   "cell_type": "code",
   "execution_count": null,
   "metadata": {},
   "outputs": [],
   "source": [
    "parametres = {\"N\":100, 'l':30, \"h\":50, \"g\":9.81}\n",
    "print(parametres['N'])\n",
    "\n",
    "for key, val in parametres.items():\n",
    "    print(f'La valeur de {key} est {val}')"
   ]
  },
  {
   "cell_type": "code",
   "execution_count": null,
   "metadata": {},
   "outputs": [],
   "source": [
    "personne_1 = {\"nom\":\"Dupont\", \"age\":13}\n",
    "personne_2 = {\"nom\":\"Dubois\", \"age\":34}\n",
    "\n",
    "annuaire = [personne_1, personne_2]\n",
    "\n",
    "for personne in annuaire : \n",
    "    print(f\"{personne['nom']} a {personne['age']} ans.\")"
   ]
  },
  {
   "cell_type": "markdown",
   "metadata": {},
   "source": [
    "## Les ensembles\n",
    "* Comme en mathématiques : ne contient pas deux fois le même élément\n",
    "* Union |, intersection &"
   ]
  },
  {
   "cell_type": "code",
   "execution_count": null,
   "metadata": {},
   "outputs": [],
   "source": [
    "import random\n",
    "liste_aleatoire = [random.randint(1, 6) + random.randint(1, 6)\n",
    "                   for _ in range(100)]\n",
    "for val in set(liste_aleatoire):\n",
    "    count = liste_aleatoire.count(val)\n",
    "    print(f\"Le nombre {val} est présent {count} fois\")"
   ]
  },
  {
   "cell_type": "markdown",
   "metadata": {
    "extensions": {
     "jupyter_dashboards": {
      "version": 1,
      "views": {
       "grid_default": {
        "col": 0,
        "height": 6,
        "hidden": false,
        "row": 36,
        "width": 12
       },
       "report_default": {}
      }
     }
    },
    "slideshow": {
     "slide_type": "slide"
    }
   },
   "source": [
    "# Structures de contrôle\n",
    "\n",
    "## Boucles \n",
    "* while\n",
    "* for (voir les listes)\n",
    "\n",
    "## Tests \n",
    "* if, elif, else\n",
    "\n",
    "## Fonctions \n",
    "\n",
    "```\n",
    "def nom_fonction(arg1, arg2, ...):\n",
    "       ...\n",
    "       return out1, out2\n",
    "```\n",
    "\n",
    "* Argument optionel, argument nommé\n",
    "* Il peut y avoir plusieurs return au sein d'une fonction\n",
    "* Documentation ≠ commentaire\n",
    "* Une fonction qui ne renvoie rien renvoie None\n",
    "* Utilsation d'un nombre arbitraire d'arguments (\\*args, \\*\\*kwd)\n",
    "* Utiliser plusieurs arguments dans un même conteneur"
   ]
  },
  {
   "cell_type": "code",
   "execution_count": null,
   "metadata": {
    "extensions": {
     "jupyter_dashboards": {
      "version": 1,
      "views": {
       "grid_default": {
        "hidden": true
       },
       "report_default": {}
      }
     }
    },
    "slideshow": {
     "slide_type": "-"
    }
   },
   "outputs": [],
   "source": [
    "def exponentielle(x, precision=1E-9):\n",
    "    \"\"\" Calcule e**x\n",
    "    \n",
    "    Utilise le dl sum(x**n/n!)\n",
    "    \n",
    "    x : nombre dont on calcule exp\n",
    "    precision : precision du calcul\n",
    "    \"\"\"\n",
    "    result = 0\n",
    "    n = 1\n",
    "    term = 1 # Initial value\n",
    "    while abs(term)>precision :\n",
    "        result = result + term\n",
    "        term = term * x/n\n",
    "        n = n+1\n",
    "    return result\n",
    "    \n",
    "print(2*exponentielle(2.1, 1E-6))\n",
    "print(exponentielle(2.1))\n",
    "print(exponentielle(2.1, precision=1E-6))\n",
    "exponentielle(1)"
   ]
  },
  {
   "cell_type": "code",
   "execution_count": null,
   "metadata": {},
   "outputs": [],
   "source": [
    "def afficher(x):\n",
    "    print('x')\n",
    "    \n",
    "a = afficher(10)\n",
    "print(a)"
   ]
  },
  {
   "cell_type": "markdown",
   "metadata": {},
   "source": []
  },
  {
   "cell_type": "code",
   "execution_count": null,
   "metadata": {},
   "outputs": [],
   "source": [
    "def f(a, b, *args, **kwd):\n",
    "    print(a)\n",
    "    print(b)\n",
    "    print(args)\n",
    "    print(kwd)\n",
    "    \n",
    "f(1, 4, 5, 2, coucou='bonjour', alpha=14)"
   ]
  },
  {
   "cell_type": "code",
   "execution_count": null,
   "metadata": {},
   "outputs": [],
   "source": [
    "def f(x, a, b, c):\n",
    "    return a*x**2 + b*x + c\n",
    "\n",
    "params = (1, 4, 6)\n",
    "print(f(1, *params))\n",
    "\n",
    "params = {\"a\":1, \"b\":4, \"c\":6} #explicit is better than implicit!\n",
    "print(f(1, **params))"
   ]
  },
  {
   "cell_type": "markdown",
   "metadata": {},
   "source": [
    "### Fonctions anonymes \n",
    "` lambda arg1, arg2 : expr`"
   ]
  },
  {
   "cell_type": "code",
   "execution_count": null,
   "metadata": {},
   "outputs": [],
   "source": []
  },
  {
   "cell_type": "code",
   "execution_count": null,
   "metadata": {},
   "outputs": [],
   "source": []
  },
  {
   "cell_type": "code",
   "execution_count": null,
   "metadata": {},
   "outputs": [],
   "source": []
  },
  {
   "cell_type": "code",
   "execution_count": null,
   "metadata": {},
   "outputs": [],
   "source": []
  },
  {
   "cell_type": "markdown",
   "metadata": {
    "extensions": {
     "jupyter_dashboards": {
      "version": 1,
      "views": {
       "grid_default": {
        "col": 0,
        "height": 5,
        "hidden": false,
        "row": 79,
        "width": 12
       },
       "report_default": {}
      }
     }
    },
    "slideshow": {
     "slide_type": "slide"
    }
   },
   "source": [
    "# Modules en Python\n",
    "\n",
    "* Les modules sont des fichiers dont on peut importer les objets (en général des fonctions) qui y sont définis. \n",
    "* Un module peut contenir d'autre modules\n",
    "* Modules standards (ex: math)"
   ]
  },
  {
   "cell_type": "code",
   "execution_count": null,
   "metadata": {
    "extensions": {
     "jupyter_dashboards": {
      "version": 1,
      "views": {
       "grid_default": {
        "col": 4,
        "height": 4,
        "hidden": false,
        "row": 75,
        "width": 4
       },
       "report_default": {}
      }
     }
    }
   },
   "outputs": [],
   "source": [
    "from math import exp\n",
    "exp(2.1)"
   ]
  },
  {
   "cell_type": "code",
   "execution_count": null,
   "metadata": {
    "extensions": {
     "jupyter_dashboards": {
      "version": 1,
      "views": {
       "grid_default": {
        "col": 8,
        "height": 4,
        "hidden": false,
        "row": 75,
        "width": 4
       },
       "report_default": {}
      }
     }
    }
   },
   "outputs": [],
   "source": [
    "import math\n",
    "math.exp(1)"
   ]
  },
  {
   "cell_type": "code",
   "execution_count": null,
   "metadata": {
    "extensions": {
     "jupyter_dashboards": {
      "version": 1,
      "views": {
       "grid_default": {
        "col": 0,
        "height": 4,
        "hidden": false,
        "row": 84,
        "width": 4
       },
       "report_default": {}
      }
     }
    }
   },
   "outputs": [],
   "source": [
    "# Syntaxe à éviter\n",
    "from math import *\n",
    "sin(pi/4)"
   ]
  },
  {
   "cell_type": "code",
   "execution_count": null,
   "metadata": {},
   "outputs": [],
   "source": [
    "# Donner un nom plus simple\n",
    "# Eviter sauf si tout le monde le fait\n",
    "import numpy as np"
   ]
  },
  {
   "cell_type": "markdown",
   "metadata": {
    "extensions": {
     "jupyter_dashboards": {
      "version": 1,
      "views": {
       "grid_default": {
        "col": 0,
        "height": 6,
        "hidden": false,
        "row": 88,
        "width": 12
       },
       "report_default": {}
      }
     }
    },
    "slideshow": {
     "slide_type": "slide"
    }
   },
   "source": [
    "# Langage orienté objet\n",
    "\n",
    "* Tout en Python est object\n",
    "* Un objet contient des données \n",
    "* La classe d'un objet défini ce qu'est l'objet\n",
    "* La classe défini des fonctions qui permettent d'utiliser les données de l'objet ou de le modifier. Ce sont des méthodes\n",
    "\n",
    "Exemples : \n",
    "* liste, nombre complexe\n",
    "* Tableaux numpy\n",
    "* Oscilloscope"
   ]
  },
  {
   "cell_type": "code",
   "execution_count": null,
   "metadata": {
    "extensions": {
     "jupyter_dashboards": {
      "version": 1,
      "views": {
       "grid_default": {
        "col": 4,
        "height": 4,
        "hidden": false,
        "row": 84,
        "width": 4
       },
       "report_default": {}
      }
     }
    }
   },
   "outputs": [],
   "source": [
    "l = [5,4,1,2]\n",
    "l.insert(1, 'coucou') # modification de l'objet\n",
    "print(l.index(2))\n",
    "z = 1 + 2J\n",
    "z.real # attribut de l'objet\n",
    "z.conjugate() # methode qui renvoie un nouvel objet"
   ]
  },
  {
   "cell_type": "code",
   "execution_count": null,
   "metadata": {},
   "outputs": [],
   "source": [
    "a = [1, 2, 3]\n",
    "b = a.copy()\n",
    "a.insert(0, 45)\n",
    "print(b[0])"
   ]
  },
  {
   "cell_type": "code",
   "execution_count": null,
   "metadata": {},
   "outputs": [],
   "source": [
    "a = [1, 2, 4]\n",
    "b = a\n",
    "a = 'Bonjour'\n",
    "print(b[0])"
   ]
  },
  {
   "cell_type": "code",
   "execution_count": null,
   "metadata": {},
   "outputs": [],
   "source": []
  },
  {
   "cell_type": "markdown",
   "metadata": {},
   "source": [
    "## Variables globales/locales\n",
    "* Dans une fonction, une variable est soit globale soit locale\n",
    "* Si on assigne un objet à une variable dans une fonction, elle est automatiquement locale\n",
    "* Modifier une liste ne rend pas la liste locale\n",
    "* L'instrution `global` ne doit **jamais** être utilisée (sauf cas exceptionels)"
   ]
  },
  {
   "cell_type": "code",
   "execution_count": null,
   "metadata": {},
   "outputs": [],
   "source": [
    "x = 1\n",
    "def f1():\n",
    "    print(x)\n",
    "f1()\n",
    "x = 3\n",
    "f1()\n",
    "    \n",
    "def f2(x):\n",
    "    print(x)\n",
    "f2(3)\n",
    "    \n",
    "def f3():\n",
    "    x = 4\n",
    "    print(x)\n",
    "f3()\n",
    "    \n",
    "def f4():\n",
    "    print(x)\n",
    "    x = 4\n",
    "f4()"
   ]
  },
  {
   "cell_type": "markdown",
   "metadata": {},
   "source": [
    "Les variables globales doivent être constantes : \n",
    "* Constantes numériques\n",
    "* Autres objets : fonctions, modules, ..."
   ]
  },
  {
   "cell_type": "code",
   "execution_count": 2,
   "metadata": {},
   "outputs": [],
   "source": [
    "from math import sin, pi\n",
    "def ma_fonction(x):\n",
    "    if x==0:\n",
    "        return 1\n",
    "    return sin(pi*x)/(pi*x)\n",
    "\n",
    "\n"
   ]
  },
  {
   "cell_type": "code",
   "execution_count": null,
   "metadata": {},
   "outputs": [],
   "source": []
  },
  {
   "cell_type": "code",
   "execution_count": null,
   "metadata": {},
   "outputs": [],
   "source": []
  },
  {
   "cell_type": "markdown",
   "metadata": {},
   "source": [
    "# Les exceptions (erreurs)\n",
    "* Il faut toujours lire et comprendre les erreurs\n",
    "* En général python indique toujours l'endroit où se trouve l'erreur\n",
    "* Sauf pour les \"syntax error\""
   ]
  },
  {
   "cell_type": "code",
   "execution_count": null,
   "metadata": {},
   "outputs": [],
   "source": []
  },
  {
   "cell_type": "markdown",
   "metadata": {},
   "source": [
    "## Créer sa propre erreur\n",
    "* raise Exception('Un message')\n",
    "* Ne pas utiliser print(message)\n",
    "* try: except"
   ]
  },
  {
   "cell_type": "code",
   "execution_count": null,
   "metadata": {},
   "outputs": [],
   "source": [
    "# On lance une balle à la vitesse v_0 vers le haut\n",
    "# Calculer le temps pour arriver au plafond de hauteur h\n",
    "from math import sqrt\n",
    "def temps_arrivee(h, v_0, g=9.81):\n",
    "    Delta = v_0**2 - 2*g*h\n",
    "    if Delta<0:\n",
    "        raise Exception(\"La balle ne touche pas le plafond\")\n",
    "    return (v_0 - sqrt(Delta))/g\n",
    "\n",
    "print(temps_arrivee(1, 10))\n",
    "print(temps_arrivee(1, 1))"
   ]
  },
  {
   "cell_type": "code",
   "execution_count": null,
   "metadata": {},
   "outputs": [],
   "source": [
    "from math import sqrt\n",
    "def temps_arrivee(h, v_0, g=9.81):\n",
    "    Delta = v_0**2 - 2*g*h\n",
    "    try:\n",
    "        return (v_0 - sqrt(Delta))/g\n",
    "    except ValueError:\n",
    "        raise Exception(\"La balle ne touche pas le plafond\")\n",
    "print(temps_arrivee(1, 10))\n",
    "print(temps_arrivee(1, 1))"
   ]
  },
  {
   "cell_type": "code",
   "execution_count": null,
   "metadata": {},
   "outputs": [],
   "source": []
  },
  {
   "cell_type": "markdown",
   "metadata": {},
   "source": [
    "# Les fichiers\n",
    "* Répertoire absolu et relatif\n",
    "* Chemin d'accès\n",
    "* Fichier texte (c'est une chaine de caractère)\n",
    "* Lecture/écriture\n",
    "* Format JSON"
   ]
  },
  {
   "cell_type": "code",
   "execution_count": null,
   "metadata": {},
   "outputs": [],
   "source": [
    "!pwd\n",
    "# Sous windows : c:\\Users\\login\\"
   ]
  },
  {
   "cell_type": "code",
   "execution_count": null,
   "metadata": {},
   "outputs": [],
   "source": [
    "import os\n",
    "print(os.listdir('.'))"
   ]
  },
  {
   "cell_type": "code",
   "execution_count": null,
   "metadata": {},
   "outputs": [],
   "source": [
    "file = '/tmp/test_python.txt'\n",
    "fd = open(file, 'w')\n",
    "fd.write('Bonjour\\n')\n",
    "fd.close()\n",
    "\n",
    "with open(file, 'a') as fd:\n",
    "    fd.write('Au revoir')"
   ]
  },
  {
   "cell_type": "code",
   "execution_count": null,
   "metadata": {},
   "outputs": [],
   "source": [
    "with open(file) as fd:\n",
    "    print(fd.read())"
   ]
  },
  {
   "cell_type": "code",
   "execution_count": null,
   "metadata": {},
   "outputs": [],
   "source": [
    "with open(file) as fd:\n",
    "    lines = fd.readlines()\n",
    "    \n",
    "for line in lines:\n",
    "    print(line.strip()) # strip pour enlever le \\n"
   ]
  },
  {
   "cell_type": "markdown",
   "metadata": {},
   "source": [
    "## JSON\n",
    "* Permet d'enregistrer une liste ou un dictionnaire\n",
    "* Fichier lisible par une humain"
   ]
  },
  {
   "cell_type": "code",
   "execution_count": null,
   "metadata": {},
   "outputs": [],
   "source": [
    "import json\n",
    "\n",
    "personne_1 = {\"nom\":\"Dupont\", \"age\":13}\n",
    "personne_2 = {\"nom\":\"Dubois\", \"age\":34}\n",
    "\n",
    "annuaire = [personne_1, personne_2]\n",
    "\n",
    "file = '/tmp/test.json'\n",
    "with open(file, \"w\") as f:\n",
    "    json.dump(annuaire, f, indent=2)\n",
    "    "
   ]
  },
  {
   "cell_type": "code",
   "execution_count": null,
   "metadata": {},
   "outputs": [],
   "source": [
    "with open(file) as f:\n",
    "    annuaire = json.load(f)\n",
    "print(annuaire)    \n",
    "    \n"
   ]
  },
  {
   "cell_type": "code",
   "execution_count": null,
   "metadata": {},
   "outputs": [],
   "source": []
  }
 ],
 "metadata": {
  "anaconda-cloud": {},
  "celltoolbar": "Slideshow",
  "extensions": {
   "jupyter_dashboards": {
    "activeView": "grid_default",
    "version": 1,
    "views": {
     "grid_default": {
      "cellMargin": 10,
      "defaultCellHeight": 20,
      "maxColumns": 12,
      "name": "grid",
      "type": "grid"
     },
     "report_default": {
      "name": "report",
      "type": "report"
     }
    }
   }
  },
  "kernelspec": {
   "display_name": "Python 3",
   "language": "python",
   "name": "python3"
  },
  "language_info": {
   "codemirror_mode": {
    "name": "ipython",
    "version": 3
   },
   "file_extension": ".py",
   "mimetype": "text/x-python",
   "name": "python",
   "nbconvert_exporter": "python",
   "pygments_lexer": "ipython3",
   "version": "3.7.4"
  },
  "nbpresent": {
   "slides": {
    "55d180ba-0930-42fc-aabe-01888b90a243": {
     "id": "55d180ba-0930-42fc-aabe-01888b90a243",
     "prev": "607bc274-b32c-4fdf-a281-6579a0c05139",
     "regions": {
      "1d63b5fb-525c-4de7-872e-c03d1632de8e": {
       "attrs": {
        "height": 0.8,
        "width": 0.8,
        "x": 0.1,
        "y": 0.1
       },
       "content": {
        "cell": "5861be26-b0f7-481c-9f5e-78f86aa42d90",
        "part": "whole"
       },
       "id": "1d63b5fb-525c-4de7-872e-c03d1632de8e"
      }
     }
    },
    "607bc274-b32c-4fdf-a281-6579a0c05139": {
     "id": "607bc274-b32c-4fdf-a281-6579a0c05139",
     "prev": null,
     "regions": {
      "b26163f9-9923-4885-872b-2afa2bd57d17": {
       "attrs": {
        "height": 0.8,
        "width": 0.8,
        "x": 0.1,
        "y": 0.1
       },
       "content": {
        "cell": "5aad16ff-20d7-4709-a46c-92143457bc4a",
        "part": "whole"
       },
       "id": "b26163f9-9923-4885-872b-2afa2bd57d17"
      }
     }
    },
    "6c7cef5b-9160-4b45-bb0f-e58a464ad9d2": {
     "id": "6c7cef5b-9160-4b45-bb0f-e58a464ad9d2",
     "prev": "aa5726a8-ba9e-4a4b-9b85-bd8bd9dc8bf9",
     "regions": {
      "49288199-6338-4636-b349-d4fb63bdaf8e": {
       "attrs": {
        "height": 0.8,
        "width": 0.8,
        "x": 0.1,
        "y": 0.1
       },
       "content": {
        "cell": "3e40f331-3e82-4c39-be42-29befb1a98c4",
        "part": "whole"
       },
       "id": "49288199-6338-4636-b349-d4fb63bdaf8e"
      }
     }
    },
    "aa5726a8-ba9e-4a4b-9b85-bd8bd9dc8bf9": {
     "id": "aa5726a8-ba9e-4a4b-9b85-bd8bd9dc8bf9",
     "prev": "f361ff9f-0b03-4f19-a1e1-26f9f3d142ee",
     "regions": {
      "5ec5fc4d-d1e6-4d46-b888-f652ec371a45": {
       "attrs": {
        "height": 0.8,
        "width": 0.8,
        "x": 0.1,
        "y": 0.1
       },
       "content": {
        "cell": "53c2d491-a9b4-41dd-a3a9-9de5b3d59ba5",
        "part": "whole"
       },
       "id": "5ec5fc4d-d1e6-4d46-b888-f652ec371a45"
      }
     }
    },
    "f361ff9f-0b03-4f19-a1e1-26f9f3d142ee": {
     "id": "f361ff9f-0b03-4f19-a1e1-26f9f3d142ee",
     "prev": "55d180ba-0930-42fc-aabe-01888b90a243",
     "regions": {
      "5712e779-d296-4ac4-8996-37a325717baf": {
       "attrs": {
        "height": 0.8,
        "width": 0.8,
        "x": 0.1,
        "y": 0.1
       },
       "content": {
        "cell": "792e55a4-8826-439b-a547-0c2302c58988",
        "part": "whole"
       },
       "id": "5712e779-d296-4ac4-8996-37a325717baf"
      }
     }
    }
   },
   "themes": {}
  }
 },
 "nbformat": 4,
 "nbformat_minor": 1
}
