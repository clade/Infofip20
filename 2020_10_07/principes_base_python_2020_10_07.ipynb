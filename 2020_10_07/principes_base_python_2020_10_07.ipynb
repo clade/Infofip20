{
 "cells": [
  {
   "cell_type": "markdown",
   "metadata": {},
   "source": [
    "# Objectifs du cours\n",
    "\n",
    "* Python 1 : Outils de bases pour les scientifiques\n",
    "* Python 2 : Programmation orientée objet. Projet informatique\n",
    "\n",
    "Python 1 : \n",
    "* Quelques bases de Python\n",
    "* Les tableaux numpy\n",
    "* Statistiques, ajustement de courbes\n",
    "* Transformée de Fourier\n",
    "* Equations différentielles"
   ]
  },
  {
   "cell_type": "markdown",
   "metadata": {
    "collapsed": true,
    "extensions": {
     "jupyter_dashboards": {
      "version": 1,
      "views": {
       "grid_default": {
        "col": 0,
        "height": 11,
        "hidden": false,
        "row": 10,
        "width": 12
       },
       "report_default": {}
      }
     }
    },
    "nbpresent": {
     "id": "3e40f331-3e82-4c39-be42-29befb1a98c4"
    },
    "slideshow": {
     "slide_type": "slide"
    }
   },
   "source": [
    "## Installation de Python\n",
    "\n",
    "* Il existe plusieurs interpréteurs open source de Python. Le principal est CPython\n",
    "* Il est fortement conseillé d'installer Anaconda et Python 3.8\n",
    "\n",
    "## Comment exécuter Python\n",
    "\n",
    "* Jupyter notebook : très pratique (compte rendu de TP, cours). Pas pour des projets\n",
    "* Spyder : éditeur de texte adapté à Python et l'environnement scientifique (à la matlab)\n",
    "* IPython (inclus dans spyder) : terminal interactif. Faire des essais avant de copier dans un programme\n",
    "* Console : interface graphique, test automatique, ..."
   ]
  },
  {
   "cell_type": "markdown",
   "metadata": {
    "extensions": {
     "jupyter_dashboards": {
      "version": 1,
      "views": {
       "grid_default": {
        "col": 0,
        "height": 5,
        "hidden": false,
        "row": 21,
        "width": 12
       },
       "report_default": {}
      }
     }
    },
    "slideshow": {
     "slide_type": "slide"
    }
   },
   "source": [
    "# Plan du cours\n",
    "\n",
    "Aujourd'hui : Bases de python. \n",
    "\n",
    "* Les types de bases de python\n",
    "* Structures de contrôle\n",
    "* Les fichiers\n",
    "* Les exceptions"
   ]
  },
  {
   "cell_type": "markdown",
   "metadata": {
    "slideshow": {
     "slide_type": "slide"
    }
   },
   "source": [
    "# Types de données"
   ]
  },
  {
   "cell_type": "markdown",
   "metadata": {
    "extensions": {
     "jupyter_dashboards": {
      "version": 1,
      "views": {
       "grid_default": {
        "col": 8,
        "height": 8,
        "hidden": false,
        "row": 47,
        "width": null
       },
       "report_default": {}
      }
     }
    },
    "slideshow": {
     "slide_type": "slide"
    }
   },
   "source": [
    "## Nombres\n",
    "\n",
    "* entiers : pas de limite de tailles\n",
    "* réels : flottant (float). Par défaut 64bits, précision relative de environ $10^{-15}$\n",
    "* Complexe : deux réels ; `a = 1 + 3J`\n",
    "* +, -, \\*, /, \\*\\* (puissance)\n",
    "* Modulo, division entière"
   ]
  },
  {
   "cell_type": "code",
   "execution_count": 3,
   "metadata": {
    "extensions": {
     "jupyter_dashboards": {
      "version": 1,
      "views": {
       "grid_default": {
        "hidden": true
       },
       "report_default": {}
      }
     }
    }
   },
   "outputs": [
    {
     "name": "stdout",
     "output_type": "stream",
     "text": [
      "44601490397061246283071436545296723011960832\n",
      "0.0\n",
      "3.0\n"
     ]
    }
   ],
   "source": [
    "print(2**145)\n",
    "\n",
    "x = 1\n",
    "print((x + 1E-16) - x)\n",
    "\n",
    "z = 1 + 3J\n",
    "print(z.imag)"
   ]
  },
  {
   "cell_type": "code",
   "execution_count": 4,
   "metadata": {},
   "outputs": [
    {
     "name": "stdout",
     "output_type": "stream",
     "text": [
      "1\n",
      "2\n"
     ]
    }
   ],
   "source": [
    "print(5%2)\n",
    "print(5//2)"
   ]
  },
  {
   "cell_type": "markdown",
   "metadata": {
    "extensions": {
     "jupyter_dashboards": {
      "version": 1,
      "views": {
       "grid_default": {
        "col": 0,
        "height": 5,
        "hidden": false,
        "row": 55,
        "width": 12
       },
       "report_default": {}
      }
     }
    },
    "slideshow": {
     "slide_type": "slide"
    }
   },
   "source": [
    "## Booléens \n",
    "\n",
    "* `True` et `False`\n",
    "* Comparaison : `>`, `>=`, `==`, `<=`,  `<`, `!=`\n",
    "* Opérations : and, or et not (attention aux priorités)\n",
    "* \"évaluation paresseuse\""
   ]
  },
  {
   "cell_type": "code",
   "execution_count": 7,
   "metadata": {
    "extensions": {
     "jupyter_dashboards": {
      "version": 1,
      "views": {
       "grid_default": {
        "hidden": true
       },
       "report_default": {}
      }
     }
    }
   },
   "outputs": [
    {
     "ename": "ValueError",
     "evalue": "math domain error",
     "output_type": "error",
     "traceback": [
      "\u001b[0;31m---------------------------------------------------------------------------\u001b[0m",
      "\u001b[0;31mValueError\u001b[0m                                Traceback (most recent call last)",
      "\u001b[0;32m<ipython-input-7-cf7ef908126a>\u001b[0m in \u001b[0;36m<module>\u001b[0;34m\u001b[0m\n\u001b[1;32m      7\u001b[0m \u001b[0;31m# else:\u001b[0m\u001b[0;34m\u001b[0m\u001b[0;34m\u001b[0m\u001b[0;34m\u001b[0m\u001b[0m\n\u001b[1;32m      8\u001b[0m \u001b[0;31m#    return False\u001b[0m\u001b[0;34m\u001b[0m\u001b[0;34m\u001b[0m\u001b[0;34m\u001b[0m\u001b[0m\n\u001b[0;32m----> 9\u001b[0;31m \u001b[0;34m(\u001b[0m\u001b[0mx\u001b[0m\u001b[0;34m>=\u001b[0m\u001b[0;36m0\u001b[0m\u001b[0;34m)\u001b[0m \u001b[0;34m&\u001b[0m\u001b[0;34m(\u001b[0m\u001b[0msqrt\u001b[0m\u001b[0;34m(\u001b[0m\u001b[0mx\u001b[0m\u001b[0;34m)\u001b[0m\u001b[0;34m>\u001b[0m\u001b[0;36m2\u001b[0m    \u001b[0;34m)\u001b[0m\u001b[0;34m\u001b[0m\u001b[0;34m\u001b[0m\u001b[0m\n\u001b[0m",
      "\u001b[0;31mValueError\u001b[0m: math domain error"
     ]
    }
   ],
   "source": [
    "from math import sqrt\n",
    "x = -1\n",
    "\n",
    "x>=0 and sqrt(x)>2\n",
    "#if x>0:\n",
    "#    return sqrt(x)\n",
    "# else:\n",
    "#    return False\n",
    "(x>=0) &(sqrt(x)>2)"
   ]
  },
  {
   "cell_type": "markdown",
   "metadata": {
    "extensions": {
     "jupyter_dashboards": {
      "version": 1,
      "views": {
       "grid_default": {
        "col": 4,
        "height": 4,
        "hidden": false,
        "row": 51,
        "width": 4
       },
       "report_default": {}
      }
     }
    },
    "slideshow": {
     "slide_type": "slide"
    }
   },
   "source": [
    "## Chaînes de caractères (str)\n",
    "* Plusieurs façon d'écrire une chaine : \", ', \"\"\", ''' .\n",
    "* Caractère spéciaux : \\\\n (retour à la ligne), \\\\t (tabulation)\n",
    "* Unicode\n",
    "* Concaténation \n",
    "* Quelques méthodes sur les chaînes\n",
    "* Formatage de chaîne de caractère"
   ]
  },
  {
   "cell_type": "code",
   "execution_count": 8,
   "metadata": {
    "extensions": {
     "jupyter_dashboards": {
      "version": 1,
      "views": {
       "grid_default": {
        "col": 0,
        "height": 4,
        "hidden": false,
        "row": 60,
        "width": 4
       },
       "report_default": {}
      }
     }
    }
   },
   "outputs": [
    {
     "name": "stdout",
     "output_type": "stream",
     "text": [
      "e\n",
      "err\n",
      "Bonjour Pierre\n"
     ]
    },
    {
     "data": {
      "text/plain": [
       "\"Aujourd'hui\""
      ]
     },
     "execution_count": 8,
     "metadata": {},
     "output_type": "execute_result"
    }
   ],
   "source": [
    "s0 = 'Bonjour'\n",
    "s1 = \"Pierre\"\n",
    "s2 = \"Aujourd'hui\"\n",
    "print(s1[2])\n",
    "print(s1[2:5])\n",
    "print(s0 + ' ' + s1) # Concaténation\n",
    "'Aujourd\\'hui'"
   ]
  },
  {
   "cell_type": "code",
   "execution_count": 9,
   "metadata": {},
   "outputs": [
    {
     "data": {
      "text/plain": [
       "'Une chaine\\nsur plusieurs \\nlignes'"
      ]
     },
     "execution_count": 9,
     "metadata": {},
     "output_type": "execute_result"
    }
   ],
   "source": [
    "s3 = \"\"\"Une chaine\n",
    "sur plusieurs \n",
    "lignes\"\"\"\n",
    "\n",
    "s3"
   ]
  },
  {
   "cell_type": "code",
   "execution_count": 10,
   "metadata": {},
   "outputs": [
    {
     "name": "stdout",
     "output_type": "stream",
     "text": [
      "Rayon γ\n",
      "Rayon γ\n"
     ]
    }
   ],
   "source": [
    "print(\"Rayon \\u03B3\")\n",
    "print(\"Rayon γ\")"
   ]
  },
  {
   "cell_type": "code",
   "execution_count": 11,
   "metadata": {},
   "outputs": [
    {
     "name": "stdout",
     "output_type": "stream",
     "text": [
      "Brnjrur\n",
      "['1', '2', '4', '3']\n",
      "True\n"
     ]
    }
   ],
   "source": [
    "# Quelques méthodes \n",
    "s = 'Bonjour'\n",
    "print(s.replace('o', 'r'))\n",
    "s = \"1;2;4;3\"\n",
    "print(s.split(';'))\n",
    "\n",
    "s = 'monfichier.txt'\n",
    "print(s.endswith('.txt'))"
   ]
  },
  {
   "cell_type": "markdown",
   "metadata": {},
   "source": [
    "### Formatage\n",
    "Mettre une variable dans une chaîne de caractère\n",
    "\n",
    "On utilise la méthode .format (ancienne syntaxe avec le %). On utilise des accolades. \n",
    "\n",
    "On peut préciser: \n",
    "* le nom de l'argument (keyword argument)\n",
    "* le type d'écriture : entier (d), virgule fixe (f), notation scientifique\n",
    "* la précision\n",
    "\n",
    "Exemple {name:8.3f} : \n",
    "* argument : name\n",
    "* virgule fixe\n",
    "* taille totale 8\n",
    "* 3 chiffres après la virgule\n",
    "\n"
   ]
  },
  {
   "cell_type": "code",
   "execution_count": 17,
   "metadata": {},
   "outputs": [
    {
     "name": "stdout",
     "output_type": "stream",
     "text": [
      "La valeur de pi est 3.1415927\n",
      "La vitesse de la lumière est c=1.230e+02 m/s\n",
      "La valeur de pi est 3.142\n"
     ]
    }
   ],
   "source": [
    "# Formatage \n",
    "from math import pi\n",
    "print('La valeur de pi est {:.7f}'.format(pi))\n",
    "\n",
    "c = 299792458\n",
    "print('La vitesse de la lumière est c={qqc:.3e} m/s'.format(qqc=123))\n",
    "\n",
    "# Format string\n",
    "print(f'La valeur de pi est {pi:.3f}')"
   ]
  },
  {
   "cell_type": "markdown",
   "metadata": {
    "extensions": {
     "jupyter_dashboards": {
      "version": 1,
      "views": {
       "grid_default": {
        "col": 0,
        "height": 6,
        "hidden": false,
        "row": 64,
        "width": 12
       },
       "report_default": {}
      }
     }
    },
    "slideshow": {
     "slide_type": "slide"
    }
   },
   "source": [
    "## Les listes\n",
    "\n",
    "* Elles peuvent contenir n'importe quel type de donnée\n",
    "* Les indices commencent par 0\n",
    "* Index négatif : par la fin (modulo la taille de la liste)\n",
    "* iterateur : par exemple `range`. "
   ]
  },
  {
   "cell_type": "code",
   "execution_count": 19,
   "metadata": {
    "extensions": {
     "jupyter_dashboards": {
      "version": 1,
      "views": {
       "grid_default": {
        "col": 4,
        "height": 4,
        "hidden": false,
        "row": 60,
        "width": 4
       },
       "report_default": {}
      }
     }
    }
   },
   "outputs": [
    {
     "name": "stdout",
     "output_type": "stream",
     "text": [
      "3.1415\n"
     ]
    },
    {
     "data": {
      "text/plain": [
       "['Pierre', 34, 3.1415, 25]"
      ]
     },
     "execution_count": 19,
     "metadata": {},
     "output_type": "execute_result"
    }
   ],
   "source": [
    "l = ['Pierre', 34, 3.1415]\n",
    "print(l[-1])\n",
    "l.append(25)\n",
    "l"
   ]
  },
  {
   "cell_type": "markdown",
   "metadata": {},
   "source": [
    "La méthode .append() modifie la liste. C'est toujours la même liste (comme on rajoute une page dans un classeur)."
   ]
  },
  {
   "cell_type": "code",
   "execution_count": 20,
   "metadata": {},
   "outputs": [
    {
     "data": {
      "text/plain": [
       "['Pierre', <function print>, 34, 3.1415, 25]"
      ]
     },
     "execution_count": 20,
     "metadata": {},
     "output_type": "execute_result"
    }
   ],
   "source": [
    "l.insert(1, print)\n",
    "l"
   ]
  },
  {
   "cell_type": "code",
   "execution_count": 21,
   "metadata": {},
   "outputs": [
    {
     "data": {
      "text/plain": [
       "['Pierre', <function print>, 34, 3.1415, 25, [...]]"
      ]
     },
     "execution_count": 21,
     "metadata": {},
     "output_type": "execute_result"
    }
   ],
   "source": [
    "l.append(l)\n",
    "l"
   ]
  },
  {
   "cell_type": "markdown",
   "metadata": {
    "extensions": {
     "jupyter_dashboards": {
      "version": 1,
      "views": {
       "grid_default": {
        "col": 0,
        "height": 5,
        "hidden": false,
        "row": 70,
        "width": 12
       },
       "report_default": {}
      }
     }
    },
    "slideshow": {
     "slide_type": "slide"
    }
   },
   "source": [
    "## Créer une liste à partir d'une autre liste\n",
    "\n",
    "* Boucle `for`\n",
    "* Liste comprehension []\n",
    "* `list.append` : méthode de l'objet liste"
   ]
  },
  {
   "cell_type": "code",
   "execution_count": 22,
   "metadata": {
    "extensions": {
     "jupyter_dashboards": {
      "version": 1,
      "views": {
       "grid_default": {
        "col": 8,
        "height": 4,
        "hidden": false,
        "row": 60,
        "width": 4
       },
       "report_default": {}
      }
     }
    }
   },
   "outputs": [
    {
     "name": "stdout",
     "output_type": "stream",
     "text": [
      "[1, 1156, 529, 4.0]\n"
     ]
    },
    {
     "data": {
      "text/plain": [
       "[1, 1156, 529, 4.0]"
      ]
     },
     "execution_count": 22,
     "metadata": {},
     "output_type": "execute_result"
    }
   ],
   "source": [
    "liste_initiale = [1, 34, 23, 2.]\n",
    "\n",
    "liste_finale = []\n",
    "for elm in liste_initiale:\n",
    "    liste_finale.append(elm**2)\n",
    "print(liste_finale)\n",
    "\n",
    "[elm**2 for elm in liste_initiale]"
   ]
  },
  {
   "cell_type": "markdown",
   "metadata": {},
   "source": [
    "## Parcourir une liste\n",
    "* ``for``\n",
    "* enumerate\n",
    "* zip"
   ]
  },
  {
   "cell_type": "code",
   "execution_count": 23,
   "metadata": {},
   "outputs": [
    {
     "name": "stdout",
     "output_type": "stream",
     "text": [
      "Dupont\n",
      "Martin\n",
      "Dubois\n",
      "Le nom numéro 0 est Dupont\n",
      "Le nom numéro 1 est Martin\n",
      "Le nom numéro 2 est Dubois\n"
     ]
    }
   ],
   "source": [
    "ma_liste = ['Dupont', 'Martin', 'Dubois']\n",
    "for name in ma_liste:\n",
    "    print(name)\n",
    "    \n",
    "for i, name in enumerate(ma_liste):\n",
    "    print(f'Le nom numéro {i} est {name}')"
   ]
  },
  {
   "cell_type": "code",
   "execution_count": 24,
   "metadata": {},
   "outputs": [
    {
     "name": "stdout",
     "output_type": "stream",
     "text": [
      "Dupont a 12 ans.\n",
      "Martin a 35 ans.\n",
      "Dubois a 23 ans.\n"
     ]
    }
   ],
   "source": [
    "liste_age = [12, 35, 23]\n",
    "for age, name in zip(liste_age, ma_liste):\n",
    "    print(f\"{name} a {age} ans.\")"
   ]
  },
  {
   "cell_type": "markdown",
   "metadata": {},
   "source": [
    "## Les n-uplets (tuples)\n",
    "* Comme les listes sauf que l'on ne peut pas les modifier\n",
    "* Défini avec des ()\n",
    "* Utilisé pour regroupé une nombre connu de données : (x, y, z)\n",
    "* Utilisé lorsqu'une fonction renvoie plusieurs valeurs"
   ]
  },
  {
   "cell_type": "code",
   "execution_count": 25,
   "metadata": {},
   "outputs": [
    {
     "name": "stdout",
     "output_type": "stream",
     "text": [
      "<class 'tuple'>\n",
      "2\n"
     ]
    }
   ],
   "source": [
    "def ma_fonction():\n",
    "    return 1, 2, 3\n",
    "\n",
    "a = ma_fonction()\n",
    "print(type(a))\n",
    "print(a[1])"
   ]
  },
  {
   "cell_type": "code",
   "execution_count": 26,
   "metadata": {},
   "outputs": [
    {
     "name": "stdout",
     "output_type": "stream",
     "text": [
      "2\n"
     ]
    }
   ],
   "source": [
    "a, b, c = (1, 2, 5)\n",
    "print(b)"
   ]
  },
  {
   "cell_type": "code",
   "execution_count": null,
   "metadata": {
    "extensions": {
     "jupyter_dashboards": {
      "version": 1,
      "views": {
       "grid_default": {
        "col": 0,
        "height": 4,
        "hidden": false,
        "row": 75,
        "width": 4
       },
       "report_default": {}
      }
     }
    }
   },
   "outputs": [],
   "source": []
  },
  {
   "cell_type": "markdown",
   "metadata": {},
   "source": [
    "## Les dictionnaires\n",
    "* Conteneur (comme les listes ou tuple)\n",
    "* Le contenu est indéxé par une clé qui est en général un nombre ou une chaine de caractère\n",
    "* Explicit is better than implicit (paramètre ou résultat d'une expérience)"
   ]
  },
  {
   "cell_type": "code",
   "execution_count": 28,
   "metadata": {},
   "outputs": [
    {
     "name": "stdout",
     "output_type": "stream",
     "text": [
      "100\n",
      "La valeur de N est 100\n",
      "La valeur de l est 30\n",
      "La valeur de h est 50\n",
      "La valeur de g est 9.81\n"
     ]
    }
   ],
   "source": [
    "parametres = {\"N\":100, 'l':30, \"h\":50, \"g\":9.81}\n",
    "print(parametres['N'])\n",
    "\n",
    "for key, val in parametres.items():\n",
    "    print(f'La valeur de {key} est {val}')"
   ]
  },
  {
   "cell_type": "code",
   "execution_count": 30,
   "metadata": {},
   "outputs": [
    {
     "name": "stdout",
     "output_type": "stream",
     "text": [
      "Dupont a 13 ans.\n",
      "Dupont a 13 ans\n",
      "Dubois a 34 ans.\n",
      "Dubois a 34 ans\n"
     ]
    }
   ],
   "source": [
    "personne_1 = {\"nom\":\"Dupont\", \"age\":13}\n",
    "personne_2 = {\"nom\":\"Dubois\", \"age\":34}\n",
    "\n",
    "annuaire = [personne_1, personne_2]\n",
    "\n",
    "for personne in annuaire : \n",
    "    print(f\"{personne['nom']} a {personne['age']} ans.\")\n",
    "    print('{} a {} ans'.format(personne['nom'], personne['age']))"
   ]
  },
  {
   "cell_type": "markdown",
   "metadata": {},
   "source": [
    "## Les ensembles\n",
    "* Comme en mathématiques : ne contient pas deux fois le même élément\n",
    "* Union |, intersection &"
   ]
  },
  {
   "cell_type": "code",
   "execution_count": 32,
   "metadata": {},
   "outputs": [
    {
     "name": "stdout",
     "output_type": "stream",
     "text": [
      "[9, 8, 5, 6, 5, 9, 4, 2, 5, 4, 9, 6, 9, 7, 5, 8, 7, 5, 7, 7, 7, 4, 6, 3, 7, 8, 2, 7, 7, 10, 6, 6, 2, 11, 8, 8, 4, 3, 3, 6, 7, 8, 10, 11, 5, 8, 8, 9, 5, 6, 7, 5, 7, 9, 5, 4, 9, 6, 3, 8, 4, 11, 2, 12, 8, 10, 7, 9, 10, 5, 6, 9, 8, 6, 3, 7, 12, 11, 7, 6, 7, 4, 8, 7, 10, 6, 7, 4, 10, 7, 11, 8, 4, 4, 8, 10, 8, 4, 4, 8]\n",
      "{2, 3, 4, 5, 6, 7, 8, 9, 10, 11, 12}\n",
      "Le nombre 2 est présent 4 fois\n",
      "Le nombre 3 est présent 5 fois\n",
      "Le nombre 4 est présent 12 fois\n",
      "Le nombre 5 est présent 10 fois\n",
      "Le nombre 6 est présent 12 fois\n",
      "Le nombre 7 est présent 18 fois\n",
      "Le nombre 8 est présent 16 fois\n",
      "Le nombre 9 est présent 9 fois\n",
      "Le nombre 10 est présent 7 fois\n",
      "Le nombre 11 est présent 5 fois\n",
      "Le nombre 12 est présent 2 fois\n"
     ]
    }
   ],
   "source": [
    "import random\n",
    "liste_aleatoire = [random.randint(1, 6) + random.randint(1, 6)\n",
    "                   for _ in range(100)]\n",
    "print(liste_aleatoire)\n",
    "print(set(liste_aleatoire))\n",
    "for val in set(liste_aleatoire):\n",
    "    count = liste_aleatoire.count(val)\n",
    "    print(f\"Le nombre {val} est présent {count} fois\")"
   ]
  },
  {
   "cell_type": "code",
   "execution_count": 35,
   "metadata": {},
   "outputs": [
    {
     "data": {
      "text/plain": [
       "{1, 2, 3, 45}"
      ]
     },
     "execution_count": 35,
     "metadata": {},
     "output_type": "execute_result"
    }
   ],
   "source": [
    "s = {1, 2, 3}\n",
    "s.add(45)\n",
    "s"
   ]
  },
  {
   "cell_type": "markdown",
   "metadata": {
    "extensions": {
     "jupyter_dashboards": {
      "version": 1,
      "views": {
       "grid_default": {
        "col": 0,
        "height": 6,
        "hidden": false,
        "row": 36,
        "width": 12
       },
       "report_default": {}
      }
     }
    },
    "slideshow": {
     "slide_type": "slide"
    }
   },
   "source": [
    "# Structures de contrôle\n",
    "\n",
    "## Boucles \n",
    "* while\n",
    "* for (voir les listes)\n",
    "\n",
    "## Tests \n",
    "* if, elif, else\n",
    "\n",
    "## Fonctions \n",
    "\n",
    "```\n",
    "def nom_fonction(arg1, arg2, ...):\n",
    "       ...\n",
    "       return out1, out2\n",
    "```\n",
    "\n",
    "* Argument optionel, argument nommé\n",
    "* Il peut y avoir plusieurs return au sein d'une fonction\n",
    "* Documentation ≠ commentaire\n",
    "* Une fonction qui ne renvoie rien renvoie None\n",
    "* Utilsation d'un nombre arbitraire d'arguments (\\*args, \\*\\*kwd)\n",
    "* Utiliser plusieurs arguments dans un même conteneur"
   ]
  },
  {
   "cell_type": "code",
   "execution_count": 37,
   "metadata": {
    "extensions": {
     "jupyter_dashboards": {
      "version": 1,
      "views": {
       "grid_default": {
        "hidden": true
       },
       "report_default": {}
      }
     }
    },
    "slideshow": {
     "slide_type": "-"
    }
   },
   "outputs": [
    {
     "name": "stdout",
     "output_type": "stream",
     "text": [
      "16.33233896115782\n",
      "8.166169911612336\n",
      "8.16616948057891\n"
     ]
    },
    {
     "data": {
      "text/plain": [
       "2.7182818282861687"
      ]
     },
     "execution_count": 37,
     "metadata": {},
     "output_type": "execute_result"
    }
   ],
   "source": [
    "def exponentielle(x, precision=1E-9):\n",
    "    \"\"\" Calcule e**x\n",
    "    \n",
    "    Utilise le dl sum(x**n/n!)\n",
    "    \n",
    "    Arguments : \n",
    "        x : nombre dont on calcule exp\n",
    "        precision : precision du calcul\n",
    "    \"\"\"\n",
    "    result = 0\n",
    "    n = 1\n",
    "    term = 1 # Initial value\n",
    "    while abs(term)>precision :\n",
    "        result = result + term\n",
    "        term = term * x/n\n",
    "        n = n+1\n",
    "    return result\n",
    "    \n",
    "print(2*exponentielle(2.1, 1E-6))\n",
    "print(exponentielle(2.1))\n",
    "print(exponentielle(2.1, precision=1E-6))\n",
    "exponentielle(1)"
   ]
  },
  {
   "cell_type": "code",
   "execution_count": 41,
   "metadata": {},
   "outputs": [],
   "source": [
    "print?"
   ]
  },
  {
   "cell_type": "code",
   "execution_count": 39,
   "metadata": {},
   "outputs": [
    {
     "data": {
      "text/plain": [
       "10"
      ]
     },
     "execution_count": 39,
     "metadata": {},
     "output_type": "execute_result"
    }
   ],
   "source": [
    "def f(a, b, c):\n",
    "    return 3*a + 2*b + c\n",
    "\n",
    "f(1, c=3, b=2)"
   ]
  },
  {
   "cell_type": "code",
   "execution_count": 42,
   "metadata": {},
   "outputs": [
    {
     "name": "stdout",
     "output_type": "stream",
     "text": [
      "10\n",
      "None\n"
     ]
    }
   ],
   "source": [
    "def afficher(x):\n",
    "    print(x)\n",
    "    \n",
    "a = afficher(10)\n",
    "print(a)"
   ]
  },
  {
   "cell_type": "code",
   "execution_count": 43,
   "metadata": {},
   "outputs": [
    {
     "ename": "TypeError",
     "evalue": "unsupported operand type(s) for *: 'int' and 'NoneType'",
     "output_type": "error",
     "traceback": [
      "\u001b[0;31m---------------------------------------------------------------------------\u001b[0m",
      "\u001b[0;31mTypeError\u001b[0m                                 Traceback (most recent call last)",
      "\u001b[0;32m<ipython-input-43-31081ebb280f>\u001b[0m in \u001b[0;36m<module>\u001b[0;34m\u001b[0m\n\u001b[1;32m      2\u001b[0m     \u001b[0mres\u001b[0m \u001b[0;34m=\u001b[0m \u001b[0mx\u001b[0m \u001b[0;34m+\u001b[0m \u001b[0my\u001b[0m \u001b[0;34m+\u001b[0m \u001b[0mz\u001b[0m\u001b[0;34m\u001b[0m\u001b[0;34m\u001b[0m\u001b[0m\n\u001b[1;32m      3\u001b[0m \u001b[0;34m\u001b[0m\u001b[0m\n\u001b[0;32m----> 4\u001b[0;31m \u001b[0;36m2\u001b[0m\u001b[0;34m*\u001b[0m\u001b[0mun_calcul_complique\u001b[0m\u001b[0;34m(\u001b[0m\u001b[0;36m1\u001b[0m\u001b[0;34m,\u001b[0m \u001b[0;36m3\u001b[0m\u001b[0;34m,\u001b[0m \u001b[0;36m4\u001b[0m\u001b[0;34m)\u001b[0m\u001b[0;34m\u001b[0m\u001b[0;34m\u001b[0m\u001b[0m\n\u001b[0m",
      "\u001b[0;31mTypeError\u001b[0m: unsupported operand type(s) for *: 'int' and 'NoneType'"
     ]
    }
   ],
   "source": [
    "def un_calcul_complique(x, y, z):\n",
    "    res = x + y + z\n",
    "    \n",
    "2*un_calcul_complique(1, 3, 4)    "
   ]
  },
  {
   "cell_type": "markdown",
   "metadata": {},
   "source": []
  },
  {
   "cell_type": "code",
   "execution_count": 44,
   "metadata": {},
   "outputs": [
    {
     "name": "stdout",
     "output_type": "stream",
     "text": [
      "1\n",
      "4\n",
      "(5, 2)\n",
      "{'coucou': 'bonjour', 'alpha': 14}\n"
     ]
    }
   ],
   "source": [
    "def f(a, b, *args, **kwd):\n",
    "    print(a)\n",
    "    print(b)\n",
    "    print(args)\n",
    "    print(kwd)\n",
    "    \n",
    "f(1, 4, 5, 2, coucou='bonjour', alpha=14)"
   ]
  },
  {
   "cell_type": "code",
   "execution_count": 45,
   "metadata": {},
   "outputs": [
    {
     "name": "stdout",
     "output_type": "stream",
     "text": [
      "11\n",
      "11\n"
     ]
    }
   ],
   "source": [
    "def f(x, a, b, c):\n",
    "    return a*x**2 + b*x + c\n",
    "\n",
    "params = (1, 4, 6)\n",
    "print(f(1, *params))\n",
    "\n",
    "params = {\"a\":1, \"b\":4, \"c\":6} #explicit is better than implicit!\n",
    "print(f(1, **params))"
   ]
  },
  {
   "cell_type": "code",
   "execution_count": 47,
   "metadata": {},
   "outputs": [
    {
     "name": "stdout",
     "output_type": "stream",
     "text": [
      "11\n"
     ]
    }
   ],
   "source": [
    "def f(x, a, b, c, **kwd):\n",
    "    return a*x**2 + b*x + c\n",
    "\n",
    "params = {\"a\":1, \"b\":4, \"c\":6, \"d\":4} #explicit is better than implicit!\n",
    "print(f(1, **params))"
   ]
  },
  {
   "cell_type": "markdown",
   "metadata": {},
   "source": [
    "### Fonctions anonymes \n",
    "` lambda arg1, arg2 : expr`"
   ]
  },
  {
   "cell_type": "code",
   "execution_count": 49,
   "metadata": {},
   "outputs": [
    {
     "data": {
      "text/plain": [
       "6"
      ]
     },
     "execution_count": 49,
     "metadata": {},
     "output_type": "execute_result"
    }
   ],
   "source": [
    "(lambda a, b, c:a+b+c)(1, 2, 3)"
   ]
  },
  {
   "cell_type": "code",
   "execution_count": null,
   "metadata": {},
   "outputs": [],
   "source": [
    "#derive(lambda x:x**2, x=2)\n",
    "# integre(lambda x:x**2, 0, 1)"
   ]
  },
  {
   "cell_type": "code",
   "execution_count": null,
   "metadata": {},
   "outputs": [],
   "source": []
  },
  {
   "cell_type": "code",
   "execution_count": null,
   "metadata": {},
   "outputs": [],
   "source": []
  },
  {
   "cell_type": "markdown",
   "metadata": {
    "extensions": {
     "jupyter_dashboards": {
      "version": 1,
      "views": {
       "grid_default": {
        "col": 0,
        "height": 5,
        "hidden": false,
        "row": 79,
        "width": 12
       },
       "report_default": {}
      }
     }
    },
    "slideshow": {
     "slide_type": "slide"
    }
   },
   "source": [
    "# Modules en Python\n",
    "\n",
    "* Les modules sont des fichiers dont on peut importer les objets (en général des fonctions) qui y sont définis. \n",
    "* Un module peut contenir d'autre modules\n",
    "* Modules standards (ex: math)"
   ]
  },
  {
   "cell_type": "code",
   "execution_count": 50,
   "metadata": {
    "extensions": {
     "jupyter_dashboards": {
      "version": 1,
      "views": {
       "grid_default": {
        "col": 4,
        "height": 4,
        "hidden": false,
        "row": 75,
        "width": 4
       },
       "report_default": {}
      }
     }
    }
   },
   "outputs": [
    {
     "data": {
      "text/plain": [
       "8.166169912567652"
      ]
     },
     "execution_count": 50,
     "metadata": {},
     "output_type": "execute_result"
    }
   ],
   "source": [
    "from math import exp\n",
    "exp(2.1)"
   ]
  },
  {
   "cell_type": "code",
   "execution_count": 51,
   "metadata": {
    "extensions": {
     "jupyter_dashboards": {
      "version": 1,
      "views": {
       "grid_default": {
        "col": 8,
        "height": 4,
        "hidden": false,
        "row": 75,
        "width": 4
       },
       "report_default": {}
      }
     }
    }
   },
   "outputs": [
    {
     "data": {
      "text/plain": [
       "2.718281828459045"
      ]
     },
     "execution_count": 51,
     "metadata": {},
     "output_type": "execute_result"
    }
   ],
   "source": [
    "import math\n",
    "math.exp(1)"
   ]
  },
  {
   "cell_type": "code",
   "execution_count": null,
   "metadata": {
    "extensions": {
     "jupyter_dashboards": {
      "version": 1,
      "views": {
       "grid_default": {
        "col": 0,
        "height": 4,
        "hidden": false,
        "row": 84,
        "width": 4
       },
       "report_default": {}
      }
     }
    }
   },
   "outputs": [],
   "source": [
    "# Syntaxe à éviter\n",
    "from math import *\n",
    "sin(pi/4)"
   ]
  },
  {
   "cell_type": "code",
   "execution_count": null,
   "metadata": {},
   "outputs": [],
   "source": [
    "# Donner un nom plus simple\n",
    "# Eviter sauf si tout le monde le fait\n",
    "import numpy as np"
   ]
  },
  {
   "cell_type": "markdown",
   "metadata": {
    "extensions": {
     "jupyter_dashboards": {
      "version": 1,
      "views": {
       "grid_default": {
        "col": 0,
        "height": 6,
        "hidden": false,
        "row": 88,
        "width": 12
       },
       "report_default": {}
      }
     }
    },
    "slideshow": {
     "slide_type": "slide"
    }
   },
   "source": [
    "# Langage orienté objet\n",
    "\n",
    "* Tout en Python est object\n",
    "* Un objet contient des données \n",
    "* La classe d'un objet défini ce qu'est l'objet\n",
    "* La classe défini des fonctions qui permettent d'utiliser les données de l'objet ou de le modifier. Ce sont des méthodes\n",
    "\n",
    "Exemples : \n",
    "* liste, nombre complexe\n",
    "* Tableaux numpy\n",
    "* Oscilloscope"
   ]
  },
  {
   "cell_type": "code",
   "execution_count": 52,
   "metadata": {
    "extensions": {
     "jupyter_dashboards": {
      "version": 1,
      "views": {
       "grid_default": {
        "col": 4,
        "height": 4,
        "hidden": false,
        "row": 84,
        "width": 4
       },
       "report_default": {}
      }
     }
    }
   },
   "outputs": [
    {
     "name": "stdout",
     "output_type": "stream",
     "text": [
      "4\n"
     ]
    },
    {
     "data": {
      "text/plain": [
       "(1-2j)"
      ]
     },
     "execution_count": 52,
     "metadata": {},
     "output_type": "execute_result"
    }
   ],
   "source": [
    "l = [5,4,1,2]\n",
    "l.insert(1, 'coucou') # modification de l'objet\n",
    "print(l.index(2))\n",
    "z = 1 + 2J\n",
    "z.real # attribut de l'objet\n",
    "z.conjugate() # methode qui renvoie un nouvel objet"
   ]
  },
  {
   "cell_type": "code",
   "execution_count": 53,
   "metadata": {},
   "outputs": [
    {
     "name": "stdout",
     "output_type": "stream",
     "text": [
      "45\n"
     ]
    }
   ],
   "source": [
    "a = [1, 2, 3]\n",
    "b = a\n",
    "a.insert(0, 45)\n",
    "print(b[0])"
   ]
  },
  {
   "cell_type": "code",
   "execution_count": 54,
   "metadata": {},
   "outputs": [
    {
     "name": "stdout",
     "output_type": "stream",
     "text": [
      "1\n"
     ]
    }
   ],
   "source": [
    "a = [1, 2, 4]\n",
    "b = a\n",
    "a = 'Bonjour'\n",
    "print(b[0])"
   ]
  },
  {
   "cell_type": "code",
   "execution_count": null,
   "metadata": {},
   "outputs": [],
   "source": []
  },
  {
   "cell_type": "markdown",
   "metadata": {},
   "source": [
    "## Variables globales/locales\n",
    "* Dans une fonction, une variable est soit globale soit locale\n",
    "* Si on assigne un objet à une variable dans une fonction, elle est automatiquement locale\n",
    "* Modifier une liste ne rend pas la liste locale\n",
    "* L'instrution `global` ne doit **jamais** être utilisée (sauf cas exceptionels)"
   ]
  },
  {
   "cell_type": "code",
   "execution_count": 55,
   "metadata": {},
   "outputs": [
    {
     "name": "stdout",
     "output_type": "stream",
     "text": [
      "1\n",
      "3\n"
     ]
    }
   ],
   "source": [
    "x = 1\n",
    "def f1():\n",
    "    print(x)\n",
    "f1()\n",
    "x = 3\n",
    "f1()"
   ]
  },
  {
   "cell_type": "code",
   "execution_count": 57,
   "metadata": {},
   "outputs": [
    {
     "name": "stdout",
     "output_type": "stream",
     "text": [
      "4\n"
     ]
    }
   ],
   "source": [
    "def f2(x):\n",
    "    print(x)\n",
    "f2(4)"
   ]
  },
  {
   "cell_type": "code",
   "execution_count": 58,
   "metadata": {},
   "outputs": [
    {
     "name": "stdout",
     "output_type": "stream",
     "text": [
      "4\n"
     ]
    }
   ],
   "source": [
    "    \n",
    "def f3():\n",
    "    x = 4\n",
    "    print(x)\n",
    "f3()"
   ]
  },
  {
   "cell_type": "code",
   "execution_count": 59,
   "metadata": {},
   "outputs": [
    {
     "ename": "UnboundLocalError",
     "evalue": "local variable 'x' referenced before assignment",
     "output_type": "error",
     "traceback": [
      "\u001b[0;31m---------------------------------------------------------------------------\u001b[0m",
      "\u001b[0;31mUnboundLocalError\u001b[0m                         Traceback (most recent call last)",
      "\u001b[0;32m<ipython-input-59-1bfa6a49a868>\u001b[0m in \u001b[0;36m<module>\u001b[0;34m\u001b[0m\n\u001b[1;32m      4\u001b[0m     \u001b[0mx\u001b[0m \u001b[0;34m=\u001b[0m \u001b[0;36m4\u001b[0m\u001b[0;34m\u001b[0m\u001b[0;34m\u001b[0m\u001b[0m\n\u001b[1;32m      5\u001b[0m     \u001b[0mprint\u001b[0m\u001b[0;34m(\u001b[0m\u001b[0mx\u001b[0m\u001b[0;34m)\u001b[0m\u001b[0;34m\u001b[0m\u001b[0;34m\u001b[0m\u001b[0m\n\u001b[0;32m----> 6\u001b[0;31m \u001b[0mf4\u001b[0m\u001b[0;34m(\u001b[0m\u001b[0;34m)\u001b[0m\u001b[0;34m\u001b[0m\u001b[0;34m\u001b[0m\u001b[0m\n\u001b[0m",
      "\u001b[0;32m<ipython-input-59-1bfa6a49a868>\u001b[0m in \u001b[0;36mf4\u001b[0;34m()\u001b[0m\n\u001b[1;32m      1\u001b[0m \u001b[0mx\u001b[0m \u001b[0;34m=\u001b[0m \u001b[0;36m2\u001b[0m\u001b[0;34m\u001b[0m\u001b[0;34m\u001b[0m\u001b[0m\n\u001b[1;32m      2\u001b[0m \u001b[0;32mdef\u001b[0m \u001b[0mf4\u001b[0m\u001b[0;34m(\u001b[0m\u001b[0;34m)\u001b[0m\u001b[0;34m:\u001b[0m\u001b[0;34m\u001b[0m\u001b[0;34m\u001b[0m\u001b[0m\n\u001b[0;32m----> 3\u001b[0;31m     \u001b[0mprint\u001b[0m\u001b[0;34m(\u001b[0m\u001b[0mx\u001b[0m\u001b[0;34m)\u001b[0m\u001b[0;34m\u001b[0m\u001b[0;34m\u001b[0m\u001b[0m\n\u001b[0m\u001b[1;32m      4\u001b[0m     \u001b[0mx\u001b[0m \u001b[0;34m=\u001b[0m \u001b[0;36m4\u001b[0m\u001b[0;34m\u001b[0m\u001b[0;34m\u001b[0m\u001b[0m\n\u001b[1;32m      5\u001b[0m     \u001b[0mprint\u001b[0m\u001b[0;34m(\u001b[0m\u001b[0mx\u001b[0m\u001b[0;34m)\u001b[0m\u001b[0;34m\u001b[0m\u001b[0;34m\u001b[0m\u001b[0m\n",
      "\u001b[0;31mUnboundLocalError\u001b[0m: local variable 'x' referenced before assignment"
     ]
    }
   ],
   "source": [
    "x = 2   \n",
    "def f4():\n",
    "    print(x)\n",
    "    x = 4\n",
    "    print(x)\n",
    "f4()"
   ]
  },
  {
   "cell_type": "markdown",
   "metadata": {},
   "source": [
    "Les variables globales doivent être constantes : \n",
    "* Constantes numériques\n",
    "* Autres objets : fonctions, modules, ..."
   ]
  },
  {
   "cell_type": "code",
   "execution_count": 60,
   "metadata": {},
   "outputs": [],
   "source": [
    "from math import sin, pi\n",
    "\n",
    "def ma_fonction(x):\n",
    "    if x==0:\n",
    "        return 1\n",
    "    return sin(pi*x)/(pi*x)\n",
    "\n",
    "\n"
   ]
  },
  {
   "cell_type": "code",
   "execution_count": null,
   "metadata": {},
   "outputs": [],
   "source": []
  },
  {
   "cell_type": "code",
   "execution_count": null,
   "metadata": {},
   "outputs": [],
   "source": []
  },
  {
   "cell_type": "markdown",
   "metadata": {},
   "source": [
    "# Les exceptions (erreurs)\n",
    "* Il faut toujours lire et comprendre les erreurs\n",
    "* En général python indique toujours l'endroit où se trouve l'erreur\n",
    "* Sauf pour les \"syntax error\""
   ]
  },
  {
   "cell_type": "code",
   "execution_count": null,
   "metadata": {},
   "outputs": [],
   "source": []
  },
  {
   "cell_type": "markdown",
   "metadata": {},
   "source": [
    "## Créer sa propre erreur\n",
    "* raise Exception('Un message')\n",
    "* Ne pas utiliser print(message)\n",
    "* try: except"
   ]
  },
  {
   "cell_type": "code",
   "execution_count": 61,
   "metadata": {},
   "outputs": [
    {
     "name": "stdout",
     "output_type": "stream",
     "text": [
      "0.10545470031833197\n"
     ]
    },
    {
     "ename": "Exception",
     "evalue": "La balle ne touche pas le plafond",
     "output_type": "error",
     "traceback": [
      "\u001b[0;31m---------------------------------------------------------------------------\u001b[0m",
      "\u001b[0;31mException\u001b[0m                                 Traceback (most recent call last)",
      "\u001b[0;32m<ipython-input-61-d41ab9e67048>\u001b[0m in \u001b[0;36m<module>\u001b[0;34m\u001b[0m\n\u001b[1;32m      9\u001b[0m \u001b[0;34m\u001b[0m\u001b[0m\n\u001b[1;32m     10\u001b[0m \u001b[0mprint\u001b[0m\u001b[0;34m(\u001b[0m\u001b[0mtemps_arrivee\u001b[0m\u001b[0;34m(\u001b[0m\u001b[0mh\u001b[0m\u001b[0;34m=\u001b[0m\u001b[0;36m1\u001b[0m\u001b[0;34m,\u001b[0m \u001b[0mv_0\u001b[0m\u001b[0;34m=\u001b[0m\u001b[0;36m10\u001b[0m\u001b[0;34m)\u001b[0m\u001b[0;34m)\u001b[0m\u001b[0;34m\u001b[0m\u001b[0;34m\u001b[0m\u001b[0m\n\u001b[0;32m---> 11\u001b[0;31m \u001b[0mprint\u001b[0m\u001b[0;34m(\u001b[0m\u001b[0mtemps_arrivee\u001b[0m\u001b[0;34m(\u001b[0m\u001b[0mh\u001b[0m\u001b[0;34m=\u001b[0m\u001b[0;36m1\u001b[0m\u001b[0;34m,\u001b[0m \u001b[0mv_0\u001b[0m\u001b[0;34m=\u001b[0m\u001b[0;36m1\u001b[0m\u001b[0;34m)\u001b[0m\u001b[0;34m)\u001b[0m\u001b[0;34m\u001b[0m\u001b[0;34m\u001b[0m\u001b[0m\n\u001b[0m",
      "\u001b[0;32m<ipython-input-61-d41ab9e67048>\u001b[0m in \u001b[0;36mtemps_arrivee\u001b[0;34m(h, v_0, g)\u001b[0m\n\u001b[1;32m      5\u001b[0m     \u001b[0mDelta\u001b[0m \u001b[0;34m=\u001b[0m \u001b[0mv_0\u001b[0m\u001b[0;34m**\u001b[0m\u001b[0;36m2\u001b[0m \u001b[0;34m-\u001b[0m \u001b[0;36m2\u001b[0m\u001b[0;34m*\u001b[0m\u001b[0mg\u001b[0m\u001b[0;34m*\u001b[0m\u001b[0mh\u001b[0m\u001b[0;34m\u001b[0m\u001b[0;34m\u001b[0m\u001b[0m\n\u001b[1;32m      6\u001b[0m     \u001b[0;32mif\u001b[0m \u001b[0mDelta\u001b[0m\u001b[0;34m<\u001b[0m\u001b[0;36m0\u001b[0m\u001b[0;34m:\u001b[0m\u001b[0;34m\u001b[0m\u001b[0;34m\u001b[0m\u001b[0m\n\u001b[0;32m----> 7\u001b[0;31m         \u001b[0;32mraise\u001b[0m \u001b[0mException\u001b[0m\u001b[0;34m(\u001b[0m\u001b[0;34m\"La balle ne touche pas le plafond\"\u001b[0m\u001b[0;34m)\u001b[0m\u001b[0;34m\u001b[0m\u001b[0;34m\u001b[0m\u001b[0m\n\u001b[0m\u001b[1;32m      8\u001b[0m     \u001b[0;32mreturn\u001b[0m \u001b[0;34m(\u001b[0m\u001b[0mv_0\u001b[0m \u001b[0;34m-\u001b[0m \u001b[0msqrt\u001b[0m\u001b[0;34m(\u001b[0m\u001b[0mDelta\u001b[0m\u001b[0;34m)\u001b[0m\u001b[0;34m)\u001b[0m\u001b[0;34m/\u001b[0m\u001b[0mg\u001b[0m\u001b[0;34m\u001b[0m\u001b[0;34m\u001b[0m\u001b[0m\n\u001b[1;32m      9\u001b[0m \u001b[0;34m\u001b[0m\u001b[0m\n",
      "\u001b[0;31mException\u001b[0m: La balle ne touche pas le plafond"
     ]
    }
   ],
   "source": [
    "# On lance une balle à la vitesse v_0 vers le haut\n",
    "# Calculer le temps pour arriver au plafond de hauteur h\n",
    "from math import sqrt\n",
    "def temps_arrivee(h, v_0, g=9.81):\n",
    "    Delta = v_0**2 - 2*g*h\n",
    "    if Delta<0:\n",
    "        raise Exception(\"La balle ne touche pas le plafond\")\n",
    "    return (v_0 - sqrt(Delta))/g\n",
    "\n",
    "print(temps_arrivee(h=1, v_0=10))\n",
    "print(temps_arrivee(h=1, v_0=1))"
   ]
  },
  {
   "cell_type": "code",
   "execution_count": 62,
   "metadata": {},
   "outputs": [
    {
     "name": "stdout",
     "output_type": "stream",
     "text": [
      "0.10545470031833197\n"
     ]
    },
    {
     "ename": "Exception",
     "evalue": "La balle ne touche pas le plafond",
     "output_type": "error",
     "traceback": [
      "\u001b[0;31m---------------------------------------------------------------------------\u001b[0m",
      "\u001b[0;31mValueError\u001b[0m                                Traceback (most recent call last)",
      "\u001b[0;32m<ipython-input-62-3a03f4968e75>\u001b[0m in \u001b[0;36mtemps_arrivee\u001b[0;34m(h, v_0, g)\u001b[0m\n\u001b[1;32m      4\u001b[0m     \u001b[0;32mtry\u001b[0m\u001b[0;34m:\u001b[0m\u001b[0;34m\u001b[0m\u001b[0;34m\u001b[0m\u001b[0m\n\u001b[0;32m----> 5\u001b[0;31m         \u001b[0;32mreturn\u001b[0m \u001b[0;34m(\u001b[0m\u001b[0mv_0\u001b[0m \u001b[0;34m-\u001b[0m \u001b[0msqrt\u001b[0m\u001b[0;34m(\u001b[0m\u001b[0mDelta\u001b[0m\u001b[0;34m)\u001b[0m\u001b[0;34m)\u001b[0m\u001b[0;34m/\u001b[0m\u001b[0mg\u001b[0m\u001b[0;34m\u001b[0m\u001b[0;34m\u001b[0m\u001b[0m\n\u001b[0m\u001b[1;32m      6\u001b[0m     \u001b[0;32mexcept\u001b[0m \u001b[0mValueError\u001b[0m\u001b[0;34m:\u001b[0m\u001b[0;34m\u001b[0m\u001b[0;34m\u001b[0m\u001b[0m\n",
      "\u001b[0;31mValueError\u001b[0m: math domain error",
      "\nDuring handling of the above exception, another exception occurred:\n",
      "\u001b[0;31mException\u001b[0m                                 Traceback (most recent call last)",
      "\u001b[0;32m<ipython-input-62-3a03f4968e75>\u001b[0m in \u001b[0;36m<module>\u001b[0;34m\u001b[0m\n\u001b[1;32m      7\u001b[0m         \u001b[0;32mraise\u001b[0m \u001b[0mException\u001b[0m\u001b[0;34m(\u001b[0m\u001b[0;34m\"La balle ne touche pas le plafond\"\u001b[0m\u001b[0;34m)\u001b[0m\u001b[0;34m\u001b[0m\u001b[0;34m\u001b[0m\u001b[0m\n\u001b[1;32m      8\u001b[0m \u001b[0mprint\u001b[0m\u001b[0;34m(\u001b[0m\u001b[0mtemps_arrivee\u001b[0m\u001b[0;34m(\u001b[0m\u001b[0;36m1\u001b[0m\u001b[0;34m,\u001b[0m \u001b[0;36m10\u001b[0m\u001b[0;34m)\u001b[0m\u001b[0;34m)\u001b[0m\u001b[0;34m\u001b[0m\u001b[0;34m\u001b[0m\u001b[0m\n\u001b[0;32m----> 9\u001b[0;31m \u001b[0mprint\u001b[0m\u001b[0;34m(\u001b[0m\u001b[0mtemps_arrivee\u001b[0m\u001b[0;34m(\u001b[0m\u001b[0;36m1\u001b[0m\u001b[0;34m,\u001b[0m \u001b[0;36m1\u001b[0m\u001b[0;34m)\u001b[0m\u001b[0;34m)\u001b[0m\u001b[0;34m\u001b[0m\u001b[0;34m\u001b[0m\u001b[0m\n\u001b[0m",
      "\u001b[0;32m<ipython-input-62-3a03f4968e75>\u001b[0m in \u001b[0;36mtemps_arrivee\u001b[0;34m(h, v_0, g)\u001b[0m\n\u001b[1;32m      5\u001b[0m         \u001b[0;32mreturn\u001b[0m \u001b[0;34m(\u001b[0m\u001b[0mv_0\u001b[0m \u001b[0;34m-\u001b[0m \u001b[0msqrt\u001b[0m\u001b[0;34m(\u001b[0m\u001b[0mDelta\u001b[0m\u001b[0;34m)\u001b[0m\u001b[0;34m)\u001b[0m\u001b[0;34m/\u001b[0m\u001b[0mg\u001b[0m\u001b[0;34m\u001b[0m\u001b[0;34m\u001b[0m\u001b[0m\n\u001b[1;32m      6\u001b[0m     \u001b[0;32mexcept\u001b[0m \u001b[0mValueError\u001b[0m\u001b[0;34m:\u001b[0m\u001b[0;34m\u001b[0m\u001b[0;34m\u001b[0m\u001b[0m\n\u001b[0;32m----> 7\u001b[0;31m         \u001b[0;32mraise\u001b[0m \u001b[0mException\u001b[0m\u001b[0;34m(\u001b[0m\u001b[0;34m\"La balle ne touche pas le plafond\"\u001b[0m\u001b[0;34m)\u001b[0m\u001b[0;34m\u001b[0m\u001b[0;34m\u001b[0m\u001b[0m\n\u001b[0m\u001b[1;32m      8\u001b[0m \u001b[0mprint\u001b[0m\u001b[0;34m(\u001b[0m\u001b[0mtemps_arrivee\u001b[0m\u001b[0;34m(\u001b[0m\u001b[0;36m1\u001b[0m\u001b[0;34m,\u001b[0m \u001b[0;36m10\u001b[0m\u001b[0;34m)\u001b[0m\u001b[0;34m)\u001b[0m\u001b[0;34m\u001b[0m\u001b[0;34m\u001b[0m\u001b[0m\n\u001b[1;32m      9\u001b[0m \u001b[0mprint\u001b[0m\u001b[0;34m(\u001b[0m\u001b[0mtemps_arrivee\u001b[0m\u001b[0;34m(\u001b[0m\u001b[0;36m1\u001b[0m\u001b[0;34m,\u001b[0m \u001b[0;36m1\u001b[0m\u001b[0;34m)\u001b[0m\u001b[0;34m)\u001b[0m\u001b[0;34m\u001b[0m\u001b[0;34m\u001b[0m\u001b[0m\n",
      "\u001b[0;31mException\u001b[0m: La balle ne touche pas le plafond"
     ]
    }
   ],
   "source": [
    "from math import sqrt\n",
    "def temps_arrivee(h, v_0, g=9.81):\n",
    "    Delta = v_0**2 - 2*g*h\n",
    "    try:\n",
    "        return (v_0 - sqrt(Delta))/g\n",
    "    except ValueError:\n",
    "        raise Exception(\"La balle ne touche pas le plafond\")\n",
    "print(temps_arrivee(1, 10))\n",
    "print(temps_arrivee(1, 1))"
   ]
  },
  {
   "cell_type": "code",
   "execution_count": null,
   "metadata": {},
   "outputs": [],
   "source": []
  },
  {
   "cell_type": "markdown",
   "metadata": {},
   "source": [
    "# Les fichiers\n",
    "* Répertoire absolu et relatif\n",
    "* Chemin d'accès\n",
    "* Fichier texte (c'est une chaine de caractère)\n",
    "* Lecture/écriture\n",
    "* Format JSON"
   ]
  },
  {
   "cell_type": "code",
   "execution_count": 63,
   "metadata": {},
   "outputs": [
    {
     "name": "stdout",
     "output_type": "stream",
     "text": [
      "/home/pierre/Enseignement/2020/ENS/cours/cours1\r\n"
     ]
    }
   ],
   "source": [
    "!pwd\n",
    "# Sous windows : c:\\Users\\login\\"
   ]
  },
  {
   "cell_type": "code",
   "execution_count": 64,
   "metadata": {},
   "outputs": [],
   "source": [
    "filename = \"/home/pierre/Enseignement/2020/ENS/cours/cours1/principes_base_python.ipynb\""
   ]
  },
  {
   "cell_type": "code",
   "execution_count": null,
   "metadata": {},
   "outputs": [],
   "source": []
  },
  {
   "cell_type": "code",
   "execution_count": 69,
   "metadata": {},
   "outputs": [
    {
     "name": "stdout",
     "output_type": "stream",
     "text": [
      "['script', 'cac_40.json', 'save', '.ipynb_checkpoints', 'remove_cells.py', 'build', 'my_article.tplx', 'TD1.ipynb', 'PX1.txt', 'TD1_solution.ipynb', 'notes.txt']\n"
     ]
    }
   ],
   "source": [
    "import os\n",
    "print(os.listdir('../../TD1_utilisation_python'))"
   ]
  },
  {
   "cell_type": "code",
   "execution_count": 70,
   "metadata": {},
   "outputs": [],
   "source": [
    "file = '/tmp/test_python.txt'\n",
    "fd = open(file, 'w')\n",
    "fd.write('Bonjour\\n')\n",
    "fd.close()\n",
    "\n",
    "with open(file, 'a') as fd:\n",
    "    fd.write('Au revoir')"
   ]
  },
  {
   "cell_type": "code",
   "execution_count": 71,
   "metadata": {},
   "outputs": [
    {
     "name": "stdout",
     "output_type": "stream",
     "text": [
      "Bonjour\n",
      "Au revoir\n"
     ]
    }
   ],
   "source": [
    "with open(file) as fd:\n",
    "    print(fd.read())"
   ]
  },
  {
   "cell_type": "code",
   "execution_count": 73,
   "metadata": {},
   "outputs": [
    {
     "name": "stdout",
     "output_type": "stream",
     "text": [
      "Bonjour\n",
      "Au revoir\n"
     ]
    }
   ],
   "source": [
    "with open(file) as fd:\n",
    "    lines = fd.readlines()\n",
    "    \n",
    "for line in lines:\n",
    "    print(line.strip()) # strip pour enlever le \\n"
   ]
  },
  {
   "cell_type": "markdown",
   "metadata": {},
   "source": [
    "## JSON\n",
    "* Permet d'enregistrer une liste ou un dictionnaire\n",
    "* Fichier lisible par une humain"
   ]
  },
  {
   "cell_type": "code",
   "execution_count": 74,
   "metadata": {},
   "outputs": [],
   "source": [
    "import json\n",
    "\n",
    "personne_1 = {\"nom\":\"Dupont\", \"age\":13}\n",
    "personne_2 = {\"nom\":\"Dubois\", \"age\":34}\n",
    "\n",
    "annuaire = [personne_1, personne_2]\n",
    "\n",
    "file = '/tmp/test.json'\n",
    "with open(file, \"w\") as f:\n",
    "    json.dump(annuaire, f, indent=2)\n",
    "    "
   ]
  },
  {
   "cell_type": "code",
   "execution_count": 75,
   "metadata": {},
   "outputs": [
    {
     "name": "stdout",
     "output_type": "stream",
     "text": [
      "[{'nom': 'Dupont', 'age': 13}, {'nom': 'Dubois', 'age': 34}]\n"
     ]
    }
   ],
   "source": [
    "with open(file) as f:\n",
    "    annuaire = json.load(f)\n",
    "print(annuaire)    \n",
    "    \n"
   ]
  },
  {
   "cell_type": "code",
   "execution_count": null,
   "metadata": {},
   "outputs": [],
   "source": []
  }
 ],
 "metadata": {
  "anaconda-cloud": {},
  "celltoolbar": "Slideshow",
  "extensions": {
   "jupyter_dashboards": {
    "activeView": "grid_default",
    "version": 1,
    "views": {
     "grid_default": {
      "cellMargin": 10,
      "defaultCellHeight": 20,
      "maxColumns": 12,
      "name": "grid",
      "type": "grid"
     },
     "report_default": {
      "name": "report",
      "type": "report"
     }
    }
   }
  },
  "kernelspec": {
   "display_name": "Python 3",
   "language": "python",
   "name": "python3"
  },
  "language_info": {
   "codemirror_mode": {
    "name": "ipython",
    "version": 3
   },
   "file_extension": ".py",
   "mimetype": "text/x-python",
   "name": "python",
   "nbconvert_exporter": "python",
   "pygments_lexer": "ipython3",
   "version": "3.7.4"
  },
  "nbpresent": {
   "slides": {
    "55d180ba-0930-42fc-aabe-01888b90a243": {
     "id": "55d180ba-0930-42fc-aabe-01888b90a243",
     "prev": "607bc274-b32c-4fdf-a281-6579a0c05139",
     "regions": {
      "1d63b5fb-525c-4de7-872e-c03d1632de8e": {
       "attrs": {
        "height": 0.8,
        "width": 0.8,
        "x": 0.1,
        "y": 0.1
       },
       "content": {
        "cell": "5861be26-b0f7-481c-9f5e-78f86aa42d90",
        "part": "whole"
       },
       "id": "1d63b5fb-525c-4de7-872e-c03d1632de8e"
      }
     }
    },
    "607bc274-b32c-4fdf-a281-6579a0c05139": {
     "id": "607bc274-b32c-4fdf-a281-6579a0c05139",
     "prev": null,
     "regions": {
      "b26163f9-9923-4885-872b-2afa2bd57d17": {
       "attrs": {
        "height": 0.8,
        "width": 0.8,
        "x": 0.1,
        "y": 0.1
       },
       "content": {
        "cell": "5aad16ff-20d7-4709-a46c-92143457bc4a",
        "part": "whole"
       },
       "id": "b26163f9-9923-4885-872b-2afa2bd57d17"
      }
     }
    },
    "6c7cef5b-9160-4b45-bb0f-e58a464ad9d2": {
     "id": "6c7cef5b-9160-4b45-bb0f-e58a464ad9d2",
     "prev": "aa5726a8-ba9e-4a4b-9b85-bd8bd9dc8bf9",
     "regions": {
      "49288199-6338-4636-b349-d4fb63bdaf8e": {
       "attrs": {
        "height": 0.8,
        "width": 0.8,
        "x": 0.1,
        "y": 0.1
       },
       "content": {
        "cell": "3e40f331-3e82-4c39-be42-29befb1a98c4",
        "part": "whole"
       },
       "id": "49288199-6338-4636-b349-d4fb63bdaf8e"
      }
     }
    },
    "aa5726a8-ba9e-4a4b-9b85-bd8bd9dc8bf9": {
     "id": "aa5726a8-ba9e-4a4b-9b85-bd8bd9dc8bf9",
     "prev": "f361ff9f-0b03-4f19-a1e1-26f9f3d142ee",
     "regions": {
      "5ec5fc4d-d1e6-4d46-b888-f652ec371a45": {
       "attrs": {
        "height": 0.8,
        "width": 0.8,
        "x": 0.1,
        "y": 0.1
       },
       "content": {
        "cell": "53c2d491-a9b4-41dd-a3a9-9de5b3d59ba5",
        "part": "whole"
       },
       "id": "5ec5fc4d-d1e6-4d46-b888-f652ec371a45"
      }
     }
    },
    "f361ff9f-0b03-4f19-a1e1-26f9f3d142ee": {
     "id": "f361ff9f-0b03-4f19-a1e1-26f9f3d142ee",
     "prev": "55d180ba-0930-42fc-aabe-01888b90a243",
     "regions": {
      "5712e779-d296-4ac4-8996-37a325717baf": {
       "attrs": {
        "height": 0.8,
        "width": 0.8,
        "x": 0.1,
        "y": 0.1
       },
       "content": {
        "cell": "792e55a4-8826-439b-a547-0c2302c58988",
        "part": "whole"
       },
       "id": "5712e779-d296-4ac4-8996-37a325717baf"
      }
     }
    }
   },
   "themes": {}
  }
 },
 "nbformat": 4,
 "nbformat_minor": 1
}
