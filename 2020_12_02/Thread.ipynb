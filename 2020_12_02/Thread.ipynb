{
 "cells": [
  {
   "cell_type": "markdown",
   "metadata": {},
   "source": [
    "# Threads en Python\n",
    "\n",
    "Fil d'exécution dans la langue de Moilère.\n",
    "\n",
    "Les threads permettent d'effectuer plusieurs taches en même temps (vu de l'utilisateur). L'utilisation des threads est cruciale pour faire des interfaces graphiques.\n",
    "\n",
    "Attention ce n'est pas du parallélisme (multi CPU)\n"
   ]
  },
  {
   "cell_type": "code",
   "execution_count": 3,
   "metadata": {},
   "outputs": [
    {
     "name": "stdout",
     "output_type": "stream",
     "text": [
      "Hello ! 0\n",
      "Hello ! 1\n",
      "Hello ! 2\n",
      "Hello ! 3\n",
      "Hello ! 4\n",
      "Bonjour !!!\n",
      "True\n",
      "Hello ! 5\n",
      "Hello ! 6\n",
      "Hello ! 7\n",
      "Hello ! 8\n",
      "Hello ! 9\n"
     ]
    }
   ],
   "source": [
    "import threading\n",
    "from time import time, sleep\n",
    "\n",
    "class MyThread(threading.Thread):\n",
    "    def run(self):\n",
    "        for i in range(10):\n",
    "            print('Hello !', i)\n",
    "            sleep(.2)\n",
    "\n",
    "\n",
    "thread = MyThread()\n",
    "thread.start() # Attention : start et non run !!!\n",
    "sleep(1)\n",
    "print('Bonjour !!!')\n",
    "print(thread.is_alive())\n",
    "thread.join() # Attend la fin du thread"
   ]
  },
  {
   "cell_type": "markdown",
   "metadata": {},
   "source": [
    "Deux ou plus threads peuvent être executé en même temps (en plus du thread principal)"
   ]
  },
  {
   "cell_type": "code",
   "execution_count": 6,
   "metadata": {},
   "outputs": [
    {
     "name": "stdout",
     "output_type": "stream",
     "text": [
      "Hello\n",
      "Bonjour\n",
      "Bonjour\n",
      "Hello\n",
      "Bonjour\n",
      "Hello\n",
      "Bonjour\n",
      "Bonjour\n",
      "Hello\n",
      "Bonjour\n",
      "Hello\n",
      "Bonjour\n",
      "Bonjour\n",
      "Hello\n",
      "Bonjour\n",
      "Hello\n",
      "Bonjour\n",
      "Hello\n",
      "Hello\n",
      "Hello\n"
     ]
    }
   ],
   "source": [
    "import threading\n",
    "from time import time, sleep\n",
    "\n",
    "class MyThread(threading.Thread):\n",
    "    def __init__(self, parameter, delay=.1):   \n",
    "        super().__init__() # Appel le __init__ the Thread\n",
    "        self.parameter = parameter\n",
    "        self.delay = delay\n",
    "\n",
    "    def run(self):\n",
    "        for i in range(10):\n",
    "            print(self.parameter)\n",
    "            sleep(self.delay)\n",
    "\n",
    "\n",
    "thread1 = MyThread('Hello')\n",
    "thread2 = MyThread('Bonjour', delay=.07)\n",
    "thread1.start()\n",
    "thread2.start()\n",
    "thread1.join() \n",
    "thread2.join() "
   ]
  },
  {
   "cell_type": "markdown",
   "metadata": {},
   "source": [
    "Ce qui peut créer des problèmes..."
   ]
  },
  {
   "cell_type": "code",
   "execution_count": 7,
   "metadata": {},
   "outputs": [
    {
     "name": "stdout",
     "output_type": "stream",
     "text": [
      "HBeolnljoo\n",
      "ur\n",
      "BHoenljloou\n",
      "r\n",
      "BoHnejloluor\n",
      "\n",
      "BonHjeolulro\n",
      "\n",
      "BonjHoeulrl\n",
      "o\n",
      "BonjoHuerl\n",
      "lo\n",
      "BonjouHre\n",
      "llo\n",
      "BonjourH\n",
      "ello\n",
      "Bonjour\n",
      "Hello\n",
      "Bonjour\n",
      "Hello\n"
     ]
    }
   ],
   "source": [
    "import threading\n",
    "from time import time, sleep\n",
    "\n",
    "def slow_print(s):\n",
    "    for char in s:\n",
    "        print(char, end='')\n",
    "        sleep(.01)\n",
    "    print()\n",
    "\n",
    "class MyThread(threading.Thread):\n",
    "    def __init__(self, parameter, delay=.1):   \n",
    "        super().__init__() # Appel le __init__ the Thread\n",
    "        self.parameter = parameter\n",
    "        self.delay = delay\n",
    "\n",
    "    def run(self):\n",
    "        for i in range(10):\n",
    "            slow_print(self.parameter)\n",
    "            sleep(self.delay)\n",
    "\n",
    "\n",
    "thread1 = MyThread('Hello')\n",
    "thread2 = MyThread('Bonjour', delay=.07)\n",
    "thread1.start()\n",
    "thread2.start()\n",
    "thread1.join() \n",
    "thread2.join() "
   ]
  },
  {
   "cell_type": "code",
   "execution_count": 8,
   "metadata": {},
   "outputs": [
    {
     "name": "stdout",
     "output_type": "stream",
     "text": [
      "Hello\n",
      "Bonjour\n",
      "Hello\n",
      "Bonjour\n",
      "Hello\n",
      "Bonjour\n",
      "Hello\n",
      "Bonjour\n",
      "Hello\n",
      "Bonjour\n",
      "Hello\n",
      "Bonjour\n",
      "Hello\n",
      "Bonjour\n",
      "Hello\n",
      "Bonjour\n",
      "Hello\n",
      "Bonjour\n",
      "Hello\n",
      "Bonjour\n"
     ]
    }
   ],
   "source": [
    "import threading\n",
    "from time import time, sleep\n",
    "\n",
    "print_lock = threading.Lock()\n",
    "\n",
    "def slow_print(s):\n",
    "    with print_lock:\n",
    "        for char in s:\n",
    "            print(char, end='')\n",
    "            sleep(.01)\n",
    "        print()\n",
    "\n",
    "class MyThread(threading.Thread):\n",
    "    def __init__(self, parameter):   \n",
    "        super().__init__() # Appel le __init__ the Thread\n",
    "        self.parameter = parameter\n",
    "\n",
    "    def run(self):\n",
    "        for i in range(10):\n",
    "            slow_print(self.parameter)\n",
    "            sleep(.1)\n",
    "\n",
    "\n",
    "thread1 = MyThread('Hello')\n",
    "thread2 = MyThread('Bonjour')\n",
    "thread1.start()\n",
    "thread2.start()\n",
    "thread1.join() \n",
    "thread2.join() "
   ]
  },
  {
   "cell_type": "code",
   "execution_count": null,
   "metadata": {},
   "outputs": [],
   "source": []
  },
  {
   "cell_type": "markdown",
   "metadata": {},
   "source": [
    "Les threads peuvent simplement communiquer en partageant des variables"
   ]
  },
  {
   "cell_type": "code",
   "execution_count": 9,
   "metadata": {},
   "outputs": [
    {
     "name": "stdout",
     "output_type": "stream",
     "text": [
      "Hello\n",
      "Hello\n",
      "Hello\n",
      "Bonjour !!!\n"
     ]
    }
   ],
   "source": [
    "import threading\n",
    "from time import time, sleep\n",
    "\n",
    "class MyThread(threading.Thread):\n",
    "    def __init__(self):   \n",
    "        super().__init__() # Appel le __init__ the Thread\n",
    "        self._continue = True\n",
    "\n",
    "    def run(self):\n",
    "        while self._continue:\n",
    "            print('Hello')\n",
    "            sleep(.4)\n",
    "            \n",
    "    def stop(self):\n",
    "        self._continue = False\n",
    "\n",
    "thread = MyThread()\n",
    "thread.start() # Attention : start et non run !!!\n",
    "sleep(1)\n",
    "print('Bonjour !!!')\n",
    "thread.stop()\n",
    "thread.join() # Attend la fin du thread"
   ]
  },
  {
   "cell_type": "code",
   "execution_count": null,
   "metadata": {},
   "outputs": [],
   "source": [
    "thread.s"
   ]
  }
 ],
 "metadata": {
  "kernelspec": {
   "display_name": "Python 3",
   "language": "python",
   "name": "python3"
  },
  "language_info": {
   "codemirror_mode": {
    "name": "ipython",
    "version": 3
   },
   "file_extension": ".py",
   "mimetype": "text/x-python",
   "name": "python",
   "nbconvert_exporter": "python",
   "pygments_lexer": "ipython3",
   "version": "3.7.4"
  }
 },
 "nbformat": 4,
 "nbformat_minor": 2
}
