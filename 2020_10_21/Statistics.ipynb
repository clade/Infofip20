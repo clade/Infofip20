{
 "cells": [
  {
   "cell_type": "markdown",
   "metadata": {},
   "source": [
    "# Statistiques"
   ]
  },
  {
   "cell_type": "markdown",
   "metadata": {},
   "source": [
    "Dans ce TP, nous utiliserons plusieurs fonction de numpy et scipy. En particulier : \n",
    "* Distribution aléatoire : package numpy.random, fonctions rad, normal. En général ces fonctions ont un paramètre size qui permet de faire un grand nombres de tirages. Il est aussi possible de leur envoyer un tableau de paramètre.\n",
    "* Histogramme : on pourra utiliser la fonction numpy.histogram ou la fonction matplotlib.pyplot.hist. Il est important d’utiliser l’argument optionel bins en mettant une séquence. Par exemple numpy.histogram(data,\n",
    "bins=(a,b)) calcule le nombre de point entre a et b.\n"
   ]
  },
  {
   "cell_type": "markdown",
   "metadata": {},
   "source": [
    "# Estimateur\n",
    "## Loi normale"
   ]
  },
  {
   "cell_type": "markdown",
   "metadata": {},
   "source": [
    "On considère une variable aléatoire distribuée selon une loi normale d'écart type $\\sigma$ et de centre $\\mu$:\n",
    "$$ P(x; \\mu, \\sigma) = \\frac{1}{\\sqrt{2\\pi}\\sigma}e^{-\\frac{(x-\\mu)^2}{2\\sigma^2}}$$\n",
    "\n",
    "On considère un échantillon de $N$ réalisations de la loi : $x_i$. \n",
    "\n",
    "La vraissemblance est donnée par :\n",
    "$$\\mathcal L(\\mu, \\sigma; x_i) = \\prod_i P(x_i; \\mu, \\sigma) $$\n",
    "\n",
    "Plutôt que de maximiser la vraissemblance, on va minimiser $-\\ln\\mathcal L$. \n",
    "Démontrer que la maximum est obtenu avec :\n",
    "$$\\hat\\mu = \\frac{1}{N}\\sum_ix_i$$\n",
    "et\n",
    "$$\\hat\\sigma = \\frac{1}{N}\\sum_i(x_i-\\hat\\mu)^2$$\n",
    "\n",
    "Les estimateurs que l'on a obtenus pour l'espérance $\\mu$ et pour l'écart type $\\sigma$ de la loi sont donnés par la moyenne et l'écart type des points. \n",
    "\n",
    "1. Écrire les fonctions $\\hat\\sigma$ et $\\hat\\mu$\n",
    "\n",
    "2. Un estimateur est caractérisé par son biais et son écart type. Calculer numériquement le biais et l'écart de ces estimateurs pour $N=10$ et $N=100$ (pour $\\mu=0$ et $\\sigma=1$). Ce calcul se fera en simulant un nombre $M$ de fois l'estimateur (typiquement M=100000). Sont ils biaisé ? Semblent-ils convergent ? \n",
    "\n",
    "## Loi uniforme\n",
    "On considère une loi uniforme entre $a$ et $b$ ($b>a$). L'espérance de cette loi est $\\mu = (a+b)/2$. On note $L=b-a$ (largeur de l'intervale). L'écart type est proportionnel à $L$ et on peut montrer qu'il vaut $\\frac{L}{2\\sqrt{3}}$. \n",
    "\n",
    "3. Caractériser pour cette loi l'estimateur de $\\mu$ donné par la moyenne et de $L$ donné, au facteur $2\\sqrt{3}$ près par l'écart type. On prendra $N=10$ et $N=100$.\n",
    "\n",
    "4. Démontrer que $\\mathcal L(a, b; x_i) = \\frac1{(b-a)^N}$ si $a\\leq \\min x_i$ et $b\\geq \\max x_i$ et 0 sinon. En déduire que le maximum de vraissemblance conduit à :\n",
    "$$\\hat a = \\min x_i$$ et $$\\hat b = \\max x_i$$ soit $$\\hat\\mu = (\\max x_i + \\min x_i)/2$$ et $$\\hat L = (\\max x_i - \\min x_i)$$. \n",
    "\n",
    "5. Caractériser ces deux estimateurs. \n",
    "\n",
    "6. Comparez graphiquement l'écart type des deux estimateurs de $\\mu$ pour $N$ entre $10$ et $1000$\n",
    "\n",
    "7. A l'aide d'un histogramme, comparez pour $N=20$ la distribution de ces deux estimateurs. "
   ]
  },
  {
   "cell_type": "code",
   "execution_count": 1,
   "metadata": {},
   "outputs": [],
   "source": [
    "import numpy as np"
   ]
  },
  {
   "cell_type": "code",
   "execution_count": 2,
   "metadata": {},
   "outputs": [],
   "source": [
    "def hat_mu(x):\n",
    "    return np.mean(x, axis=0)\n",
    "\n",
    "def hat_sigma(x):\n",
    "    return np.std(x, axis=0)"
   ]
  },
  {
   "cell_type": "code",
   "execution_count": null,
   "metadata": {},
   "outputs": [],
   "source": []
  },
  {
   "cell_type": "code",
   "execution_count": 3,
   "metadata": {},
   "outputs": [
    {
     "name": "stdout",
     "output_type": "stream",
     "text": [
      "Caracterisation de hat_mu : N=10\n",
      "Biais 0.0002913819745143336\n",
      "écart type 0.31623317324628963\n",
      "\n",
      "Caracterisation de hat_sigma : N=10\n",
      "Biais -0.07738506246073462\n",
      "écart type 0.2200744091044941\n",
      "\n",
      "Caracterisation de hat_mu : N=100\n",
      "Biais -5.804555178150796e-05\n",
      "écart type 0.1001151785066101\n",
      "\n",
      "Caracterisation de hat_sigma : N=100\n",
      "Biais -0.00756421093694104\n",
      "écart type 0.07061387776409697\n",
      "\n"
     ]
    }
   ],
   "source": [
    "N = 10\n",
    "for N in [10, 100]:\n",
    "    M = 1000000\n",
    "    X = np.random.normal(size=(N, M))\n",
    "\n",
    "    print(f'Caracterisation de hat_mu : N={N}')\n",
    "    print('Biais', np.mean(hat_mu(X)))\n",
    "    print('écart type', np.std(hat_mu(X)))\n",
    "    print('')\n",
    "    print(f'Caracterisation de hat_sigma : N={N}')\n",
    "    print('Biais', np.mean(hat_sigma(X))-1)\n",
    "    print('écart type', np.std(hat_sigma(X)))\n",
    "    print('')"
   ]
  },
  {
   "cell_type": "code",
   "execution_count": 4,
   "metadata": {},
   "outputs": [],
   "source": [
    "# On observe que l'écart type est biaisé. Cela reste tout de même un estimateur convergent"
   ]
  },
  {
   "cell_type": "code",
   "execution_count": 5,
   "metadata": {},
   "outputs": [],
   "source": [
    "def hat_mu_simple(X):\n",
    "    return np.mean(X, axis=0)\n",
    "\n",
    "def hat_L_simple(X):\n",
    "    return 2*np.sqrt(3)*np.std(X, axis=0)"
   ]
  },
  {
   "cell_type": "code",
   "execution_count": 6,
   "metadata": {},
   "outputs": [
    {
     "name": "stdout",
     "output_type": "stream",
     "text": [
      "Caracterisation de hat_mu : N=10\n",
      "Biais 5.5450436630095685e-05\n",
      "écart type 0.09132418008345082\n",
      "\n",
      "Caracterisation de hat_sigma : N=10\n",
      "Biais -0.06415493493565971\n",
      "écart type 0.15603578474556912\n",
      "\n",
      "Caracterisation de hat_mu : N=100\n",
      "Biais 1.2133559568714324e-05\n",
      "écart type 0.028889648975257875\n",
      "\n",
      "Caracterisation de hat_sigma : N=100\n",
      "Biais -0.006022875261366134\n",
      "écart type 0.045155301943174214\n",
      "\n"
     ]
    }
   ],
   "source": [
    "N = 10\n",
    "for N in [10, 100]:\n",
    "    M = 1000000\n",
    "    X = np.random.rand(N, M) - .5\n",
    "\n",
    "    print(f'Caracterisation de hat_mu : N={N}')\n",
    "    print('Biais', np.mean(hat_mu_simple(X)))\n",
    "    print('écart type', np.std(hat_mu_simple(X)))\n",
    "    print('')\n",
    "    print(f'Caracterisation de hat_sigma : N={N}')\n",
    "    print('Biais', np.mean(hat_L_simple(X))-1)\n",
    "    print('écart type', np.std(hat_L_simple(X)))\n",
    "    print('')\n",
    "\n"
   ]
  },
  {
   "cell_type": "code",
   "execution_count": 7,
   "metadata": {},
   "outputs": [],
   "source": [
    "def hat_mu_like(X):\n",
    "    return (np.max(X, axis=0) + np.min(X, axis=0))/2\n",
    "\n",
    "def hat_L_like(X):\n",
    "    return (np.max(X, axis=0) - np.min(X, axis=0))\n"
   ]
  },
  {
   "cell_type": "code",
   "execution_count": 8,
   "metadata": {},
   "outputs": [
    {
     "name": "stdout",
     "output_type": "stream",
     "text": [
      "Caracterisation de hat_mu : N=10\n",
      "Biais -6.200493077097695e-05\n",
      "écart type 0.06159534440122322\n",
      "\n",
      "Caracterisation de hat_sigma : N=10\n",
      "Biais -0.1819872276177218\n",
      "écart type 0.11138487516145998\n",
      "\n",
      "Caracterisation de hat_mu : N=100\n",
      "Biais 7.21259168349422e-07\n",
      "écart type 0.006952467491960569\n",
      "\n",
      "Caracterisation de hat_sigma : N=100\n",
      "Biais -0.019791737076621962\n",
      "écart type 0.013774146790713603\n",
      "\n"
     ]
    }
   ],
   "source": [
    "N = 10\n",
    "for N in [10, 100]:\n",
    "    M = 1000000\n",
    "    X = np.random.rand(N, M) - .5\n",
    "\n",
    "    print(f'Caracterisation de hat_mu : N={N}')\n",
    "    print('Biais', np.mean(hat_mu_like(X)))\n",
    "    print('écart type', np.std(hat_mu_like(X)))\n",
    "    print('')\n",
    "    print(f'Caracterisation de hat_sigma : N={N}')\n",
    "    print('Biais', np.mean(hat_L_like(X))-1)\n",
    "    print('écart type', np.std(hat_L_like(X)))\n",
    "    print('')\n",
    "\n"
   ]
  },
  {
   "cell_type": "code",
   "execution_count": 9,
   "metadata": {},
   "outputs": [],
   "source": [
    "TN = [10, 20, 50, 100, 200, 500, 1000]\n",
    "out = []\n",
    "for N in TN:\n",
    "    M = 100000\n",
    "    X = np.random.rand(N, M) - .5\n",
    "\n",
    "    out.append((N,\n",
    "               np.std(hat_mu_simple(X)),\n",
    "               np.std(hat_mu_like(X))))\n",
    "out = np.array(out)"
   ]
  },
  {
   "cell_type": "code",
   "execution_count": 10,
   "metadata": {},
   "outputs": [],
   "source": [
    "%matplotlib inline\n",
    "from matplotlib.pyplot import figure"
   ]
  },
  {
   "cell_type": "code",
   "execution_count": 11,
   "metadata": {},
   "outputs": [
    {
     "data": {
      "image/png": "[encoded data removed]",
      "text/plain": [
       "<Figure size 432x288 with 1 Axes>"
      ]
     },
     "metadata": {
      "needs_background": "light"
     },
     "output_type": "display_data"
    }
   ],
   "source": [
    "fig = figure()\n",
    "ax = fig.subplots(1, 1)\n",
    "\n",
    "ax.loglog(out[:,0], out[:,1], 'o', label='Moyenne')\n",
    "ax.loglog(out[:,0], out[:,2], 'o', label='min/max')\n",
    "\n",
    "ax.legend()\n",
    "ax.grid(which='both')"
   ]
  },
  {
   "cell_type": "code",
   "execution_count": 12,
   "metadata": {},
   "outputs": [
    {
     "data": {
      "image/png": "[encoded data removed]",
      "text/plain": [
       "<Figure size 432x288 with 1 Axes>"
      ]
     },
     "metadata": {
      "needs_background": "light"
     },
     "output_type": "display_data"
    }
   ],
   "source": [
    "N = 50\n",
    "M = 100000\n",
    "\n",
    "X = np.random.rand(N, M) - .5\n",
    "fig = figure()\n",
    "ax = fig.subplots(1, 1)\n",
    "\n",
    "ax.hist(hat_mu_simple(X), bins=np.linspace(-0.15, 0.15, 201), density=True);\n",
    "ax.hist(hat_mu_like(X), bins=np.linspace(-0.15, 0.15, 201), density=True);"
   ]
  },
  {
   "cell_type": "markdown",
   "metadata": {},
   "source": [
    "# Ajustement d’une courbe"
   ]
  },
  {
   "cell_type": "markdown",
   "metadata": {},
   "source": [
    "On va utiliser la fonction curve_fit du packagescipy.optimize. Cette fonction permet aussi  d’obtenir  l’incertitude  des  paramètres  sous  forme  d’une  matrice  de  corrélation.  Cette fonction s’utilise de la façon suivante"
   ]
  },
  {
   "cell_type": "markdown",
   "metadata": {},
   "source": [
    "p_opt, cor_mat = curve_fit(fonction_de_fit, data_x, data_y, p_ini)"
   ]
  },
  {
   "cell_type": "markdown",
   "metadata": {},
   "source": [
    "où \n",
    "* fonction_de_fit(x, p1, p2, ..., pn) est la fonction de fit. Les variables p1, .., pn sont les paramètres de la fonction de fit. \n",
    "* data_x et data_y sont les points de mesure. \n",
    "* p_ini sont les paramètres initiaux (sous forme d’une liste/tuple/array).\n",
    "* p_opt seront les paramètres optimaux et cor_mat est la matrice de correlation entre les paramètres."
   ]
  },
  {
   "cell_type": "markdown",
   "metadata": {},
   "source": [
    "# Fit de franges d’interférence"
   ]
  },
  {
   "cell_type": "markdown",
   "metadata": {},
   "source": [
    "On souhaite ajuster les franges d’un interféromètre atomique. Les données sont dans le fichierdata/fit_sinus.dat. La première colonne du fichiers (axe x) représente une fréquenceen Hz. La seconde colonne représente la population mesurée pour une fréquence donnée. L’objectif est de trouver la position de la frange centrale."
   ]
  },
  {
   "cell_type": "markdown",
   "metadata": {},
   "source": [
    "On ajustera par une fonction cosinus avec une amplitude, un décalage vertical, une position centrale et une largeur ajustable (soit quatre paramètres en plus de fréquence).\n",
    "\n",
    "1. Écrivez   la   fonction   de   fit   qui   dépend   des   paramètres   ci   dessus.   On   appellera frange(x, ...).  Tracez  la  courbe  pour  x  entre ±220 Hz.  On  prendra  un  inter-frange de 200 Hz.\n",
    "2. Chargez et tracez les données. On représentera les données par des points (plot(...,..., 'o')).\n",
    "3. Calculez les paramètres optimaux. Quelle est la position la frange centrale ? Représentez les points et la courbe.\n",
    "4. Quelle est l’incertitude sur la position de la frange centrale ?"
   ]
  },
  {
   "cell_type": "code",
   "execution_count": 13,
   "metadata": {},
   "outputs": [
    {
     "data": {
      "text/plain": [
       "Text(0,0.5,'Amplitude')"
      ]
     },
     "execution_count": 13,
     "metadata": {},
     "output_type": "execute_result"
    },
    {
     "data": {
      "image/png": "[encoded data removed]",
      "text/plain": [
       "<Figure size 432x288 with 1 Axes>"
      ]
     },
     "metadata": {
      "needs_background": "light"
     },
     "output_type": "display_data"
    }
   ],
   "source": [
    "import matplotlib.pyplot as plt\n",
    "from scipy.optimize import curve_fit\n",
    "freq, amp = np.loadtxt('data/fit_sinus.dat', unpack=True)\n",
    "plt.plot(freq, amp, 'o')\n",
    "plt.xlabel('Fréquence (Hz)')\n",
    "plt.ylabel('Amplitude')"
   ]
  },
  {
   "cell_type": "code",
   "execution_count": 14,
   "metadata": {},
   "outputs": [
    {
     "data": {
      "text/plain": [
       "Text(0.5,0,'Fréquence (Hz)')"
      ]
     },
     "execution_count": 14,
     "metadata": {},
     "output_type": "execute_result"
    },
    {
     "data": {
      "image/png": "[encoded data removed]",
      "text/plain": [
       "<Figure size 432x288 with 1 Axes>"
      ]
     },
     "metadata": {
      "needs_background": "light"
     },
     "output_type": "display_data"
    }
   ],
   "source": [
    "def frange(x, a, b, f_0, Delta_f):\n",
    "    return a + b*np.cos(2*np.pi*(x-f_0)/Delta_f)\n",
    "\n",
    "p0 = (0.2, 0.1, 0, 200)\n",
    "\n",
    "f_plot = np.linspace(-220, 220)\n",
    "\n",
    "plt.plot(freq, amp, 'o')\n",
    "plt.plot(f_plot, frange(f_plot, *p0))\n",
    "plt.xlabel('Fréquence (Hz)')"
   ]
  },
  {
   "cell_type": "code",
   "execution_count": 15,
   "metadata": {},
   "outputs": [
    {
     "data": {
      "text/plain": [
       "Text(0.5,0,'Fréquence (Hz)')"
      ]
     },
     "execution_count": 15,
     "metadata": {},
     "output_type": "execute_result"
    },
    {
     "data": {
      "image/png": "[encoded data removed]",
      "text/plain": [
       "<Figure size 432x288 with 1 Axes>"
      ]
     },
     "metadata": {
      "needs_background": "light"
     },
     "output_type": "display_data"
    }
   ],
   "source": [
    "p_opt, p_cov = curve_fit(frange, freq, amp, p0=p0)\n",
    "plt.plot(freq, amp, 'o')\n",
    "plt.plot(f_plot, frange(f_plot, *p_opt))\n",
    "plt.xlabel('Fréquence (Hz)')"
   ]
  },
  {
   "cell_type": "code",
   "execution_count": 16,
   "metadata": {},
   "outputs": [
    {
     "name": "stdout",
     "output_type": "stream",
     "text": [
      "2.3676751760478263\n",
      "0.31641156138612997\n",
      "0.10011627617880871\n"
     ]
    }
   ],
   "source": [
    "a, b, f_0, Delta_f = p_opt\n",
    "print(f_0)\n",
    "print(np.sqrt(p_cov[2, 2]))\n",
    "print(p_cov[2, 2])"
   ]
  },
  {
   "cell_type": "markdown",
   "metadata": {},
   "source": [
    "# Corrélation\n",
    "On simule une jeu de données."
   ]
  },
  {
   "cell_type": "code",
   "execution_count": 17,
   "metadata": {},
   "outputs": [
    {
     "data": {
      "image/png": "[encoded data removed]",
      "text/plain": [
       "<Figure size 432x288 with 1 Axes>"
      ]
     },
     "metadata": {
      "needs_background": "light"
     },
     "output_type": "display_data"
    }
   ],
   "source": [
    "np.random.seed(0) # pour que le générateur \"aléatoire\" soit le même pour tout le monde\n",
    "N = 100\n",
    "x = np.linspace(2000, 2018, N)\n",
    "y = np.arange(N)*0.2 + 45 + np.random.normal(size=N)\n",
    "\n",
    "plt.plot(x, y, 'o');"
   ]
  },
  {
   "cell_type": "markdown",
   "metadata": {},
   "source": [
    "1. Tracez et ajustez les données par une une droite $y=ax+b$.\n",
    "2. Quel est l’incertitude sur $b$? Qu’en pensez-vous ?\n",
    "3. Calculez la valeur et l’incertitude de votre fit en $x= 2010$.\n",
    "4. Trouvez une fonction de fit plus pertinente pour ce problème."
   ]
  },
  {
   "cell_type": "code",
   "execution_count": 18,
   "metadata": {},
   "outputs": [
    {
     "name": "stdout",
     "output_type": "stream",
     "text": [
      "[ 1.08348182e+00 -2.12175517e+03]\n"
     ]
    },
    {
     "data": {
      "text/plain": [
       "[<matplotlib.lines.Line2D at 0x7f36ab223690>]"
      ]
     },
     "execution_count": 18,
     "metadata": {},
     "output_type": "execute_result"
    },
    {
     "data": {
      "image/png": "[encoded data removed]",
      "text/plain": [
       "<Figure size 432x288 with 1 Axes>"
      ]
     },
     "metadata": {
      "needs_background": "light"
     },
     "output_type": "display_data"
    }
   ],
   "source": [
    "def fit_function(x, a, b):\n",
    "    return a*x + b\n",
    "\n",
    "p_opt, cor_mat = curve_fit(fit_function, x, y)\n",
    "a, b = p_opt\n",
    "print(p_opt)\n",
    "plt.plot(x,fit_function(x,*p_opt))\n",
    "plt.plot(x,y,\"o\")"
   ]
  },
  {
   "cell_type": "code",
   "execution_count": 19,
   "metadata": {},
   "outputs": [
    {
     "data": {
      "text/plain": [
       "array([1.93267668e-02, 3.88276066e+01])"
      ]
     },
     "execution_count": 19,
     "metadata": {},
     "output_type": "execute_result"
    }
   ],
   "source": [
    "sigma = np.sqrt(np.diag(cor_mat))\n",
    "sigma"
   ]
  },
  {
   "cell_type": "code",
   "execution_count": 20,
   "metadata": {},
   "outputs": [
    {
     "data": {
      "text/plain": [
       "array([[ 1.        , -0.99999659],\n",
       "       [-0.99999659,  1.        ]])"
      ]
     },
     "execution_count": 20,
     "metadata": {},
     "output_type": "execute_result"
    }
   ],
   "source": [
    "cor_mat/ (sigma[:,np.newaxis]*sigma[np.newaxis, :])"
   ]
  },
  {
   "cell_type": "code",
   "execution_count": 21,
   "metadata": {},
   "outputs": [],
   "source": [
    "sigma_a = sigma[0]\n",
    "sigma_b = sigma[1]\n",
    "\n",
    "x_test = 2010"
   ]
  },
  {
   "cell_type": "code",
   "execution_count": 22,
   "metadata": {},
   "outputs": [
    {
     "name": "stdout",
     "output_type": "stream",
     "text": [
      "Valeur en 2010  56.04328983428377\n",
      "Incertitude sans correlations 54.924102159729976\n",
      "Incertitude avec correlations 0.10325902606783537\n"
     ]
    }
   ],
   "source": [
    "print('Valeur en 2010 ', a*x_test + b)\n",
    "\n",
    "sigma_y = np.sqrt(x_test**2 * sigma_a**2 + sigma_b**2)\n",
    "print('Incertitude sans correlations', sigma_y)\n",
    "\n",
    "sigma_y = np.sqrt(x_test**2 * sigma_a**2 + sigma_b**2 + 2*x_test*cor_mat[1, 0])\n",
    "print('Incertitude avec correlations', sigma_y)"
   ]
  },
  {
   "cell_type": "code",
   "execution_count": 23,
   "metadata": {},
   "outputs": [
    {
     "name": "stdout",
     "output_type": "stream",
     "text": [
      "Valeur en 2010  56.04328985689939\n",
      "Incertitude sans correlations 0.2790998350851877\n",
      "Incertitude avec correlations 0.10325894775854742\n"
     ]
    }
   ],
   "source": [
    "def fit_function(x, a, b):\n",
    "    return a*(x-2000) + b\n",
    "\n",
    "p_opt, cor_mat = curve_fit(fit_function, x, y)\n",
    "a, b = p_opt\n",
    "\n",
    "sigma = np.sqrt(np.diag(cor_mat))\n",
    "sigma_a = sigma[0]\n",
    "sigma_b = sigma[1]\n",
    "\n",
    "x_test = 10\n",
    "\n",
    "print('Valeur en 2010 ', a*x_test + b)\n",
    "\n",
    "sigma_y = np.sqrt(x_test**2 * sigma_a**2 + sigma_b**2)\n",
    "print('Incertitude sans correlations', sigma_y)\n",
    "\n",
    "sigma_y = np.sqrt(x_test**2 * sigma_a**2 + sigma_b**2 + 2*x_test*cor_mat[1, 0])\n",
    "print('Incertitude avec correlations', sigma_y)"
   ]
  },
  {
   "cell_type": "code",
   "execution_count": null,
   "metadata": {},
   "outputs": [],
   "source": []
  },
  {
   "cell_type": "code",
   "execution_count": null,
   "metadata": {},
   "outputs": [],
   "source": []
  }
 ],
 "metadata": {
  "kernelspec": {
   "display_name": "Python 3",
   "language": "python",
   "name": "python3"
  },
  "language_info": {
   "codemirror_mode": {
    "name": "ipython",
    "version": 3
   },
   "file_extension": ".py",
   "mimetype": "text/x-python",
   "name": "python",
   "nbconvert_exporter": "python",
   "pygments_lexer": "ipython3",
   "version": "3.7.4"
  }
 },
 "nbformat": 4,
 "nbformat_minor": 2
}
