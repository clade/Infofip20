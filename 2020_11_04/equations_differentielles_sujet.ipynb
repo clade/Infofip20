{
 "cells": [
  {
   "cell_type": "markdown",
   "metadata": {},
   "source": [
    "*Librairies et fonctions dont on aura besoin*"
   ]
  },
  {
   "cell_type": "code",
   "execution_count": null,
   "metadata": {},
   "outputs": [],
   "source": [
    "import matplotlib.pyplot as plt\n",
    "\n",
    "import numpy as np\n",
    "from numpy import pi\n",
    "\n",
    "from scipy.integrate import solve_ivp\n",
    "\n",
    "from IPython.display import HTML\n",
    "import matplotlib.animation"
   ]
  },
  {
   "cell_type": "markdown",
   "metadata": {},
   "source": [
    "# Le pendule\n",
    "\n",
    "On considère l'équation :\n",
    "$$ \\theta^{\\prime\\prime} = -\\sin{\\theta}$$\n",
    "\n",
    "Pour résoudre cette équation, on définie le tableau $y(t) = (\\theta(t), \\theta^\\prime(t)$. \n",
    "\n",
    "* Ecrire la fonction Python ``f(t, y)`` qui renvoie la dérivée de $y$\n",
    "\n",
    "* Résoudre et tracer le resultat de l'équation différentielle pour les conditions initiales : $\\theta(0) = 2\\pi/4$ et $\\theta^\\prime(0) = 0$\n",
    "\n",
    "* Vérifier de l'énergie totale est conservée (on rappelle que l'énergie potentielle est donnée par $-\\cos\\theta$ et l'énergie cinétique par $\\theta^{\\prime2}/2$"
   ]
  },
  {
   "cell_type": "markdown",
   "metadata": {},
   "source": [
    "# Nuage d'ions"
   ]
  },
  {
   "cell_type": "markdown",
   "metadata": {},
   "source": [
    "On considère un nuage de $N$ ions de masse $m$ et charge $q$. On note $\\vec{r_i}$ et $\\vec{v_i}$ la position et la vitesse du ième ion. Les ions sont dans un piège électrostatique. De plus, ils interagissent entre eux par la force de Coulomb. \n",
    "\n",
    "La force électrostatique dérive d'un potentiel électrostatique :\n",
    "\n",
    "$$V(\\vec{r}) = \\frac12 k_x r_x^2 +\\frac12 k_y r_y^2 + \\frac12 k_z r_z^2$$\n",
    "\n",
    "La force de Coulomb s'écrira sous la forme:\n",
    "\n",
    "$$\\vec{f_i}(\\vec{r_i}, \\vec{r_j}) = \\kappa \\frac{q^2}{|\\vec{r_i} - \\vec{r_j}|^3}(\\vec{r_i} - \\vec{r_j})$$\n",
    "\n",
    "Pour simplifier et avoir une meilleure représentation graphique, on suprimera totalement la dimension $z$. \n",
    "\n",
    "On utilisera des unités adimensionnées avec des constantes de l'ordre de 1. Par défaut on prendra : $m=9$, $q=1$, $k_x=1$, $k_y=1.3$, $\\kappa=1$.\n",
    "\n",
    "On va considérer la dynamique de 4 tableaux numpy : ``r_x``, ``r_y``, ``v_x``, ``v_y``. Toutes les fonctions seront écrites avec ces variables. On ne regroupera les 4 tableaux que dans la fonction qui sera utilisé par ``solve_ivp``.\n",
    "\n",
    "Les paramètres seront des constantes globales. Un certain nombre de fonctions sont données ci-dessous (on pourra s'en inspirer)\n",
    "\n",
    "1. Ecrire la fonction ``force_piege(r_x, r_y)`` qui renvoie la force dérivant du potentiel (``f_x`` et ``f_y``).\n",
    "\n",
    "2. Ecrire la fonction ``force_coulomb(r_x, r_y)`` qui renvoie $f_x$ et $f_y$, le force de Coulomb\n",
    "\n",
    "Le tableau ``y`` est défini en rassemblant les 4 tableau numpy. On défini les fonctions suivantes :\n",
    "\n",
    "    def join(r_x, r_t, v_x, v_y):\n",
    "        return np.concatenate((r_x, r_y, v_x, v_y))\n",
    "\n",
    "    def split(y):\n",
    "        N = len(y)//4\n",
    "        return y[:N], y[N:2*N], y[2*N:3*N], y[3*N:4*N]\n",
    "        \n",
    "3. Ecrire la fonction ``f(t, y)`` qui défini la dynamique du problème.\n",
    "\n",
    "4. On condidère un nuage avec une distribution initiale donnée par une loi de Maxwell-Boltzmann (avec $k_B=1$ et $T=1$) pour les particules sans interaction. Calculer jusqu'au temps $T=20$ l'évolution de la position des particules.\n",
    "\n",
    "5. Vérifier que l'énergie totale est conservée. On utilisera les fonctions ci-dessous.\n",
    "\n",
    "6. Faire une animation (voir code ci dessous)\n",
    "\n",
    "7. On rajoute une force de dissipation, selon l'axe $x$ : \n",
    "\n",
    "   $$ F_{i,x} = -\\alpha v_{_, x} $$\n",
    "  \n",
    "  Simuler l'experience en prenant $\\alpha = 0.1$ et $N=20$. Que se passe-t-il au temps long ?"
   ]
  },
  {
   "cell_type": "code",
   "execution_count": null,
   "metadata": {},
   "outputs": [],
   "source": [
    "# Valeurs des paramètres\n",
    "m = 9\n",
    "q = 1\n",
    "k_x = 1\n",
    "k_y = 1.3\n",
    "\n",
    "kappa=1\n",
    "\n",
    "k_B = 1\n",
    "T = 1"
   ]
  },
  {
   "cell_type": "code",
   "execution_count": null,
   "metadata": {},
   "outputs": [],
   "source": []
  },
  {
   "cell_type": "code",
   "execution_count": null,
   "metadata": {},
   "outputs": [],
   "source": [
    "# Fonctions pour passer de 4 tableaux à un seul et réciproquement\n",
    "def join(r_x, r_y, v_x, v_y):\n",
    "    return np.concatenate((r_x, r_y, v_x, v_y))\n",
    "\n",
    "def split(y):\n",
    "    N = len(y)//4\n",
    "    return y[:N], y[N:2*N], y[2*N:3*N], y[3*N:4*N]"
   ]
  },
  {
   "cell_type": "code",
   "execution_count": null,
   "metadata": {},
   "outputs": [],
   "source": [
    "# Calcul de l'énergie\n",
    "def energie_piege(r_x, r_y):\n",
    "    return np.sum(k_x*r_x**2/2 + k_y*r_y**2/2)\n",
    "\n",
    "def energie_coulomb(r_x, r_y):\n",
    "    N = len(r_x)\n",
    "    total = 0\n",
    "    for i in range(N-1):\n",
    "        for j in range(i+1, N):\n",
    "            d2 = (r_x[i]-r_x[j])**2 + (r_y[i]-r_y[j])**2\n",
    "            total += kappa*q**2/np.sqrt(d2)\n",
    "    return total\n",
    "\n",
    "def energie_cinetique(r_x, r_y, v_x, v_y):\n",
    "    return np.sum(.5*m*v_x**2 + .5*m*v_y**2)\n",
    "    \n",
    "def energie_totale(r_x, r_y, v_x, v_y):\n",
    "    energie_cinetique = np.sum(.5*m*v_x**2 + .5*m*v_y**2)\n",
    "    return (energie_coulomb(r_x, r_y) +\n",
    "            energie_piege(r_x, r_y) +\n",
    "            energie_cinetique)"
   ]
  },
  {
   "cell_type": "code",
   "execution_count": null,
   "metadata": {},
   "outputs": [],
   "source": [
    "# Distribution initiale\n",
    "\n",
    "N = 50\n",
    "\n",
    "r_x_0 = np.random.normal(size=N)\n",
    "r_y_0 = np.random.normal(size=N)\n",
    "v_x_0 = np.random.normal(scale=1/np.sqrt(m), size=N)\n",
    "v_y_0 = np.random.normal(scale=1/np.sqrt(m), size=N)"
   ]
  },
  {
   "cell_type": "code",
   "execution_count": null,
   "metadata": {},
   "outputs": [],
   "source": [
    "# Pour afficher une animation\n",
    "# res est le tableau provenant de solve_ivp\n",
    "\n",
    "fig, ax = plt.subplots()\n",
    "l, = ax.plot(split(res.y[:,0])[0], split(res.y[:,0])[1], 'o')\n",
    "ax.set_xlim(-10, 10)\n",
    "ax.set_ylim(-10, 10)\n",
    "\n",
    "def animate(i):\n",
    "    r_x, r_y, v_x, v_y = split(res.y[:,i])\n",
    "    l.set_data(r_x, r_y)\n",
    "\n",
    "ani = matplotlib.animation.FuncAnimation(fig, \n",
    "                                         animate, \n",
    "                                         frames=len(res.t))\n",
    "\n",
    "\n",
    "HTML(ani.to_jshtml())"
   ]
  }
 ],
 "metadata": {
  "kernelspec": {
   "display_name": "Python 3",
   "language": "python",
   "name": "python3"
  },
  "language_info": {
   "codemirror_mode": {
    "name": "ipython",
    "version": 3
   },
   "file_extension": ".py",
   "mimetype": "text/x-python",
   "name": "python",
   "nbconvert_exporter": "python",
   "pygments_lexer": "ipython3",
   "version": "3.7.4"
  }
 },
 "nbformat": 4,
 "nbformat_minor": 2
}
