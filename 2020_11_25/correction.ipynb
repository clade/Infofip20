{
 "cells": [
  {
   "cell_type": "code",
   "execution_count": 70,
   "metadata": {},
   "outputs": [],
   "source": [
    "import numbers\n",
    "import operator\n",
    "import math\n",
    "\n",
    "class Expr(object):\n",
    "    def __repr__(self):\n",
    "        return self.display(parent=None)\n",
    "    \n",
    "    def __mul__(self, other):\n",
    "        return Prod(self, other)\n",
    "\n",
    "    def __rmul__(self, other):\n",
    "        return Prod(other, self)    \n",
    "    \n",
    "    def __add__(self, other):\n",
    "        return Sum(self, other)\n",
    "\n",
    "    def __radd__(self, other):\n",
    "        return Sum(other, self)\n",
    "    \n",
    "    \n",
    "    def __truediv__(self, other):\n",
    "        return Div(self, other)\n",
    "\n",
    "    def __rtruediv__(self, other):\n",
    "        return Div(other, self)\n",
    "\n",
    "    def evaluate(self, **kwd):\n",
    "        raise Exception('Cannot evaluate {self.__class__.__name__}'.format(self=self))\n",
    "        \n",
    "  \n",
    "    \n",
    "class Node(Expr):\n",
    "    pass\n",
    "\n",
    "class Leave(Expr):\n",
    "    pass\n",
    "\n",
    "class Symbol(Leave):\n",
    "    def __init__(self, name):\n",
    "        assert isinstance(name, str), 'name should be a str'\n",
    "        self.name = name\n",
    "\n",
    "    def display(self, parent):\n",
    "        return self.name\n",
    "    \n",
    "    def __repr__(self):\n",
    "        return 'Symbol({})'.format(self.name)\n",
    "    \n",
    "    def evaluate(self, **kwd):\n",
    "        try:\n",
    "            return kwd[self.name]\n",
    "        except KeyError:\n",
    "            raise Exception('Cannot evaluate variable {self.name}'.format(self=self))    \n",
    "            \n",
    "    def diff(self, var):\n",
    "        if self.name==var.name:\n",
    "            return Number(1)\n",
    "        else:\n",
    "            return Number(0)\n",
    "        \n",
    "class Number(Leave):\n",
    "    def __init__(self, val):\n",
    "        self.val = val\n",
    "\n",
    "    def display(self, parent):\n",
    "        return str(self.val) \n",
    "    \n",
    "    def __repr__(self):\n",
    "        return 'Number({})'.format(self.val)    \n",
    "\n",
    "    def evaluate(self, **kwd):\n",
    "        return self.val\n",
    "    \n",
    "    def diff(self, var):\n",
    "        return Number(0)\n",
    "        \n",
    "    \n",
    "class Function(Node):\n",
    "    \"\"\" Function with an arbitrary number of arguments \"\"\"\n",
    "    pass\n",
    "\n",
    "class BinaryOperator(Function):\n",
    "    def __init__(self, arg1, arg2):\n",
    "        if isinstance(arg1, numbers.Number):\n",
    "            arg1 = Number(arg1)\n",
    "        if isinstance(arg2, numbers.Number):\n",
    "            arg2 = Number(arg2)\n",
    "        self.arg1 = arg1\n",
    "        self.arg2 = arg2\n",
    "        \n",
    "    def display(self, parent):\n",
    "        parenthese=True\n",
    "        if parent is None or isinstance(parent, MathFunction): \n",
    "            parenthese=False\n",
    "        if isinstance(parent, BinaryOperator) and self.priority>=parent.priority:\n",
    "            parenthese=False\n",
    "        left = self.arg1.display(self)\n",
    "        right = self.arg2.display(self)\n",
    "        if parenthese:\n",
    "            return f\"({left} {self.operator_name} {right})\"\n",
    "        else:\n",
    "            return f\"{left} {self.operator_name} {right}\" \n",
    "    \n",
    "    def evaluate(self, **kwd):\n",
    "        left = self.arg1.evaluate(**kwd)\n",
    "        right = self.arg2.evaluate(**kwd)\n",
    "        return self.operator_function(left, right)    \n",
    "        \n",
    "class Sum(BinaryOperator):\n",
    "    operator_name = '+'\n",
    "    operator_function = operator.add\n",
    "    priority = 1\n",
    "    \n",
    "    def diff(self, var):\n",
    "        return self.arg1.diff(var) + self.arg2.diff(var)\n",
    "\n",
    "class Prod(BinaryOperator):\n",
    "    operator_name = '*'\n",
    "    operator_function = operator.mul\n",
    "    priority = 2\n",
    "\n",
    "    def diff(self, var):\n",
    "        return self.arg1.diff(var)*self.arg2 + self.arg1*self.arg2.diff(var)\n",
    "    \n",
    "    \n",
    "\n",
    "class Div(BinaryOperator):\n",
    "    operator_name = '/'\n",
    "    operator_function = operator.truediv\n",
    "    priority = 2\n",
    "\n",
    "    \n",
    "class Sub(BinaryOperator):\n",
    "    operator_name = '-'\n",
    "    operator_function = operator.sub    \n",
    "    priority = 0\n",
    "\n",
    "class UnaryOperator(Function):\n",
    "    pass\n",
    "\n",
    "class Neg(UnaryOperator):\n",
    "    pass\n",
    "\n",
    "class MathFunction(Function):\n",
    "    def __init__(self, arg):\n",
    "        if isinstance(arg, numbers.Number):\n",
    "            arg = Number(arg)\n",
    "        assert isinstance(arg, Expr)\n",
    "        self.arg = arg\n",
    "        \n",
    "    def display(self, parent):\n",
    "        return f'{self.function_name}({self.arg.display(self)})'\n",
    "\n",
    "    def evaluate(self, **kwd):\n",
    "        return getattr(math, self.function_name)(self.arg.evaluate(**kwd))\n",
    "    \n",
    "    def diff(self, var):\n",
    "        return self.arg.diff(var)*self.derivee(self.arg)\n",
    "    \n",
    "class Sin(MathFunction):\n",
    "    function_name = 'sin'\n",
    "    derivee = lambda self, x:Cos(x)\n",
    "    \n",
    "class Cos(MathFunction):\n",
    "    function_name = 'sin'\n",
    "    derivee = lambda self, x: 0-Sin(x)\n"
   ]
  },
  {
   "cell_type": "code",
   "execution_count": 71,
   "metadata": {},
   "outputs": [
    {
     "data": {
      "text/plain": [
       "sin(x + y)"
      ]
     },
     "execution_count": 71,
     "metadata": {},
     "output_type": "execute_result"
    }
   ],
   "source": [
    "x = Symbol('x')\n",
    "y = Symbol('y')\n",
    "\n",
    "Sin(x + y)"
   ]
  },
  {
   "cell_type": "code",
   "execution_count": 72,
   "metadata": {},
   "outputs": [
    {
     "data": {
      "text/plain": [
       "(1 * x + x * 1) * sin(x * x) + 0 * x + 3 * 1"
      ]
     },
     "execution_count": 72,
     "metadata": {},
     "output_type": "execute_result"
    }
   ],
   "source": [
    "expr = Sin(x*x) + 3*x\n",
    "expr.diff(x)"
   ]
  },
  {
   "cell_type": "code",
   "execution_count": null,
   "metadata": {},
   "outputs": [],
   "source": []
  },
  {
   "cell_type": "code",
   "execution_count": null,
   "metadata": {},
   "outputs": [],
   "source": []
  },
  {
   "cell_type": "code",
   "execution_count": null,
   "metadata": {},
   "outputs": [],
   "source": []
  },
  {
   "cell_type": "code",
   "execution_count": 58,
   "metadata": {},
   "outputs": [
    {
     "data": {
      "text/plain": [
       "1.1411200080598671"
      ]
     },
     "execution_count": 58,
     "metadata": {},
     "output_type": "execute_result"
    }
   ],
   "source": [
    "expr = x + Sin(x*y)\n",
    "expr.evaluate(x=1, y=3)"
   ]
  },
  {
   "cell_type": "code",
   "execution_count": 59,
   "metadata": {},
   "outputs": [
    {
     "data": {
      "text/plain": [
       "3"
      ]
     },
     "execution_count": 59,
     "metadata": {},
     "output_type": "execute_result"
    }
   ],
   "source": [
    "expr = x + 2\n",
    "expr.evaluate(x=1, y=3)"
   ]
  },
  {
   "cell_type": "code",
   "execution_count": 62,
   "metadata": {},
   "outputs": [
    {
     "data": {
      "text/plain": [
       "(x + y) * sin(x)"
      ]
     },
     "execution_count": 62,
     "metadata": {},
     "output_type": "execute_result"
    }
   ],
   "source": [
    "(x + y)*Sin(x)"
   ]
  },
  {
   "cell_type": "code",
   "execution_count": null,
   "metadata": {},
   "outputs": [],
   "source": []
  }
 ],
 "metadata": {
  "kernelspec": {
   "display_name": "Python 3",
   "language": "python",
   "name": "python3"
  },
  "language_info": {
   "codemirror_mode": {
    "name": "ipython",
    "version": 3
   },
   "file_extension": ".py",
   "mimetype": "text/x-python",
   "name": "python",
   "nbconvert_exporter": "python",
   "pygments_lexer": "ipython3",
   "version": "3.7.4"
  }
 },
 "nbformat": 4,
 "nbformat_minor": 2
}
