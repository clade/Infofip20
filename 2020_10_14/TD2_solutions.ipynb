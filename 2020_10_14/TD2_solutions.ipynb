{
 "cells": [
  {
   "cell_type": "markdown",
   "metadata": {},
   "source": [
    "Dans ce TD, nous allons utiliser numpy et matplotlib. Voici comment les importer"
   ]
  },
  {
   "cell_type": "code",
   "execution_count": 2,
   "metadata": {},
   "outputs": [],
   "source": [
    "import numpy as np \n",
    "import matplotlib.pyplot as plt"
   ]
  },
  {
   "cell_type": "markdown",
   "metadata": {},
   "source": [
    "Voici quelques fonctions de numpy que nous allons utiliser:\n",
    "- `np.arange`\n",
    "- `np.sum`\n",
    "- `np.polyfit`\n",
    "- `np.mean`\n",
    "- `np.std`\n",
    "- `np.unique`\n",
    "- `np.where`\n",
    "- `np.reshape`\n",
    "- `np.newaxis`\n",
    "\n",
    "Certaines de ces fonctions sont aussi accessibles sous forme de méthode d'un tableau (par exemple np.mean(a) <=> a.mean())\n",
    "\n",
    "On peut accéder à la documentation de la façon suivante : "
   ]
  },
  {
   "cell_type": "code",
   "execution_count": 3,
   "metadata": {},
   "outputs": [],
   "source": [
    "np.sum?"
   ]
  },
  {
   "cell_type": "markdown",
   "metadata": {},
   "source": [
    "# Formule de Simpson"
   ]
  },
  {
   "cell_type": "markdown",
   "metadata": {},
   "source": [
    "On rappelle la formule de Simpson pour le calcul approché d’une intégrale :\n",
    "\\begin{equation*}\n",
    "\\begin{split}\n",
    "\\int_a^bf(x)\\mathrm dx \\approx \\Delta_x\\sum_{i=0}^{N-1}\\frac{f(x_i) + 4f(x_i+\\frac{\\Delta_x}2) + f(x_i + \\Delta_x)}6 \\equiv I(f;a,b,N) \\end{split}\n",
    "\\end{equation*}\n",
    "où $\\Delta_x =\\frac{b-a}N$ et $x_i = a + i\\Delta_x$.\n",
    "  \n",
    "1. Ecrivez une fonction `simpson_slow` qui calcule l’intégrale d'une function $f$ entre $a$ et $b$ avec $N$ pas avec la méthode de Simpson en utilisant une boucle (for loop).\n",
    "\n",
    "2. Ecrivez une autre fonction `simpson_fast` qui fait la même chose sans utiliser de boucle (on suposera que la fonction $f$ est vectorisée).\n",
    "\n",
    "3. Calculez l’intégrale de $f(x) = \\frac{1}{1+x^2}$ entre 0 et 1 pour $N=1000$ et comparez le temps entre les deux foncion en ecrirant `%timeit` avant la commande.\n",
    "\n",
    "4. Calculez la valeur théorique $I^\\star$ de l'intégrale et tracez en échelle logarithmique le residu $|I^\\star - I(f,0,1,N)|$ par rapport à $N$. Qu'elle est la vitesse de convergence de cette intégrale ?"
   ]
  },
  {
   "cell_type": "code",
   "execution_count": 4,
   "metadata": {},
   "outputs": [],
   "source": [
    "# 1.\n",
    "\n",
    "def simpson_slow(f, a, b, N):\n",
    "    dx = (b-a)/N\n",
    "    x = a + np.arange(N)*dx\n",
    "    integral = 0\n",
    "    for i in range(N):\n",
    "        integral += (f(x[i]) + 4*f(x[i]+dx/2) + f(x[i]+dx))*dx/6\n",
    "    return integral"
   ]
  },
  {
   "cell_type": "code",
   "execution_count": 5,
   "metadata": {},
   "outputs": [],
   "source": [
    "# 2.\n",
    "\n",
    "def simpson_fast(f, a, b, N):\n",
    "    dx = (b-a)/N\n",
    "    x = a + np.arange(N)*dx\n",
    "    return np.sum(f(x) + 4*f(x+dx/2) + f(x+dx))*dx/6"
   ]
  },
  {
   "cell_type": "code",
   "execution_count": 7,
   "metadata": {
    "scrolled": true
   },
   "outputs": [
    {
     "name": "stdout",
     "output_type": "stream",
     "text": [
      "Temps d'exécution pour simpson_slow:\n",
      "4.11 ms ± 119 µs per loop (mean ± std. dev. of 7 runs, 100 loops each)\n",
      "\n",
      "\n",
      "Temps d'exécution pour simpson_fast:\n",
      "46.7 µs ± 837 ns per loop (mean ± std. dev. of 7 runs, 10000 loops each)\n"
     ]
    }
   ],
   "source": [
    "# 3.\n",
    "\n",
    "def f(x):\n",
    "    return 1/(1+x**2)\n",
    "\n",
    "print(\"Temps d'exécution pour simpson_slow:\")\n",
    "%timeit simpson_slow(f, 0, 1, 1000)\n",
    "print('\\n')\n",
    "print(\"Temps d'exécution pour simpson_fast:\")\n",
    "%timeit simpson_fast(f, 0, 1, 1000)"
   ]
  },
  {
   "cell_type": "code",
   "execution_count": 8,
   "metadata": {},
   "outputs": [],
   "source": [
    "# 4."
   ]
  },
  {
   "cell_type": "markdown",
   "metadata": {},
   "source": [
    "La soluation analytique de l'intégrale est : $\\int_0^1 \\frac{dx}{1+x^2} = \\arctan(x)|_0^1 = \\pi/4$"
   ]
  },
  {
   "cell_type": "code",
   "execution_count": 9,
   "metadata": {},
   "outputs": [],
   "source": [
    "N_array = np.arange(6,30)\n",
    "residuum = []\n",
    "for N in N_array:\n",
    "    residuum.append(np.pi/4-simpson_fast(f, a=0, b=1, N=N))\n",
    "# Remarque : utiliser une boucle for ici ne ralentit pas le code car\n",
    "# 1/ le calcule de simpson prend relativement beaucoup de temps\n",
    "# 2/ il y a moins de 30 itérations"
   ]
  },
  {
   "cell_type": "code",
   "execution_count": 10,
   "metadata": {},
   "outputs": [
    {
     "name": "stdout",
     "output_type": "stream",
     "text": [
      "L'intégrale converge en res(N)~ N^(-6.0)\n"
     ]
    },
    {
     "data": {
      "image/png": "[encoded data removed]",
      "text/plain": [
       "<Figure size 432x288 with 1 Axes>"
      ]
     },
     "metadata": {
      "needs_background": "light"
     },
     "output_type": "display_data"
    }
   ],
   "source": [
    "# 5.\n",
    "\n",
    "plt.plot(N_array, residuum, 'bo--')\n",
    "plt.loglog(N_array, residuum, 'bo--')\n",
    "plt.title('Convergence de la méthode de Simpson')\n",
    "plt.grid(which = 'both')\n",
    "plt.ylabel('Residus')\n",
    "plt.xlabel('Nombre de pas N')\n",
    "\n",
    "gradient = np.polyfit(np.log(N_array), np.log(residuum), 1)[0]\n",
    "print(f\"L'intégrale converge en res(N)~ N^({gradient:0.1f})\")"
   ]
  },
  {
   "cell_type": "markdown",
   "metadata": {},
   "source": [
    "# Volume d'une sphère\n",
    "\n",
    "Dans un premier temps, on considère un nuage de points $(x, y)$ dans un plan. Les variables $x$ et $y$ sont independantes et uniformement reparties entre -1 et 1.\n",
    "\n",
    "1. En utilisant la fonction ``np.random.rand``, créer un nuage de $M$ points et tracer \n",
    "ce nuage. On pourra prendre $M=1000$\n",
    "\n",
    "2. Tracer dans une autre couleur les points dans un cercle de rayon 1. \n",
    "\n",
    "3. En prenant $M$ assez grand (par exemple $10^8$), calculer la probabilité d'être dans le cercle. En déduire une estimation de la surface d'un disque de rayon 1. \n",
    "\n",
    "4. Même question que la question 3, mais dans un espace de dimension $N$. Par exemple $N=5$. On écrira une fonction."
   ]
  },
  {
   "cell_type": "code",
   "execution_count": 11,
   "metadata": {},
   "outputs": [
    {
     "data": {
      "text/plain": [
       "[<matplotlib.lines.Line2D at 0x7fce7c71e210>]"
      ]
     },
     "execution_count": 11,
     "metadata": {},
     "output_type": "execute_result"
    },
    {
     "data": {
      "image/png": "[encoded data removed]",
      "text/plain": [
       "<Figure size 432x288 with 1 Axes>"
      ]
     },
     "metadata": {
      "needs_background": "light"
     },
     "output_type": "display_data"
    }
   ],
   "source": [
    "M = 1000\n",
    "X, Y = 2*np.random.rand(M)-1, 2*np.random.rand(M)-1\n",
    "\n",
    "fig = plt.figure()\n",
    "ax = fig.subplots(1, 1)\n",
    "ax.set_aspect(1)\n",
    "\n",
    "ax.plot(X, Y, 'o')\n",
    "\n",
    "mask = X**2 + Y**2<=1\n",
    "\n",
    "ax.plot(X[mask], Y[mask], 'o')"
   ]
  },
  {
   "cell_type": "code",
   "execution_count": 12,
   "metadata": {},
   "outputs": [
    {
     "name": "stdout",
     "output_type": "stream",
     "text": [
      "Le volume est estimé à 3.14157\n"
     ]
    }
   ],
   "source": [
    "M = 100000000\n",
    "X, Y = 2*np.random.rand(M)-1, 2*np.random.rand(M)-1\n",
    "\n",
    "mask = (X**2 + Y**2<=1) # C'est un tableau de BooléenS. \n",
    "vol = 2**2 * np.mean(mask) \n",
    "# Le volume est celui du carré (=2^2) \n",
    "# multiplié par la probabilité d'être dans le disque\n",
    "# Lors des opération de somme (ou moyenne) d'un tableau de Booléens, \n",
    "# numpy va considérer que `False` vaut 0 et `True` 1.\n",
    "print(f'Le volume est estimé à {vol:.5f}')"
   ]
  },
  {
   "cell_type": "code",
   "execution_count": 13,
   "metadata": {},
   "outputs": [
    {
     "name": "stdout",
     "output_type": "stream",
     "text": [
      "Le volume d'une hyper-sphère de dimension 5 est estimé à 5.26557\n"
     ]
    }
   ],
   "source": [
    "def volume(M, N=2):\n",
    "    P = 2*np.random.rand(M, N)-1\n",
    "    Psquare = np.sum(P**2, axis=1)\n",
    "    vol = 2**N * np.mean(Psquare<1)\n",
    "    return vol\n",
    "\n",
    "vol15 = volume(10000000, N=5)\n",
    "\n",
    "print(f\"Le volume d'une hyper-sphère de dimension 5 est estimé à {vol15:.5f}\")"
   ]
  },
  {
   "cell_type": "code",
   "execution_count": null,
   "metadata": {},
   "outputs": [],
   "source": []
  },
  {
   "cell_type": "markdown",
   "metadata": {},
   "source": [
    "# Loi de Poisson"
   ]
  },
  {
   "cell_type": "markdown",
   "metadata": {},
   "source": [
    "Une source lumineuse illumine un photomultiplicateur. Ce dispositif envoie un pulse digital d’environ 20 ns à chaque photon qu’il détecte. La sortie du photomultiplicateur est connectée à un dispositif informatique qui permet de compter le nombre de pulses reçu pendant une durée determinée.\n",
    "\n",
    "Le nombre de photons qui arrive pendant une durée donnée suit une loi de Poisson, c’est à dire que la probabilité de détecter $k$ photons est donnée par :\n",
    "\\begin{equation*}\n",
    "\\begin{split}p(k) = \\frac{\\lambda^k}{k!}e^{-\\lambda}\\end{split}\n",
    "\\end{equation*}\n",
    "où $\\lambda$ est le nombre moyen de photons. Le paramètre $\\lambda$ sera proportionnel à la durée $t_0$ pendant laquelle on mesure le nombre de photons : $\\lambda = \\Gamma t_0$.\n",
    "\n",
    "On rappelle que l’écart type de la loi de Poisson vaut $\\sqrt{\\lambda}$\n",
    "\n",
    "1. Le fichier de données est enregistré sour forme d’un fichier texte. Chaque point correspond à une mesure de durée $t_0=200\\mathrm{\\mu s}$. Lire le fichier et le convertir en entier: \n",
    "```\n",
    "fichier = \"100secondes_200us_count.txt\"\n",
    "data = np.loadtxt(fichier, dtype=int)\n",
    "```\n",
    "Quel est le nombre moyen de photons reçu par seconde ?\n",
    "\n",
    "2. Calculez l’écart type et vérifiez qu’il vaut $\\sqrt{\\lambda}$.\n",
    "\n",
    "\n",
    "3. En utilisant la fonction `numpy.unique`, avec l’option `return_counts=True`, tracez la distribution de probabilité (créez un histogramme).\n",
    "\n",
    "4. Tracez les points représentants $p(k)/p(k+1)$.\n",
    "\n",
    "5. Soit $x_i$ le nombre de photons détectés au cours de la mesure numéro $i$. On veut simuler un jeu de données correspondant à des mesures prise pendant un temps $t = Nt_0$. On défini la variable $x^N_j$ par\n",
    "\\begin{equation*}\n",
    "x^N_j = \\sum_{i=0}^{i=N-1} x_{Nj+i}\n",
    "\\end{equation*}\n",
    "Écrivez une fonction python `somme_par_paquet(x,N)` qui effectue cette opération. Si la taille du tableau d’entrée n’est pas un multiple de N, on suprimera des points au début du tableau. Evidement les boucles `for` sont interdites ! On transformera le tableau en un tableau 2D et on fera une somme par ligne (`np.sum(array, axis=1)`).\n",
    "Tracez au cours du temps le flux de photons pris en intégrant sur 100 ms, i.e. $N=500$.\n",
    "\n",
    "\n",
    "6. On peut créer un générateur de bits aléatoires à partir de cette séquence : si $x_{2j}>x_{2j+1}$ alors on prend 1, si $x_{2j}<x_{2j+1}$ on prend 0, sinon on élimine le point $j$.\n",
    "Créez une fonction `bits_aleatoires(data)` qui engendrer cette suite de bits aléatoire que l’on appellera $a_j$ - une fois avec et sans de boucle `for`. Comparez les temps.\n",
    "\n",
    " \n",
    "7. On peut ensuite créer une suite de nombre aléatoire $\\{b_j\\}$ entre 0 et 1 en regroupant les bits $\\{a_i\\}$ dans une manière que $b_j$ soit écrit en binaire comme $(a_{Nj}, a_{Nj+1}, ... , a_{N(j+1) -1 })$. On prendra par exemple N=11.\n",
    "\\begin{equation*}\n",
    "b_j = \\sum_{i=0}^{i=N-1} \\frac{a_{Nj+i}}{2^{i+1}} \\in [0,1]\n",
    "\\end{equation*}\n",
    "Si $n=|\\{a_j\\}|$, le nombre d'elements dans la suite $\\{a_j\\}$, n'est pas divisible par $N$, supprimez les premiers $n\\%N$ elements.\n",
    "\n",
    "8. Si X et Y sont deux variables aléatoires ayant une distribution uniforme entre 0 et 1, alors on a\n",
    "\\begin{equation*}\n",
    "P(X^2 + Y^2<1) = \\frac{\\pi}{4}\n",
    "\\end{equation*}\n",
    "Déterminez $\\pi$ en utilisant notre générateur de nombre aléatoire.\n"
   ]
  },
  {
   "cell_type": "code",
   "execution_count": 14,
   "metadata": {},
   "outputs": [],
   "source": [
    "fichier = \"100secondes_200us_count.txt\"\n",
    "data = np.loadtxt(fichier, dtype=int) # data sous la forme d'un tableau de dimension 1"
   ]
  },
  {
   "cell_type": "code",
   "execution_count": 26,
   "metadata": {},
   "outputs": [
    {
     "name": "stdout",
     "output_type": "stream",
     "text": [
      "flux_moyen: 22972.79 photons/s\n"
     ]
    }
   ],
   "source": [
    "# 1.\n",
    "\n",
    "t0 = 200E-6\n",
    "flux_moyen = np.mean(data)/t0\n",
    "print(f'flux_moyen: {flux_moyen} photons/s')"
   ]
  },
  {
   "cell_type": "code",
   "execution_count": 27,
   "metadata": {},
   "outputs": [
    {
     "name": "stdout",
     "output_type": "stream",
     "text": [
      "Deviation standard : 2.1401156007645943\n",
      "Racine carré de la moyenne : 2.1434920107152253\n"
     ]
    }
   ],
   "source": [
    "# 2.\n",
    "print('Deviation standard :', data.std()) #  on peut aussi utiliser np.std(data)\n",
    "print('Racine carré de la moyenne :', np.sqrt(data.mean()))"
   ]
  },
  {
   "cell_type": "code",
   "execution_count": 28,
   "metadata": {},
   "outputs": [
    {
     "data": {
      "text/plain": [
       "Text(0,0.5,'Probabilité p(k)')"
      ]
     },
     "execution_count": 28,
     "metadata": {},
     "output_type": "execute_result"
    },
    {
     "data": {
      "image/png": "[encoded data removed]",
      "text/plain": [
       "<Figure size 432x288 with 1 Axes>"
      ]
     },
     "metadata": {
      "needs_background": "light"
     },
     "output_type": "display_data"
    }
   ],
   "source": [
    "# 3.\n",
    "values, count = np.unique(data, return_counts=True)\n",
    "plt.plot(values, count/np.sum(count), '-o')\n",
    "plt.xlabel('Nombre de photon k')\n",
    "plt.ylabel('Probabilité p(k)')"
   ]
  },
  {
   "cell_type": "code",
   "execution_count": 29,
   "metadata": {},
   "outputs": [
    {
     "data": {
      "text/plain": [
       "Text(0,0.5,'$p(k)/p(k+1)$')"
      ]
     },
     "execution_count": 29,
     "metadata": {},
     "output_type": "execute_result"
    },
    {
     "data": {
      "image/png": "[encoded data removed]",
      "text/plain": [
       "<Figure size 432x288 with 1 Axes>"
      ]
     },
     "metadata": {
      "needs_background": "light"
     },
     "output_type": "display_data"
    }
   ],
   "source": [
    "# 4.\n",
    "plt.plot(count[:-1]/count[1:], 'o')\n",
    "plt.grid()\n",
    "plt.ylim(0, None)\n",
    "plt.xlabel('Nombre de photon k')\n",
    "plt.ylabel('$p(k)/p(k+1)$') # Utilisation de Latex"
   ]
  },
  {
   "cell_type": "code",
   "execution_count": 30,
   "metadata": {},
   "outputs": [],
   "source": [
    "# 5.\n",
    "\n",
    "def somme_par_paquet(x, N):\n",
    "    x = x[len(x)%N:]\n",
    "    x = x.reshape((len(x)//N, N))\n",
    "    return x.sum(axis=1)\n",
    "\n",
    "def moyenne_par_paquet(x, N):\n",
    "    return somme_par_paquet(x, N)/N\n",
    "\n",
    "assert np.all(somme_par_paquet(np.arange(9), 2)==np.array([3, 7, 11, 15]))"
   ]
  },
  {
   "cell_type": "code",
   "execution_count": 31,
   "metadata": {},
   "outputs": [
    {
     "data": {
      "image/png": "[encoded data removed]",
      "text/plain": [
       "<Figure size 432x288 with 1 Axes>"
      ]
     },
     "metadata": {
      "needs_background": "light"
     },
     "output_type": "display_data"
    }
   ],
   "source": [
    "t = np.arange(len(data))*t0\n",
    "plt.plot(moyenne_par_paquet(t, 500), somme_par_paquet(data, 500))\n",
    "plt.xlabel('Temps (s)')\n",
    "plt.ylabel('Nb photons pas 100ms')\n",
    "plt.grid()"
   ]
  },
  {
   "cell_type": "code",
   "execution_count": 38,
   "metadata": {},
   "outputs": [
    {
     "data": {
      "text/plain": [
       "array([0., 1., 1., ..., 0., 0., 1.])"
      ]
     },
     "execution_count": 38,
     "metadata": {},
     "output_type": "execute_result"
    }
   ],
   "source": [
    "# 6.\n",
    "\n",
    "def bits_aleatoires_slow(data):\n",
    "    N = len(data)//2 # integer division\n",
    "    bits = []\n",
    "    for i in range(N):\n",
    "        if data[2*i]>data[2*i+1]:\n",
    "            bits.append(1)\n",
    "        elif data[2*i]<data[2*i+1]:\n",
    "            bits.append(0)\n",
    "    return np.array(bits)\n",
    "\n",
    "# Nous verrons l'utilisation de numba dans un prochain cours\n",
    "import numba as nb\n",
    "@nb.njit\n",
    "def bits_aleatoires_numba(data):\n",
    "    N = len(data)//2 # integer division\n",
    "    bits = np.zeros(N)\n",
    "    k = 0\n",
    "    for i in range(N):\n",
    "        if data[2*i]>data[2*i+1]:\n",
    "            bits[k] = 1\n",
    "            k += 1\n",
    "        elif data[2*i]<data[2*i+1]:\n",
    "            bits[k] = 0\n",
    "            k += 1\n",
    "    return bits[:k]\n",
    "bits_aleatoires_numba(data)"
   ]
  },
  {
   "cell_type": "code",
   "execution_count": 39,
   "metadata": {},
   "outputs": [],
   "source": [
    "def bits_aleatoires_fast(data):\n",
    "    N = len(data)//2\n",
    "    dx = data[:N:2] - data[1:N:2]\n",
    "    dx = dx[dx!=0]\n",
    "    return np.where(dx>0, 1, 0)"
   ]
  },
  {
   "cell_type": "code",
   "execution_count": 40,
   "metadata": {},
   "outputs": [
    {
     "name": "stdout",
     "output_type": "stream",
     "text": [
      "Durée pour bits_aleatoires_slow:\n",
      "189 ms ± 3.56 ms per loop (mean ± std. dev. of 7 runs, 10 loops each)\n",
      "\n",
      "Durée pour bits_aleatoires_numba:\n",
      "1.45 ms ± 17.3 µs per loop (mean ± std. dev. of 7 runs, 1000 loops each)\n",
      "\n",
      "Durée pour bits_aleatoire_fast:\n",
      "1.06 ms ± 3.61 µs per loop (mean ± std. dev. of 7 runs, 1000 loops each)\n"
     ]
    }
   ],
   "source": [
    "print('Durée pour bits_aleatoires_slow:')\n",
    "%timeit bits_aleatoires_slow(data)\n",
    "print('\\nDurée pour bits_aleatoires_numba:')\n",
    "%timeit bits_aleatoires_numba(data)\n",
    "print('\\nDurée pour bits_aleatoire_fast:')\n",
    "%timeit bits_aleatoires_fast(data)"
   ]
  },
  {
   "cell_type": "code",
   "execution_count": 41,
   "metadata": {},
   "outputs": [],
   "source": [
    "# 7.\n",
    "\n",
    "data_bits = bits_aleatoires_fast(data)\n",
    "N = 11\n",
    "\n",
    "data_bits = data_bits[len(data_bits)%N:]\n",
    "data_bits = data_bits.reshape((len(data_bits)//N, N))\n",
    "data_bits\n",
    "coef = 1/2**(1+np.arange(N))\n",
    "nb_aleatoires = (data_bits*coef[np.newaxis, :]).sum(axis=1) \n",
    "# np.newaxis permet de transformé le tableau de dimension 1 en un tableau de dimension 2"
   ]
  },
  {
   "cell_type": "code",
   "execution_count": 42,
   "metadata": {},
   "outputs": [
    {
     "data": {
      "text/plain": [
       "3.1450629825274277"
      ]
     },
     "execution_count": 42,
     "metadata": {},
     "output_type": "execute_result"
    }
   ],
   "source": [
    "# 8.\n",
    "\n",
    "nb_aleatoires = nb_aleatoires[len(nb_aleatoires)%2:] # on garde un nombre pair de points\n",
    "X = nb_aleatoires[::2] # indices pairs\n",
    "Y = nb_aleatoires[1::2] # indices impairs\n",
    "# The probability is the number of times a sample fullfills the condition \n",
    "# divided by the total number of samples\n",
    "np.sum(X**2 + Y**2 < 1)/len(X) * 4"
   ]
  },
  {
   "cell_type": "code",
   "execution_count": null,
   "metadata": {},
   "outputs": [],
   "source": []
  }
 ],
 "metadata": {
  "kernelspec": {
   "display_name": "Python 3",
   "language": "python",
   "name": "python3"
  },
  "language_info": {
   "codemirror_mode": {
    "name": "ipython",
    "version": 3
   },
   "file_extension": ".py",
   "mimetype": "text/x-python",
   "name": "python",
   "nbconvert_exporter": "python",
   "pygments_lexer": "ipython3",
   "version": "3.7.4"
  }
 },
 "nbformat": 4,
 "nbformat_minor": 4
}
