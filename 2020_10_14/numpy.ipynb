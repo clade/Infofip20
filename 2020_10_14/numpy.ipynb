{
 "cells": [
  {
   "cell_type": "code",
   "execution_count": 1,
   "metadata": {},
   "outputs": [],
   "source": [
    "import numpy as np"
   ]
  },
  {
   "cell_type": "code",
   "execution_count": 50,
   "metadata": {},
   "outputs": [
    {
     "data": {
      "text/plain": [
       "array([ 0.        ,  0.84147098,  0.90929743,  0.14112001, -0.7568025 ,\n",
       "       -0.95892427, -0.2794155 ,  0.6569866 ,  0.98935825,  0.41211849])"
      ]
     },
     "execution_count": 50,
     "metadata": {},
     "output_type": "execute_result"
    }
   ],
   "source": [
    "# Examples\n",
    "a = np.arange(10)\n",
    "np.sin(a)"
   ]
  },
  {
   "cell_type": "code",
   "execution_count": 51,
   "metadata": {},
   "outputs": [
    {
     "ename": "TypeError",
     "evalue": "only size-1 arrays can be converted to Python scalars",
     "output_type": "error",
     "traceback": [
      "\u001b[0;31m---------------------------------------------------------------------------\u001b[0m",
      "\u001b[0;31mTypeError\u001b[0m                                 Traceback (most recent call last)",
      "\u001b[0;32m<ipython-input-51-8f708a3d7cef>\u001b[0m in \u001b[0;36m<module>\u001b[0;34m\u001b[0m\n\u001b[1;32m      1\u001b[0m \u001b[0;31m# Il ne faut pas utiliser le module math avec des tableaux numpy\u001b[0m\u001b[0;34m\u001b[0m\u001b[0;34m\u001b[0m\u001b[0;34m\u001b[0m\u001b[0m\n\u001b[1;32m      2\u001b[0m \u001b[0;32mimport\u001b[0m \u001b[0mmath\u001b[0m\u001b[0;34m\u001b[0m\u001b[0;34m\u001b[0m\u001b[0m\n\u001b[0;32m----> 3\u001b[0;31m \u001b[0mmath\u001b[0m\u001b[0;34m.\u001b[0m\u001b[0msin\u001b[0m\u001b[0;34m(\u001b[0m\u001b[0ma\u001b[0m\u001b[0;34m)\u001b[0m\u001b[0;34m\u001b[0m\u001b[0;34m\u001b[0m\u001b[0m\n\u001b[0m",
      "\u001b[0;31mTypeError\u001b[0m: only size-1 arrays can be converted to Python scalars"
     ]
    }
   ],
   "source": [
    "# Il ne faut pas utiliser le module math avec des tableaux numpy\n",
    "import math\n",
    "math.sin(a)"
   ]
  },
  {
   "cell_type": "code",
   "execution_count": 52,
   "metadata": {},
   "outputs": [
    {
     "name": "stdout",
     "output_type": "stream",
     "text": [
      "478 µs ± 35.8 µs per loop (mean ± std. dev. of 7 runs, 1000 loops each)\n",
      "352 ms ± 8.13 ms per loop (mean ± std. dev. of 7 runs, 1 loop each)\n"
     ]
    }
   ],
   "source": [
    "# Comparaison de la vitesse entre une liste et un tableau\n",
    "a = np.random.rand(1000000)\n",
    "\n",
    "def carre_np(x):\n",
    "    return x**2\n",
    "\n",
    "%timeit carre_np(a)\n",
    "\n",
    "def carre_liste(x):\n",
    "    return [elm**2 for elm in x]\n",
    "a_liste = list(a)\n",
    "\n",
    "%timeit carre_liste(a_liste)"
   ]
  },
  {
   "cell_type": "code",
   "execution_count": 58,
   "metadata": {},
   "outputs": [
    {
     "name": "stdout",
     "output_type": "stream",
     "text": [
      " "
     ]
    }
   ],
   "source": [
    "%%prun\n",
    "def f(x):\n",
    "    return 2*x\n",
    "\n",
    "\n",
    "for i in range(10):\n",
    "    a = f(i)"
   ]
  },
  {
   "cell_type": "code",
   "execution_count": 59,
   "metadata": {},
   "outputs": [
    {
     "name": "stdout",
     "output_type": "stream",
     "text": [
      "445 ms ± 9 ms per loop (mean ± std. dev. of 7 runs, 1 loop each)\n"
     ]
    }
   ],
   "source": [
    "# Boucle for avec un tableau\n",
    "def carre_boucle(x):\n",
    "    out = np.zeros(len(x))\n",
    "    for i in range(len(x)):\n",
    "        out[i] = x[i]**2\n",
    "    return out\n",
    "\n",
    "%timeit carre_boucle(b)"
   ]
  },
  {
   "cell_type": "code",
   "execution_count": 60,
   "metadata": {},
   "outputs": [],
   "source": [
    "# Numpy : code plus simple (et plus rapide)\n",
    "a = np.random.rand(1000000)\n",
    "b = a**2"
   ]
  },
  {
   "cell_type": "code",
   "execution_count": null,
   "metadata": {},
   "outputs": [],
   "source": []
  },
  {
   "cell_type": "markdown",
   "metadata": {},
   "source": [
    "# Avantages (et inconvénients) des tableaux\n",
    "* La taille et le type de donnée est fixé à la création du tableau\n",
    "\n"
   ]
  },
  {
   "cell_type": "code",
   "execution_count": 64,
   "metadata": {},
   "outputs": [
    {
     "data": {
      "text/plain": [
       "array([1.  +0.j, 3.14+0.j, 4.  +0.j])"
      ]
     },
     "execution_count": 64,
     "metadata": {},
     "output_type": "execute_result"
    }
   ],
   "source": [
    "a = np.array([1, 2, 4], dtype='complex')\n",
    "a[1] = 3.14\n",
    "\n",
    "\n",
    "a"
   ]
  },
  {
   "cell_type": "code",
   "execution_count": 67,
   "metadata": {},
   "outputs": [
    {
     "data": {
      "text/plain": [
       "array([1.2424e+04, 2.3000e+00, 4.0000e+00])"
      ]
     },
     "execution_count": 67,
     "metadata": {},
     "output_type": "execute_result"
    }
   ],
   "source": [
    "a = np.array([1, 2.3, 4])\n",
    "a[0] = 12424\n",
    "a"
   ]
  },
  {
   "cell_type": "markdown",
   "metadata": {},
   "source": [
    "# Création d'un tableau\n",
    "Il existe plusieurs fonctions pour créer un tableau.\n",
    "\n",
    "* array :  partir d'une liste (ou générateur)\n",
    "* zeros, ones, eye\n",
    "* arange\n",
    "* linspace, logspace\n",
    "* loadtxt\n",
    "* load/save\n",
    "\n",
    "Le type est déterminé automatiquement. On peut le forcer avec l'argument dtype"
   ]
  },
  {
   "cell_type": "code",
   "execution_count": 68,
   "metadata": {},
   "outputs": [],
   "source": [
    "a = np.array([1, 2.3, 4])\n",
    "\n",
    "\n"
   ]
  },
  {
   "cell_type": "code",
   "execution_count": 73,
   "metadata": {},
   "outputs": [
    {
     "data": {
      "text/plain": [
       "array([[0, 0, 0, 0, 0, 0, 0, 0, 0, 0],\n",
       "       [0, 0, 0, 0, 0, 0, 0, 0, 0, 0]])"
      ]
     },
     "execution_count": 73,
     "metadata": {},
     "output_type": "execute_result"
    }
   ],
   "source": [
    "np.zeros(10)\n",
    "np.zeros(10, dtype='int')\n",
    "np.zeros((2, 10), dtype='int')"
   ]
  },
  {
   "cell_type": "code",
   "execution_count": 72,
   "metadata": {},
   "outputs": [
    {
     "data": {
      "text/plain": [
       "array([1., 1., 1., 1., 1., 1., 1., 1., 1., 1.])"
      ]
     },
     "execution_count": 72,
     "metadata": {},
     "output_type": "execute_result"
    }
   ],
   "source": [
    "np.ones(10)"
   ]
  },
  {
   "cell_type": "code",
   "execution_count": 74,
   "metadata": {},
   "outputs": [
    {
     "data": {
      "text/plain": [
       "array([[1., 0., 0., 0., 0., 0., 0., 0., 0., 0.],\n",
       "       [0., 1., 0., 0., 0., 0., 0., 0., 0., 0.],\n",
       "       [0., 0., 1., 0., 0., 0., 0., 0., 0., 0.],\n",
       "       [0., 0., 0., 1., 0., 0., 0., 0., 0., 0.],\n",
       "       [0., 0., 0., 0., 1., 0., 0., 0., 0., 0.],\n",
       "       [0., 0., 0., 0., 0., 1., 0., 0., 0., 0.],\n",
       "       [0., 0., 0., 0., 0., 0., 1., 0., 0., 0.],\n",
       "       [0., 0., 0., 0., 0., 0., 0., 1., 0., 0.],\n",
       "       [0., 0., 0., 0., 0., 0., 0., 0., 1., 0.],\n",
       "       [0., 0., 0., 0., 0., 0., 0., 0., 0., 1.]])"
      ]
     },
     "execution_count": 74,
     "metadata": {},
     "output_type": "execute_result"
    }
   ],
   "source": [
    "np.eye(10)"
   ]
  },
  {
   "cell_type": "code",
   "execution_count": 83,
   "metadata": {},
   "outputs": [
    {
     "data": {
      "text/plain": [
       "array([0. , 0.1, 0.2, 0.3, 0.4, 0.5, 0.6, 0.7, 0.8, 0.9])"
      ]
     },
     "execution_count": 83,
     "metadata": {},
     "output_type": "execute_result"
    }
   ],
   "source": [
    "# Attention pour linspace\n",
    "# Si on veut contrôler delta_x, c'est mieux ainsi\n",
    "np.arange(start=3, stop=10, step=2)\n",
    "\n",
    "np.linspace(0, 1, 10)\n",
    "\n",
    "a = 0\n",
    "b = 1\n",
    "N = 10\n",
    "delta_x = (b-a)/N\n",
    "\n",
    "a + np.arange(N)*delta_x"
   ]
  },
  {
   "cell_type": "code",
   "execution_count": 84,
   "metadata": {},
   "outputs": [
    {
     "data": {
      "text/plain": [
       "array([ 0.1       ,  0.15848932,  0.25118864,  0.39810717,  0.63095734,\n",
       "        1.        ,  1.58489319,  2.51188643,  3.98107171,  6.30957344,\n",
       "       10.        ])"
      ]
     },
     "execution_count": 84,
     "metadata": {},
     "output_type": "execute_result"
    }
   ],
   "source": [
    "np.logspace(-1, 1, 11)"
   ]
  },
  {
   "cell_type": "code",
   "execution_count": 88,
   "metadata": {},
   "outputs": [],
   "source": [
    "a = np.random.rand(100, 3)\n",
    "np.savetxt('/tmp/data.txt', a)"
   ]
  },
  {
   "cell_type": "code",
   "execution_count": 91,
   "metadata": {},
   "outputs": [],
   "source": [
    "b = np.loadtxt('/tmp/data.txt')"
   ]
  },
  {
   "cell_type": "code",
   "execution_count": 95,
   "metadata": {},
   "outputs": [],
   "source": [
    "np.save('/tmp/data.npy', a)"
   ]
  },
  {
   "cell_type": "code",
   "execution_count": 97,
   "metadata": {},
   "outputs": [
    {
     "data": {
      "text/plain": [
       "array([[0.78756817, 0.77012707, 0.05666322],\n",
       "       [0.67136447, 0.60927142, 0.71244226],\n",
       "       [0.69509332, 0.60695902, 0.74593475],\n",
       "       [0.81585006, 0.9538861 , 0.24334687],\n",
       "       [0.38587552, 0.61876649, 0.0925133 ],\n",
       "       [0.91710963, 0.40455482, 0.59341542],\n",
       "       [0.83478973, 0.89127025, 0.23135619],\n",
       "       [0.72371378, 0.41725607, 0.00672618],\n",
       "       [0.75095482, 0.12960859, 0.73287232],\n",
       "       [0.40283277, 0.78154341, 0.07110174],\n",
       "       [0.85811748, 0.22409391, 0.1311706 ],\n",
       "       [0.94658983, 0.33588581, 0.03539164],\n",
       "       [0.07562765, 0.88150634, 0.71306811],\n",
       "       [0.13863186, 0.15960147, 0.25445536],\n",
       "       [0.00928996, 0.99026128, 0.95841149],\n",
       "       [0.32415086, 0.27974203, 0.60310655],\n",
       "       [0.97943222, 0.83000033, 0.68863756],\n",
       "       [0.2519884 , 0.90246805, 0.82075206],\n",
       "       [0.62937308, 0.02990324, 0.32944257],\n",
       "       [0.10305788, 0.81250143, 0.19434663],\n",
       "       [0.60563818, 0.79480923, 0.62457926],\n",
       "       [0.19817039, 0.7996571 , 0.42775064],\n",
       "       [0.03280126, 0.75296205, 0.54173969],\n",
       "       [0.33218053, 0.33011986, 0.77883891],\n",
       "       [0.13662123, 0.25383605, 0.41212962],\n",
       "       [0.42860105, 0.91337087, 0.33527679],\n",
       "       [0.44298795, 0.89396229, 0.4095222 ],\n",
       "       [0.32232169, 0.84180097, 0.28233382],\n",
       "       [0.38733562, 0.79255267, 0.98738567],\n",
       "       [0.07956617, 0.07757092, 0.37384693],\n",
       "       [0.32005714, 0.38103562, 0.52184046],\n",
       "       [0.84586888, 0.05998274, 0.87884175],\n",
       "       [0.06504126, 0.0818162 , 0.55530438],\n",
       "       [0.7998377 , 0.82457296, 0.09377761],\n",
       "       [0.65251177, 0.78827269, 0.14454776],\n",
       "       [0.46374061, 0.24042457, 0.13251871],\n",
       "       [0.82869638, 0.58725287, 0.47397153],\n",
       "       [0.96859355, 0.98417812, 0.08623702],\n",
       "       [0.73137586, 0.32639384, 0.1296064 ],\n",
       "       [0.03577448, 0.87722062, 0.1921185 ],\n",
       "       [0.49986172, 0.30937824, 0.9392147 ],\n",
       "       [0.3514998 , 0.95239796, 0.081281  ],\n",
       "       [0.83823574, 0.81437782, 0.51208033],\n",
       "       [0.2764049 , 0.64393839, 0.18020943],\n",
       "       [0.99539912, 0.98068704, 0.12607748],\n",
       "       [0.74427195, 0.41804779, 0.02445015],\n",
       "       [0.32684491, 0.85414684, 0.84464978],\n",
       "       [0.97673584, 0.14265542, 0.32821   ],\n",
       "       [0.42209541, 0.62348673, 0.84635387],\n",
       "       [0.2498476 , 0.58249422, 0.21309915],\n",
       "       [0.29935556, 0.85637654, 0.5910164 ],\n",
       "       [0.43075296, 0.97896021, 0.20219201],\n",
       "       [0.43707849, 0.33383581, 0.93293368],\n",
       "       [0.87510341, 0.68593899, 0.46572294],\n",
       "       [0.99744821, 0.69853663, 0.68345975],\n",
       "       [0.47783884, 0.58699341, 0.6288762 ],\n",
       "       [0.37607936, 0.83059447, 0.99398892],\n",
       "       [0.92825563, 0.34733092, 0.66668606],\n",
       "       [0.87765059, 0.38966542, 0.29939969],\n",
       "       [0.53339434, 0.2092734 , 0.04169819],\n",
       "       [0.66638038, 0.57608262, 0.82795793],\n",
       "       [0.17502075, 0.10558464, 0.01312669],\n",
       "       [0.93676031, 0.41835127, 0.90180574],\n",
       "       [0.75711222, 0.96357073, 0.73900114],\n",
       "       [0.55612778, 0.32890029, 0.54491606],\n",
       "       [0.49389977, 0.17947587, 0.16542156],\n",
       "       [0.28788143, 0.09712776, 0.38363691],\n",
       "       [0.02591453, 0.6722559 , 0.23014609],\n",
       "       [0.9981691 , 0.35828297, 0.76715069],\n",
       "       [0.16959178, 0.05641021, 0.54531874],\n",
       "       [0.73643972, 0.3103241 , 0.90260863],\n",
       "       [0.46211861, 0.92805322, 0.07535316],\n",
       "       [0.91294927, 0.96586798, 0.75752538],\n",
       "       [0.90649778, 0.55934242, 0.26032192],\n",
       "       [0.11340406, 0.80091215, 0.48723619],\n",
       "       [0.07675461, 0.5128126 , 0.08216031],\n",
       "       [0.43158755, 0.01887168, 0.19439949],\n",
       "       [0.71220391, 0.60987434, 0.98711333],\n",
       "       [0.701058  , 0.91205995, 0.68282703],\n",
       "       [0.37174364, 0.29478575, 0.21970335],\n",
       "       [0.67984354, 0.24867109, 0.12902062],\n",
       "       [0.16889869, 0.4510749 , 0.13250429],\n",
       "       [0.33545453, 0.94005564, 0.0992588 ],\n",
       "       [0.97665016, 0.60375181, 0.76254835],\n",
       "       [0.88250911, 0.54450568, 0.45495728],\n",
       "       [0.4305777 , 0.36864267, 0.26954182],\n",
       "       [0.90390107, 0.50593545, 0.98280452],\n",
       "       [0.20879689, 0.33561092, 0.95203336],\n",
       "       [0.14028104, 0.08735022, 0.23846181],\n",
       "       [0.94650735, 0.10389015, 0.55187484],\n",
       "       [0.55444188, 0.91022777, 0.48945749],\n",
       "       [0.48674463, 0.59581233, 0.8580212 ],\n",
       "       [0.92891588, 0.74137559, 0.92187484],\n",
       "       [0.48667986, 0.44977637, 0.88829084],\n",
       "       [0.24980565, 0.7196141 , 0.27012974],\n",
       "       [0.31274598, 0.50915686, 0.07215133],\n",
       "       [0.62568132, 0.15736749, 0.97430344],\n",
       "       [0.28453849, 0.84992917, 0.35594837],\n",
       "       [0.02933084, 0.10117464, 0.60817023],\n",
       "       [0.95473961, 0.54709794, 0.05766416]])"
      ]
     },
     "execution_count": 97,
     "metadata": {},
     "output_type": "execute_result"
    }
   ],
   "source": [
    "np.load('/tmp/data.npy')"
   ]
  },
  {
   "cell_type": "markdown",
   "metadata": {},
   "source": [
    "# Fonctions vectorisées\n",
    "C'est une fonction qui calcule sur un tableau élément par élément"
   ]
  },
  {
   "cell_type": "code",
   "execution_count": 98,
   "metadata": {},
   "outputs": [],
   "source": [
    "x = np.linspace(-1, 1, 51, endpoint=False)*np.pi"
   ]
  },
  {
   "cell_type": "code",
   "execution_count": 101,
   "metadata": {},
   "outputs": [
    {
     "data": {
      "text/plain": [
       "array([1., 1., 1., 1., 1., 1., 1., 1., 1., 1., 1., 1., 1., 1., 1., 1., 1.,\n",
       "       1., 1., 1., 1., 1., 1., 1., 1., 1., 1., 1., 1., 1., 1., 1., 1., 1.,\n",
       "       1., 1., 1., 1., 1., 1., 1., 1., 1., 1., 1., 1., 1., 1., 1., 1., 1.])"
      ]
     },
     "execution_count": 101,
     "metadata": {},
     "output_type": "execute_result"
    }
   ],
   "source": [
    "# Souvent il n'y a rien a faire\n",
    "np.sin(x)\n",
    "\n",
    "def ma_fonction(x):\n",
    "    return np.sin(x)**2 + np.cos(x)**2\n",
    "ma_fonction(x)"
   ]
  },
  {
   "cell_type": "code",
   "execution_count": 105,
   "metadata": {},
   "outputs": [
    {
     "data": {
      "text/plain": [
       "array([3.14159265, 3.01839294, 2.89519323, 2.77199352, 2.64879381,\n",
       "       2.52559409, 2.40239438, 2.27919467, 2.15599496, 2.03279525,\n",
       "       1.90959553, 1.78639582, 1.66319611, 1.5399964 , 1.41679669,\n",
       "       1.29359698, 1.17039726, 1.04719755, 0.92399784, 0.80079813,\n",
       "       0.67759842, 0.5543987 , 0.43119899, 0.30799928, 0.18479957,\n",
       "       0.06159986, 0.06159986, 0.18479957, 0.30799928, 0.43119899,\n",
       "       0.5543987 , 0.67759842, 0.80079813, 0.92399784, 1.04719755,\n",
       "       1.17039726, 1.29359698, 1.41679669, 1.5399964 , 1.66319611,\n",
       "       1.78639582, 1.90959553, 2.03279525, 2.15599496, 2.27919467,\n",
       "       2.40239438, 2.52559409, 2.64879381, 2.77199352, 2.89519323,\n",
       "       3.01839294])"
      ]
     },
     "execution_count": 105,
     "metadata": {},
     "output_type": "execute_result"
    }
   ],
   "source": [
    "# Sinon, on utilise le décorateur vectorize\n",
    "# Mais il existe des solutions pour éviter d'avoir à \n",
    "# l'utiliser (c.f. prochaine partie)\n",
    "@np.vectorize\n",
    "def mafonction(a):\n",
    "#    print('Bonjour')\n",
    "    if a>0:\n",
    "        return a\n",
    "    else:\n",
    "        return -a\n",
    "    \n",
    "mafonction(x)"
   ]
  },
  {
   "cell_type": "code",
   "execution_count": 106,
   "metadata": {},
   "outputs": [],
   "source": [
    "def mafonction_simple(a):\n",
    "#    print('Bonjour')\n",
    "    if a>0:\n",
    "        return a\n",
    "    else:\n",
    "        return -a\n",
    "    \n",
    "mafonction = np.vectorize(mafonction_simple)"
   ]
  },
  {
   "cell_type": "code",
   "execution_count": 109,
   "metadata": {},
   "outputs": [
    {
     "data": {
      "text/plain": [
       "array([False, False, False, False, False, False, False, False, False,\n",
       "       False, False, False, False, False, False, False, False, False,\n",
       "       False, False, False, False, False, False, False, False,  True,\n",
       "        True,  True,  True,  True,  True,  True,  True,  True,  True,\n",
       "        True,  True,  True,  True,  True,  True,  True,  True,  True,\n",
       "        True,  True,  True,  True,  True,  True])"
      ]
     },
     "execution_count": 109,
     "metadata": {},
     "output_type": "execute_result"
    }
   ],
   "source": [
    "x>0"
   ]
  },
  {
   "cell_type": "code",
   "execution_count": 107,
   "metadata": {},
   "outputs": [
    {
     "ename": "ValueError",
     "evalue": "The truth value of an array with more than one element is ambiguous. Use a.any() or a.all()",
     "output_type": "error",
     "traceback": [
      "\u001b[0;31m---------------------------------------------------------------------------\u001b[0m",
      "\u001b[0;31mValueError\u001b[0m                                Traceback (most recent call last)",
      "\u001b[0;32m<ipython-input-107-f039710a8284>\u001b[0m in \u001b[0;36m<module>\u001b[0;34m\u001b[0m\n\u001b[1;32m      1\u001b[0m \u001b[0;31m# Il faut connaitre l'origine de cette erreur\u001b[0m\u001b[0;34m\u001b[0m\u001b[0;34m\u001b[0m\u001b[0;34m\u001b[0m\u001b[0m\n\u001b[0;32m----> 2\u001b[0;31m \u001b[0;32mif\u001b[0m \u001b[0mx\u001b[0m\u001b[0;34m>\u001b[0m\u001b[0;36m0\u001b[0m\u001b[0;34m:\u001b[0m\u001b[0;34m\u001b[0m\u001b[0;34m\u001b[0m\u001b[0m\n\u001b[0m\u001b[1;32m      3\u001b[0m     \u001b[0mprint\u001b[0m\u001b[0;34m(\u001b[0m\u001b[0;34m'Bonjour'\u001b[0m\u001b[0;34m)\u001b[0m\u001b[0;34m\u001b[0m\u001b[0;34m\u001b[0m\u001b[0m\n",
      "\u001b[0;31mValueError\u001b[0m: The truth value of an array with more than one element is ambiguous. Use a.any() or a.all()"
     ]
    }
   ],
   "source": [
    "# Il faut connaitre l'origine de cette erreur\n",
    "if x>0:\n",
    "    print('Bonjour')"
   ]
  },
  {
   "cell_type": "code",
   "execution_count": 110,
   "metadata": {},
   "outputs": [
    {
     "data": {
      "text/plain": [
       "array([3.14159265, 3.01839294, 2.89519323, 2.77199352, 2.64879381,\n",
       "       2.52559409, 2.40239438, 2.27919467, 2.15599496, 2.03279525,\n",
       "       1.90959553, 1.78639582, 1.66319611, 1.5399964 , 1.41679669,\n",
       "       1.29359698, 1.17039726, 1.04719755, 0.92399784, 0.80079813,\n",
       "       0.67759842, 0.5543987 , 0.43119899, 0.30799928, 0.18479957,\n",
       "       0.06159986, 0.06159986, 0.18479957, 0.30799928, 0.43119899,\n",
       "       0.5543987 , 0.67759842, 0.80079813, 0.92399784, 1.04719755,\n",
       "       1.17039726, 1.29359698, 1.41679669, 1.5399964 , 1.66319611,\n",
       "       1.78639582, 1.90959553, 2.03279525, 2.15599496, 2.27919467,\n",
       "       2.40239438, 2.52559409, 2.64879381, 2.77199352, 2.89519323,\n",
       "       3.01839294])"
      ]
     },
     "execution_count": 110,
     "metadata": {},
     "output_type": "execute_result"
    }
   ],
   "source": [
    "np.where(x>0, x, -x)"
   ]
  },
  {
   "cell_type": "markdown",
   "metadata": {},
   "source": [
    "# Indexer un tableau"
   ]
  },
  {
   "cell_type": "code",
   "execution_count": 112,
   "metadata": {},
   "outputs": [
    {
     "data": {
      "text/plain": [
       "array([-2.89519323, -2.77199352, -2.64879381, -2.52559409, -2.40239438,\n",
       "       -2.27919467, -2.15599496])"
      ]
     },
     "execution_count": 112,
     "metadata": {},
     "output_type": "execute_result"
    }
   ],
   "source": [
    "x = np.linspace(-1, 1, 51, endpoint=False)*np.pi\n",
    "x[2:9]"
   ]
  },
  {
   "cell_type": "code",
   "execution_count": 113,
   "metadata": {},
   "outputs": [
    {
     "data": {
      "text/plain": [
       "array([-2.64879381, -2.40239438, -2.15599496])"
      ]
     },
     "execution_count": 113,
     "metadata": {},
     "output_type": "execute_result"
    }
   ],
   "source": [
    "x[4:10:2]\n",
    "# x[start:stop:step], comme range ou arange"
   ]
  },
  {
   "cell_type": "code",
   "execution_count": null,
   "metadata": {},
   "outputs": [],
   "source": []
  },
  {
   "cell_type": "code",
   "execution_count": 114,
   "metadata": {},
   "outputs": [
    {
     "data": {
      "text/plain": [
       "array([-2.64879381, -2.40239438, -2.15599496])"
      ]
     },
     "execution_count": 114,
     "metadata": {},
     "output_type": "execute_result"
    }
   ],
   "source": [
    "# C'est un racourcis pour créer une slice\n",
    "x[slice(4, 10, 2)]"
   ]
  },
  {
   "cell_type": "code",
   "execution_count": 128,
   "metadata": {},
   "outputs": [
    {
     "data": {
      "text/plain": [
       "array([-1.  , -0.96, -0.92, -0.88, -0.84, -0.8 , -0.76, -0.72, -0.68,\n",
       "       -0.64, -0.6 , -0.56, -0.52, -0.48, -0.44, -0.4 , -0.36, -0.32,\n",
       "       -0.28, -0.24, -0.2 , -0.16, -0.12, -0.08, -0.04,  0.  ,  0.04,\n",
       "        0.08,  0.12,  0.16,  0.2 ,  0.24,  0.28,  0.32,  0.36,  0.4 ,\n",
       "        0.44,  0.48,  0.52,  0.56,  0.6 ,  0.64,  0.68,  0.72,  0.76,\n",
       "        0.8 ,  0.84,  0.88,  0.92,  0.96])"
      ]
     },
     "execution_count": 128,
     "metadata": {},
     "output_type": "execute_result"
    }
   ],
   "source": [
    "x = np.linspace(-1, 1, 51)\n",
    "x\n",
    "# tout sauf le dernier\n",
    "x[:-1]"
   ]
  },
  {
   "cell_type": "code",
   "execution_count": 120,
   "metadata": {},
   "outputs": [
    {
     "data": {
      "text/plain": [
       "array([0.96, 1.  ])"
      ]
     },
     "execution_count": 120,
     "metadata": {},
     "output_type": "execute_result"
    }
   ],
   "source": [
    "# Les deux derniers\n",
    "x[-2:]"
   ]
  },
  {
   "cell_type": "code",
   "execution_count": null,
   "metadata": {},
   "outputs": [],
   "source": []
  },
  {
   "cell_type": "code",
   "execution_count": 130,
   "metadata": {},
   "outputs": [
    {
     "data": {
      "text/plain": [
       "array([0.04, 0.04, 0.04, 0.04, 0.04, 0.04, 0.04, 0.04, 0.04, 0.04, 0.04,\n",
       "       0.04, 0.04, 0.04, 0.04, 0.04, 0.04, 0.04, 0.04, 0.04, 0.04, 0.04,\n",
       "       0.04, 0.04, 0.04, 0.04, 0.04, 0.04, 0.04, 0.04, 0.04, 0.04, 0.04,\n",
       "       0.04, 0.04, 0.04, 0.04, 0.04, 0.04, 0.04, 0.04, 0.04, 0.04, 0.04,\n",
       "       0.04, 0.04, 0.04, 0.04, 0.04, 0.04])"
      ]
     },
     "execution_count": 130,
     "metadata": {},
     "output_type": "execute_result"
    }
   ],
   "source": [
    "# La différence entre deux éléments consécutifs (dérivée numérique)\n",
    "x[1:] - x[:-1]"
   ]
  },
  {
   "cell_type": "code",
   "execution_count": 131,
   "metadata": {},
   "outputs": [
    {
     "data": {
      "text/plain": [
       "array([-0.96, -0.8 , -0.6 ])"
      ]
     },
     "execution_count": 131,
     "metadata": {},
     "output_type": "execute_result"
    }
   ],
   "source": [
    "# Indexer avec un tableau d'entier\n",
    "x[np.array([1, 5, 10])]"
   ]
  },
  {
   "cell_type": "code",
   "execution_count": 133,
   "metadata": {},
   "outputs": [
    {
     "data": {
      "text/plain": [
       "array([0.96396784, 0.81229321, 0.99438251, 0.81246584, 0.17294009,\n",
       "       0.06299503, 0.04981811, 0.58266196, 0.50673473, 0.72339183])"
      ]
     },
     "execution_count": 133,
     "metadata": {},
     "output_type": "execute_result"
    }
   ],
   "source": [
    "# Par exemple : argsort\n",
    "# Les trois éléments les plus petits\n",
    "x = np.random.rand(10)\n",
    "x"
   ]
  },
  {
   "cell_type": "code",
   "execution_count": 136,
   "metadata": {},
   "outputs": [
    {
     "data": {
      "text/plain": [
       "array([0.04981811, 0.06299503, 0.17294009])"
      ]
     },
     "execution_count": 136,
     "metadata": {},
     "output_type": "execute_result"
    }
   ],
   "source": [
    "x[x.argsort()][:3]"
   ]
  },
  {
   "cell_type": "code",
   "execution_count": 141,
   "metadata": {},
   "outputs": [
    {
     "data": {
      "text/plain": [
       "array([0.89334533, 0.06966841, 0.504351  , 0.57275771, 0.94950988])"
      ]
     },
     "execution_count": 141,
     "metadata": {},
     "output_type": "execute_result"
    }
   ],
   "source": [
    "# Avec un tableau de booléens\n",
    "x = np.random.rand(5)\n",
    "x"
   ]
  },
  {
   "cell_type": "code",
   "execution_count": 142,
   "metadata": {},
   "outputs": [
    {
     "data": {
      "text/plain": [
       "array([0.89334533, 0.57275771, 0.94950988])"
      ]
     },
     "execution_count": 142,
     "metadata": {},
     "output_type": "execute_result"
    }
   ],
   "source": [
    "x[np.array([True, False, False, True, True])]"
   ]
  },
  {
   "cell_type": "code",
   "execution_count": 143,
   "metadata": {},
   "outputs": [
    {
     "data": {
      "text/plain": [
       "array([0.89334533, 0.504351  , 0.57275771, 0.94950988])"
      ]
     },
     "execution_count": 143,
     "metadata": {},
     "output_type": "execute_result"
    }
   ],
   "source": [
    "x[x>0.5]"
   ]
  },
  {
   "cell_type": "code",
   "execution_count": 144,
   "metadata": {},
   "outputs": [],
   "source": [
    "def val_abs(x):\n",
    "    res = np.zeros(len(x))\n",
    "    res[x>0] = x[x>0]\n",
    "    res[x<=0] = -x[x<=0]\n",
    "    return res"
   ]
  },
  {
   "cell_type": "code",
   "execution_count": 127,
   "metadata": {},
   "outputs": [
    {
     "data": {
      "text/plain": [
       "array([0.06279038, 0.04918709, 0.76216172, 0.95101346, 0.21152223,\n",
       "       0.41467358, 0.81026453, 0.2698764 , 0.0638469 , 0.86332402])"
      ]
     },
     "execution_count": 127,
     "metadata": {},
     "output_type": "execute_result"
    }
   ],
   "source": [
    "x[:, 1]"
   ]
  },
  {
   "cell_type": "markdown",
   "metadata": {},
   "source": [
    "# Tableau dans la mémoire\n",
    "* strides"
   ]
  },
  {
   "cell_type": "code",
   "execution_count": 192,
   "metadata": {},
   "outputs": [
    {
     "data": {
      "text/plain": [
       "(32, 8)"
      ]
     },
     "execution_count": 192,
     "metadata": {},
     "output_type": "execute_result"
    }
   ],
   "source": [
    "x = np.random.rand(3, 4)\n",
    "x.strides"
   ]
  },
  {
   "cell_type": "code",
   "execution_count": 196,
   "metadata": {},
   "outputs": [
    {
     "name": "stdout",
     "output_type": "stream",
     "text": [
      "(8,)\n"
     ]
    },
    {
     "data": {
      "text/plain": [
       "(16,)"
      ]
     },
     "execution_count": 196,
     "metadata": {},
     "output_type": "execute_result"
    }
   ],
   "source": [
    "x = np.linspace(0, 1)\n",
    "print(x.strides)\n",
    "b = x[::2]\n",
    "b.strides"
   ]
  },
  {
   "cell_type": "code",
   "execution_count": 197,
   "metadata": {},
   "outputs": [
    {
     "data": {
      "text/plain": [
       "(1,)"
      ]
     },
     "execution_count": 197,
     "metadata": {},
     "output_type": "execute_result"
    }
   ],
   "source": [
    "(1,)"
   ]
  },
  {
   "cell_type": "code",
   "execution_count": 200,
   "metadata": {},
   "outputs": [
    {
     "data": {
      "text/plain": [
       "tuple"
      ]
     },
     "execution_count": 200,
     "metadata": {},
     "output_type": "execute_result"
    }
   ],
   "source": [
    "type(())"
   ]
  },
  {
   "cell_type": "markdown",
   "metadata": {},
   "source": [
    "# Modifier un tableau"
   ]
  },
  {
   "cell_type": "code",
   "execution_count": 148,
   "metadata": {},
   "outputs": [
    {
     "data": {
      "text/plain": [
       "array([0.79888963, 0.77060231, 1.        , 2.        , 0.1850596 ,\n",
       "       0.6057666 , 0.70432775, 0.9227318 , 0.46778595, 0.99036249])"
      ]
     },
     "execution_count": 148,
     "metadata": {},
     "output_type": "execute_result"
    }
   ],
   "source": [
    "x = np.random.rand(10)\n",
    "x[2:4] = np.array([1, 2])\n",
    "x"
   ]
  },
  {
   "cell_type": "code",
   "execution_count": 21,
   "metadata": {},
   "outputs": [],
   "source": [
    "x = np.random.rand(10)\n"
   ]
  },
  {
   "cell_type": "code",
   "execution_count": 150,
   "metadata": {},
   "outputs": [
    {
     "data": {
      "text/plain": [
       "array([0.06508248, 0.17733062, 0.5       , 0.5       , 0.4551478 ,\n",
       "       0.5       , 0.5       , 0.5       , 0.32803591, 0.5       ])"
      ]
     },
     "execution_count": 150,
     "metadata": {},
     "output_type": "execute_result"
    }
   ],
   "source": [
    "x = np.random.rand(10)\n",
    "x[x>.5] = .5\n",
    "x"
   ]
  },
  {
   "cell_type": "code",
   "execution_count": null,
   "metadata": {},
   "outputs": [],
   "source": []
  },
  {
   "cell_type": "code",
   "execution_count": 23,
   "metadata": {},
   "outputs": [],
   "source": [
    "# Valeur absolue?\n"
   ]
  },
  {
   "cell_type": "markdown",
   "metadata": {},
   "source": [
    "# Tableaux nD"
   ]
  },
  {
   "cell_type": "code",
   "execution_count": 154,
   "metadata": {},
   "outputs": [
    {
     "data": {
      "text/plain": [
       "3"
      ]
     },
     "execution_count": 154,
     "metadata": {},
     "output_type": "execute_result"
    }
   ],
   "source": [
    "a = np.array([[1,2], [3, 4]])\n",
    "# l'index est un tuple\n",
    "a[(1, 0)]"
   ]
  },
  {
   "cell_type": "code",
   "execution_count": 155,
   "metadata": {},
   "outputs": [
    {
     "data": {
      "text/plain": [
       "array([0.72250763, 0.57289555, 0.52329195, 0.82939019, 0.33549713])"
      ]
     },
     "execution_count": 155,
     "metadata": {},
     "output_type": "execute_result"
    }
   ],
   "source": [
    "x = np.random.rand(5, 5)\n",
    "# Récupérer une colonne\n",
    "x[:,2]"
   ]
  },
  {
   "cell_type": "code",
   "execution_count": 159,
   "metadata": {},
   "outputs": [
    {
     "data": {
      "text/plain": [
       "(5, 5)"
      ]
     },
     "execution_count": 159,
     "metadata": {},
     "output_type": "execute_result"
    }
   ],
   "source": [
    "x.shape"
   ]
  },
  {
   "cell_type": "code",
   "execution_count": 160,
   "metadata": {},
   "outputs": [
    {
     "data": {
      "text/plain": [
       "array([0.55024183, 0.77205978, 0.72250763, 0.12884491, 0.10148173,\n",
       "       0.94730005, 0.65878693, 0.57289555, 0.57455849, 0.77861644,\n",
       "       0.05765653, 0.57710239, 0.52329195, 0.48279831, 0.10392   ,\n",
       "       0.91754299, 0.53944164, 0.82939019, 0.52004975, 0.71194507,\n",
       "       0.4582634 , 0.32965476, 0.33549713, 0.33800232, 0.95859682])"
      ]
     },
     "execution_count": 160,
     "metadata": {},
     "output_type": "execute_result"
    }
   ],
   "source": [
    "x.flatten()"
   ]
  },
  {
   "cell_type": "code",
   "execution_count": 163,
   "metadata": {},
   "outputs": [
    {
     "data": {
      "text/plain": [
       "array([[0.76174163, 0.56789357, 0.87887519, 0.62665396, 0.23743087],\n",
       "       [0.56139622, 0.68744969, 0.20495418, 0.06028479, 0.01212552],\n",
       "       [0.58186348, 0.60524986, 0.76859713, 0.85347495, 0.56368311],\n",
       "       [0.82153901, 0.0726592 , 0.94946988, 0.90512198, 0.10372617],\n",
       "       [0.59029934, 0.17514464, 0.51423141, 0.64776727, 0.31844386]])"
      ]
     },
     "execution_count": 163,
     "metadata": {},
     "output_type": "execute_result"
    }
   ],
   "source": [
    "# méthode reshape\n",
    "x = np.random.rand(25)\n",
    "x.reshape((5, 5))"
   ]
  },
  {
   "cell_type": "code",
   "execution_count": 27,
   "metadata": {},
   "outputs": [
    {
     "data": {
      "text/plain": [
       "(24, 8)"
      ]
     },
     "execution_count": 27,
     "metadata": {},
     "output_type": "execute_result"
    }
   ],
   "source": [
    "x = np.random.rand(5, 3)\n",
    "x.strides"
   ]
  },
  {
   "cell_type": "code",
   "execution_count": 164,
   "metadata": {},
   "outputs": [
    {
     "data": {
      "text/plain": [
       "array([  0,   1,   2,   3,   4, 100,   6,   7,   8,   9])"
      ]
     },
     "execution_count": 164,
     "metadata": {},
     "output_type": "execute_result"
    }
   ],
   "source": [
    "# Attention, numpy évite de recopier la memoire\n",
    "x = np.arange(10)\n",
    "b = x[1::2]\n",
    "b[2] = 100\n",
    "x"
   ]
  },
  {
   "cell_type": "code",
   "execution_count": 165,
   "metadata": {},
   "outputs": [
    {
     "data": {
      "text/plain": [
       "array([0, 1, 2, 3, 4, 5, 6, 7, 8, 9])"
      ]
     },
     "execution_count": 165,
     "metadata": {},
     "output_type": "execute_result"
    }
   ],
   "source": [
    "x = np.arange(10)\n",
    "b = x[x%2==0]\n",
    "b[2] = 100\n",
    "x"
   ]
  },
  {
   "cell_type": "code",
   "execution_count": 30,
   "metadata": {},
   "outputs": [],
   "source": [
    "# meshgrid\n"
   ]
  },
  {
   "cell_type": "code",
   "execution_count": 166,
   "metadata": {},
   "outputs": [],
   "source": [
    "%matplotlib inline\n",
    "import matplotlib.pyplot as plt"
   ]
  },
  {
   "cell_type": "code",
   "execution_count": 168,
   "metadata": {},
   "outputs": [
    {
     "name": "stdout",
     "output_type": "stream",
     "text": [
      "[[1 2]\n",
      " [1 2]\n",
      " [1 2]]\n",
      "[[45 45]\n",
      " [56 56]\n",
      " [67 67]]\n"
     ]
    }
   ],
   "source": [
    "x = np.array([1, 2])\n",
    "y = np.array([45, 56, 67])\n",
    "\n",
    "X, Y = np.meshgrid(x, y)\n",
    "print(X)\n",
    "print(Y)"
   ]
  },
  {
   "cell_type": "code",
   "execution_count": 170,
   "metadata": {},
   "outputs": [
    {
     "data": {
      "text/plain": [
       "<matplotlib.image.AxesImage at 0x7f7b74d39f50>"
      ]
     },
     "execution_count": 170,
     "metadata": {},
     "output_type": "execute_result"
    },
    {
     "data": {
      "image/png": "[encoded data removed]",
      "text/plain": [
       "<Figure size 432x288 with 1 Axes>"
      ]
     },
     "metadata": {
      "needs_background": "light"
     },
     "output_type": "display_data"
    }
   ],
   "source": [
    "# Création d'une image 2D avec meshgrid\n",
    "\n",
    "x = np.linspace(-.5, .5, 100)*4*np.pi\n",
    "y = np.linspace(-.5, .5, 100)*4*np.pi\n",
    "X, Y = np.meshgrid(x, y)\n",
    "R = np.sqrt(X**2 + Y**2)\n",
    "plt.imshow(np.exp(-R**2/30))"
   ]
  },
  {
   "cell_type": "markdown",
   "metadata": {},
   "source": [
    "# Broadcast"
   ]
  },
  {
   "cell_type": "code",
   "execution_count": 171,
   "metadata": {},
   "outputs": [
    {
     "ename": "ValueError",
     "evalue": "operands could not be broadcast together with shapes (10,) (11,) ",
     "output_type": "error",
     "traceback": [
      "\u001b[0;31m---------------------------------------------------------------------------\u001b[0m",
      "\u001b[0;31mValueError\u001b[0m                                Traceback (most recent call last)",
      "\u001b[0;32m<ipython-input-171-f42d7a067895>\u001b[0m in \u001b[0;36m<module>\u001b[0;34m\u001b[0m\n\u001b[1;32m      1\u001b[0m \u001b[0ma\u001b[0m \u001b[0;34m=\u001b[0m \u001b[0mnp\u001b[0m\u001b[0;34m.\u001b[0m\u001b[0mrandom\u001b[0m\u001b[0;34m.\u001b[0m\u001b[0mrand\u001b[0m\u001b[0;34m(\u001b[0m\u001b[0;36m10\u001b[0m\u001b[0;34m)\u001b[0m\u001b[0;34m\u001b[0m\u001b[0;34m\u001b[0m\u001b[0m\n\u001b[1;32m      2\u001b[0m \u001b[0mb\u001b[0m \u001b[0;34m=\u001b[0m \u001b[0mnp\u001b[0m\u001b[0;34m.\u001b[0m\u001b[0mrandom\u001b[0m\u001b[0;34m.\u001b[0m\u001b[0mrand\u001b[0m\u001b[0;34m(\u001b[0m\u001b[0;36m11\u001b[0m\u001b[0;34m)\u001b[0m\u001b[0;34m\u001b[0m\u001b[0;34m\u001b[0m\u001b[0m\n\u001b[0;32m----> 3\u001b[0;31m \u001b[0ma\u001b[0m\u001b[0;34m+\u001b[0m\u001b[0mb\u001b[0m\u001b[0;34m\u001b[0m\u001b[0;34m\u001b[0m\u001b[0m\n\u001b[0m",
      "\u001b[0;31mValueError\u001b[0m: operands could not be broadcast together with shapes (10,) (11,) "
     ]
    }
   ],
   "source": [
    "a = np.random.rand(10)\n",
    "b = np.random.rand(11)\n",
    "a+b"
   ]
  },
  {
   "cell_type": "code",
   "execution_count": 172,
   "metadata": {},
   "outputs": [
    {
     "data": {
      "text/plain": [
       "array([1.75569737, 1.95839138, 1.63598944, 1.79815267, 1.26852414,\n",
       "       1.75350651, 1.49225329, 1.88060177, 1.46355395, 1.14904252])"
      ]
     },
     "execution_count": 172,
     "metadata": {},
     "output_type": "execute_result"
    }
   ],
   "source": [
    "a + 1"
   ]
  },
  {
   "cell_type": "code",
   "execution_count": 176,
   "metadata": {},
   "outputs": [
    {
     "name": "stdout",
     "output_type": "stream",
     "text": [
      "(1, 5)\n"
     ]
    },
    {
     "data": {
      "text/plain": [
       "array([[0.05071439, 0.78901826, 0.41781107, 0.46556661, 0.891322  ],\n",
       "       [0.        , 1.        , 2.        , 3.        , 4.        ],\n",
       "       [0.        , 1.        , 2.        , 3.        , 4.        ],\n",
       "       [0.        , 1.        , 2.        , 3.        , 4.        ],\n",
       "       [0.12950603, 0.58421764, 0.14433857, 0.20371821, 0.34703876]])"
      ]
     },
     "execution_count": 176,
     "metadata": {},
     "output_type": "execute_result"
    }
   ],
   "source": [
    "# Si sur une dimension la taille du tableau vaut 1, alors numpy peut l'étendre\n",
    "# pour qu'elle ait la même valeur que celle de l'autre tableau\n",
    "x = np.random.rand(5, 5)\n",
    "a = np.array([np.arange(5)])\n",
    "print(a.shape)\n",
    "x[1:4, :] = a\n",
    "x"
   ]
  },
  {
   "cell_type": "code",
   "execution_count": 179,
   "metadata": {},
   "outputs": [
    {
     "name": "stdout",
     "output_type": "stream",
     "text": [
      "(1, 5)\n"
     ]
    },
    {
     "data": {
      "text/plain": [
       "array([[0.37072389, 0.26571337, 0.75382869, 0.49241768, 0.80372115],\n",
       "       [0.2019896 , 0.50292453, 0.39788085, 0.13131222, 0.71631248],\n",
       "       [0.        , 1.        , 2.        , 3.        , 4.        ],\n",
       "       [0.        , 1.        , 2.        , 3.        , 4.        ],\n",
       "       [0.05295748, 0.9398645 , 0.75268115, 0.84297014, 0.88985663]])"
      ]
     },
     "execution_count": 179,
     "metadata": {},
     "output_type": "execute_result"
    }
   ],
   "source": [
    "# Il y a une syntaxe simple pour rajouter une dimension de taille 1\n",
    "# C'est newaxis\n",
    "a = np.arange(5)\n",
    "b = a[np.newaxis, :]\n",
    "print(b.shape)\n",
    "x = np.random.rand(5, 5)\n",
    "x[2:4, :] = b\n",
    "x"
   ]
  },
  {
   "cell_type": "code",
   "execution_count": 183,
   "metadata": {},
   "outputs": [],
   "source": [
    "# Exemple : calculer une moyenne pondérée \n",
    "# Chaque ligne est un élève, chaque colonne un examen\n",
    "notes = np.random.rand(10, 5)*20\n",
    "#print(notes)\n",
    "coef = np.array([1, 4, 2, 5, 8])\n"
   ]
  },
  {
   "cell_type": "code",
   "execution_count": 187,
   "metadata": {},
   "outputs": [
    {
     "data": {
      "text/plain": [
       "array([11.121959  , 11.98277735,  8.90538059,  7.74284719,  9.44101068,\n",
       "        6.04703322, 11.51351397,  9.31315847, 12.89224939, 14.52960175])"
      ]
     },
     "execution_count": 187,
     "metadata": {},
     "output_type": "execute_result"
    }
   ],
   "source": [
    "# Il est inutile de faire des boucles\n",
    "np.sum(notes*coef[np.newaxis,:], axis=1)/np.sum(coef)"
   ]
  },
  {
   "cell_type": "code",
   "execution_count": null,
   "metadata": {},
   "outputs": [],
   "source": []
  },
  {
   "cell_type": "code",
   "execution_count": 189,
   "metadata": {},
   "outputs": [
    {
     "data": {
      "text/plain": [
       "array([[0.71460449, 0.24918298, 0.06893493, 0.38753238],\n",
       "       [0.70728353, 0.74218708, 0.71399197, 0.37982629],\n",
       "       [0.15277431, 0.87126192, 0.92394228, 0.49147835]])"
      ]
     },
     "execution_count": 189,
     "metadata": {},
     "output_type": "execute_result"
    }
   ],
   "source": [
    "x = np.random.rand(3, 4)\n",
    "x"
   ]
  },
  {
   "cell_type": "code",
   "execution_count": 191,
   "metadata": {},
   "outputs": [
    {
     "data": {
      "text/plain": [
       "array([0.71460449, 0.74218708, 0.92394228])"
      ]
     },
     "execution_count": 191,
     "metadata": {},
     "output_type": "execute_result"
    }
   ],
   "source": [
    "np.max(x, axis=1)"
   ]
  },
  {
   "cell_type": "markdown",
   "metadata": {},
   "source": [
    "# Au delà de numpy : numba\n",
    "* Calculer $\\pi$ (avec une formule très très lente!!!)\n",
    "$$ \\frac\\pi4 = \\sum_i \\frac{(-1)^i}{2i+1} = 1 - \\frac13 + \\frac 15 - \\frac17 + \\ldots $$\n"
   ]
  },
  {
   "cell_type": "code",
   "execution_count": 29,
   "metadata": {},
   "outputs": [
    {
     "name": "stdout",
     "output_type": "stream",
     "text": [
      "10 loops, best of 3: 160 ms per loop\n",
      "10 loops, best of 3: 31.6 ms per loop\n",
      "100 loops, best of 3: 8.87 ms per loop\n"
     ]
    }
   ],
   "source": [
    "def pi_python(N):\n",
    "    res = 0\n",
    "    coef = 1\n",
    "    for i in range(N):\n",
    "        res += coef/(2*i+1)\n",
    "        coef = -coef\n",
    "    return 4*res\n",
    "\n",
    "%timeit pi_python(1000000) # 155 ms\n",
    "\n",
    "def pi_np(N):\n",
    "    Ti = arange(N)\n",
    "    return 4*np.sum((1-2*(Ti%2))/(2*Ti+1))\n",
    "\n",
    "%timeit pi_np(1000000) # 28.3ms\n",
    "\n",
    "from numba import jit, int64, float64\n",
    "numba_pi = jit(float64(int64))(pi_python)\n",
    "\n",
    "@jit( float64(int64) )\n",
    "def pi_python(N):\n",
    "    res = 0\n",
    "    coef = 1\n",
    "    for i in range(N):\n",
    "        res += coef/(2*i+1)\n",
    "        coef = -coef\n",
    "    return 4*res\n",
    "%timeit numba_pi(1000000)"
   ]
  }
 ],
 "metadata": {
  "kernelspec": {
   "display_name": "Python 3",
   "language": "python",
   "name": "python3"
  },
  "language_info": {
   "codemirror_mode": {
    "name": "ipython",
    "version": 3
   },
   "file_extension": ".py",
   "mimetype": "text/x-python",
   "name": "python",
   "nbconvert_exporter": "python",
   "pygments_lexer": "ipython3",
   "version": "3.7.4"
  }
 },
 "nbformat": 4,
 "nbformat_minor": 2
}
