{
 "cells": [
  {
   "cell_type": "markdown",
   "metadata": {},
   "source": [
    "Dans ce TD, nous allons utiliser numpy et matplotlib. Voici comment les importer"
   ]
  },
  {
   "cell_type": "code",
   "execution_count": 1,
   "metadata": {},
   "outputs": [],
   "source": [
    "import numpy as np\n",
    "import matplotlib.pyplot as plt"
   ]
  },
  {
   "cell_type": "markdown",
   "metadata": {},
   "source": [
    "Voici quelques fonctions de numpy que nous allons utiliser:\n",
    "- `np.arange`\n",
    "- `np.sum`\n",
    "- `np.polyfit`\n",
    "- `np.mean`\n",
    "- `np.std`\n",
    "- `np.unique`\n",
    "- `np.where`\n",
    "- `np.reshape`\n",
    "- `np.newaxis`\n",
    "\n",
    "Certaines de ces fonctions sont aussi accessibles sous forme de méthode d'un tableau (par exemple np.mean(a) <=> a.mean())\n",
    "\n",
    "On peut accéder à la documentation de la façon suivante : "
   ]
  },
  {
   "cell_type": "code",
   "execution_count": null,
   "metadata": {},
   "outputs": [],
   "source": [
    "np.sum?"
   ]
  },
  {
   "cell_type": "markdown",
   "metadata": {},
   "source": [
    "# Formule de Simpson"
   ]
  },
  {
   "cell_type": "markdown",
   "metadata": {},
   "source": [
    "On rappelle la formule de Simpson pour le calcul approché d’une intégrale :\n",
    "\\begin{equation*}\n",
    "\\begin{split}\n",
    "\\int_a^bf(x)\\mathrm dx \\approx \\Delta_x\\sum_{i=0}^{N-1}\\frac{f(x_i) + 4f(x_i+\\frac{\\Delta_x}2) + f(x_i + \\Delta_x)}6 \\equiv I(f;a,b,N) \\end{split}\n",
    "\\end{equation*}\n",
    "où $\\Delta_x =\\frac{b-a}N$ et $x_i = a + i\\Delta_x$.\n",
    "  \n",
    "1. Ecrivez une fonction `simpson_slow` qui calcule l’intégrale d'une function $f$ entre $a$ et $b$ avec $N$ pas avec la méthode de Simpson en utilisant une boucle (for loop).\n",
    "\n",
    "2. Ecrivez une autre fonction `simpson_fast` qui fait la même chose sans utiliser de boucle (on suposera que la fonction $f$ est vectorisée).\n",
    "\n",
    "3. Calculez l’intégrale de $f(x) = \\frac{1}{1+x^2}$ entre 0 et 1 pour $N=1000$ et comparez le temps entre les deux foncion en ecrirant `%timeit` avant la commande.\n",
    "\n",
    "4. Calculez la valeur théorique $I^\\star$ de l'intégrale et tracez en échelle logarithmique le residu $|I^\\star - I(f,0,1,N)|$ par rapport à $N$. Qu'elle est la vitesse de convergence de cette intégrale ?"
   ]
  },
  {
   "cell_type": "markdown",
   "metadata": {},
   "source": [
    "# Volume d'une sphère\n",
    "\n",
    "Dans un premier temps, on considère un nuage de points $(x, y)$ dans un plan. Les variables $x$ et $y$ sont independantes et uniformement reparties entre -1 et 1.\n",
    "\n",
    "1. En utilisant la fonction ``np.random.rand``, créer un nuage de $M$ points et tracer \n",
    "ce nuage. On pourra prendre $M=1000$\n",
    "\n",
    "2. Tracer dans une autre couleur les points dans un cercle de rayon 1. \n",
    "\n",
    "3. En prenant $M$ assez grand (par exemple $10^8$), calculer la probabilité d'être dans le cercle. En déduire une estimation de la surface d'un disque de rayon 1. \n",
    "\n",
    "4. Même question que la question 3, mais dans un espace de dimension $N$. Par exemple $N=5$. On écrira une fonction."
   ]
  },
  {
   "cell_type": "markdown",
   "metadata": {},
   "source": [
    "# Loi de Poisson"
   ]
  },
  {
   "cell_type": "markdown",
   "metadata": {},
   "source": [
    "Une source lumineuse illumine un photomultiplicateur. Ce dispositif envoie un pulse digital d’environ 20 ns à chaque photon qu’il détecte. La sortie du photomultiplicateur est connectée à un dispositif informatique qui permet de compter le nombre de pulses reçu pendant une durée determinée.\n",
    "\n",
    "Le nombre de photons qui arrive pendant une durée donnée suit une loi de Poisson, c’est à dire que la probabilité de détecter $k$ photons est donnée par :\n",
    "\\begin{equation*}\n",
    "\\begin{split}p(k) = \\frac{\\lambda^k}{k!}e^{-\\lambda}\\end{split}\n",
    "\\end{equation*}\n",
    "où $\\lambda$ est le nombre moyen de photons. Le paramètre $\\lambda$ sera proportionnel à la durée $t_0$ pendant laquelle on mesure le nombre de photons : $\\lambda = \\Gamma t_0$.\n",
    "\n",
    "On rappelle que l’écart type de la loi de Poisson vaut $\\sqrt{\\lambda}$\n",
    "\n",
    "1. Le fichier de données est enregistré sour forme d’un fichier texte. Chaque point correspond à une mesure de durée $t_0=200\\mathrm{\\mu s}$. Lire le fichier et le convertir en entier: \n",
    "```\n",
    "fichier = \"100secondes_200us_count.txt\"\n",
    "data = np.loadtxt(fichier, dtype=int)\n",
    "```\n",
    "Quel est le nombre moyen de photons reçu par seconde ?\n",
    "\n",
    "2. Calculez l’écart type et vérifiez qu’il vaut $\\sqrt{\\lambda}$.\n",
    "\n",
    "\n",
    "3. En utilisant la fonction `numpy.unique`, avec l’option `return_counts=True`, tracez la distribution de probabilité (créez un histogramme).\n",
    "\n",
    "4. Tracez les points représentants $p(k)/p(k+1)$.\n",
    "\n",
    "5. Soit $x_i$ le nombre de photons détectés au cours de la mesure numéro $i$. On veut simuler un jeu de données correspondant à des mesures prise pendant un temps $t = Nt_0$. On défini la variable $x^N_j$ par\n",
    "\\begin{equation*}\n",
    "x^N_j = \\sum_{i=0}^{i=N-1} x_{Nj+i}\n",
    "\\end{equation*}\n",
    "Écrivez une fonction python `somme_par_paquet(x,N)` qui effectue cette opération. Si la taille du tableau d’entrée n’est pas un multiple de N, on suprimera des points au début du tableau. Evidement les boucles `for` sont interdites ! On transformera le tableau en un tableau 2D et on fera une somme par ligne (`np.sum(array, axis=1)`).\n",
    "Tracez au cours du temps le flux de photons pris en intégrant sur 100 ms, i.e. $N=500$.\n",
    "\n",
    "\n",
    "6. On peut créer un générateur de bits aléatoires à partir de cette séquence : si $x_{2j}>x_{2j+1}$ alors on prend 1, si $x_{2j}<x_{2j+1}$ on prend 0, sinon on élimine le point $j$.\n",
    "Créez une fonction `bits_aleatoires(data)` qui engendrer cette suite de bits aléatoire que l’on appellera $a_j$ - une fois avec et sans de boucle `for`. Comparez les temps.\n",
    "\n",
    " \n",
    "7. On peut ensuite créer une suite de nombre aléatoire $\\{b_j\\}$ entre 0 et 1 en regroupant les bits $\\{a_i\\}$ dans une manière que $b_j$ soit écrit en binaire comme $(a_{Nj}, a_{Nj+1}, ... , a_{N(j+1) -1 })$. On prendra par exemple N=11.\n",
    "\\begin{equation*}\n",
    "b_j = \\sum_{i=0}^{i=N-1} \\frac{a_{Nj+i}}{2^{i+1}} \\in [0,1]\n",
    "\\end{equation*}\n",
    "Si $n=|\\{a_j\\}|$, le nombre d'elements dans la suite $\\{a_j\\}$, n'est pas divisible par $N$, supprimez les premiers $n\\%N$ elements.\n",
    "\n",
    "8. Si X et Y sont deux variables aléatoires ayant une distribution uniforme entre 0 et 1, alors on a\n",
    "\\begin{equation*}\n",
    "P(X^2 + Y^2<1) = \\frac{\\pi}{4}\n",
    "\\end{equation*}\n",
    "Déterminez $\\pi$ en utilisant notre générateur de nombre aléatoire.\n"
   ]
  },
  {
   "cell_type": "code",
   "execution_count": null,
   "metadata": {},
   "outputs": [],
   "source": []
  }
 ],
 "metadata": {
  "kernelspec": {
   "display_name": "Python 3",
   "language": "python",
   "name": "python3"
  },
  "language_info": {
   "codemirror_mode": {
    "name": "ipython",
    "version": 3
   },
   "file_extension": ".py",
   "mimetype": "text/x-python",
   "name": "python",
   "nbconvert_exporter": "python",
   "pygments_lexer": "ipython3",
   "version": "3.7.4"
  }
 },
 "nbformat": 4,
 "nbformat_minor": 4
}
