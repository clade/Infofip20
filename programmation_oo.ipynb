{
 "cells": [
  {
   "cell_type": "markdown",
   "metadata": {},
   "source": [
    "# Programmation orientée objet\n",
    "\n",
    "Comment créer se propres objets en Python. \n",
    "\n",
    "## Vocabulaire\n",
    "\n",
    "En python tout ce que l'on manipule est un objet : \n",
    "* Nombre, liste, dictionnaire, ...\n",
    "* Tableau numpy\n",
    "* Fonction, module, ....\n",
    "\n",
    "Un objet possède des **attributs**. Exemple : \n",
    "\n",
    "    z = 1.1J\n",
    "    z.real\n",
    "    a = np.array([1, 2, 4])\n",
    "    a.shape\n",
    "    \n",
    "Un objet possède des **méthodes**. Exemple :\n",
    "\n",
    "    a.mean()\n",
    "    a.conjugate()\n",
    "    z.conjugate()\n",
    "    \n",
    "Les méthodes sont des fonctions attachées à l'objet. La méthode conjugate d'un tableau n'est pas la même que la méthode conjugate d'un complexe\n",
    "\n",
    "## Comment créer un objet\n",
    "\n",
    "### Créer un nombre complexe\n"
   ]
  },
  {
   "cell_type": "code",
   "execution_count": 126,
   "metadata": {},
   "outputs": [
    {
     "name": "stdout",
     "output_type": "stream",
     "text": [
      "1 - 1J\n"
     ]
    }
   ],
   "source": [
    "import cached_property\n",
    "\n",
    "import numbers\n",
    "from math import sqrt, atan2, cos, sin, pi\n",
    "\n",
    "class Complexe(object):\n",
    "    def __init__(self, real_part, imaginary_part=0):\n",
    "        self.re = real_part\n",
    "        self.im = imaginary_part\n",
    "        \n",
    "    def conjugate(self):\n",
    "        z_conj = Complexe(self.re, -self.im)\n",
    "        return z_conj\n",
    "    \n",
    "    def __str__(self):\n",
    "        if self.im==0:\n",
    "            return f\"{self.re}\"\n",
    "        elif self.im>=0:\n",
    "            return f\"{self.re} + {self.im}J\"\n",
    "        else:\n",
    "            return f\"{self.re} - {-self.im}J\"\n",
    "        \n",
    "    def __repr__(self):\n",
    "        return f'Complexe({self.re}, {self.im})'\n",
    "    \n",
    "    def __add__(self, other):\n",
    "        if isinstance(other, numbers.Real):\n",
    "            return Complexe(self.re + other, self.im)\n",
    "        if isinstance(other, Complexe):\n",
    "            return Complexe(self.re + other.re, self.im + other.im)\n",
    "        return NotImplemented\n",
    "    \n",
    "    def __radd__(self, other):\n",
    "        return self.__add__(other)\n",
    "    \n",
    "    def __getitem__(self, key):\n",
    "        if key==0:\n",
    "            return self.re\n",
    "        if key==1:\n",
    "            return self.im\n",
    "        raise Exception('La clé doit être 1 ou 2')\n",
    "\n",
    "    @cached_property.cached_property\n",
    "    def r(self):\n",
    "        return sqrt(self.re**2 + self.im**2)\n",
    "    \n",
    "    @property\n",
    "    def phi(self):\n",
    "        return atan2(self.im, self.re)\n",
    "    \n",
    "    def __mul__(self, other):\n",
    "        if isinstance(other, numbres.Real):\n",
    "            other = Complexe(other, 0)\n",
    "        return complexe_polaire(self.r*other.r, self.phi+other.phi)\n",
    "\n",
    "def complexe_polaire(r, phi):\n",
    "    return Complexe(r*cos(phi), r*sin(phi))\n",
    "\n",
    "\n",
    "class ImaginairePur(Complexe):\n",
    "    def __init__(self, im):\n",
    "        self.im = im\n",
    "        self.re = 0\n",
    "\n",
    "    def __repr__(self):\n",
    "        return f'ImaginairePur({self.im})'\n",
    "    \n",
    "z = Complexe(1, 1)\n",
    "z2 = z.conjugate()\n",
    "print(z2)\n",
    "z3 = ImaginairePur(3.2)"
   ]
  },
  {
   "cell_type": "code",
   "execution_count": 123,
   "metadata": {},
   "outputs": [
    {
     "data": {
      "text/plain": [
       "Complexe(0, -3.2)"
      ]
     },
     "execution_count": 123,
     "metadata": {},
     "output_type": "execute_result"
    }
   ],
   "source": [
    "z3.conjugate()"
   ]
  },
  {
   "cell_type": "code",
   "execution_count": 125,
   "metadata": {},
   "outputs": [
    {
     "data": {
      "text/plain": [
       "True"
      ]
     },
     "execution_count": 125,
     "metadata": {},
     "output_type": "execute_result"
    }
   ],
   "source": [
    "isinstance(z3, Complexe)"
   ]
  },
  {
   "cell_type": "code",
   "execution_count": 124,
   "metadata": {},
   "outputs": [
    {
     "data": {
      "text/plain": [
       "Complexe(5, 3.2)"
      ]
     },
     "execution_count": 124,
     "metadata": {},
     "output_type": "execute_result"
    }
   ],
   "source": [
    "z3 + 5"
   ]
  },
  {
   "cell_type": "code",
   "execution_count": 115,
   "metadata": {},
   "outputs": [
    {
     "data": {
      "text/plain": [
       "1.4142135623730951"
      ]
     },
     "execution_count": 115,
     "metadata": {},
     "output_type": "execute_result"
    }
   ],
   "source": [
    "z.r\n",
    "z.r"
   ]
  },
  {
   "cell_type": "code",
   "execution_count": 116,
   "metadata": {},
   "outputs": [
    {
     "data": {
      "text/plain": [
       "{'re': 1, 'im': 1, 'r': 1.4142135623730951}"
      ]
     },
     "execution_count": 116,
     "metadata": {},
     "output_type": "execute_result"
    }
   ],
   "source": [
    "z.__dict__"
   ]
  },
  {
   "cell_type": "code",
   "execution_count": 103,
   "metadata": {},
   "outputs": [
    {
     "data": {
      "text/plain": [
       "Complexe(6.123233995736766e-17, 1.0)"
      ]
     },
     "execution_count": 103,
     "metadata": {},
     "output_type": "execute_result"
    }
   ],
   "source": [
    "complexe_polaire(1, pi/2)"
   ]
  },
  {
   "cell_type": "code",
   "execution_count": 68,
   "metadata": {},
   "outputs": [
    {
     "name": "stdout",
     "output_type": "stream",
     "text": [
      "2\n",
      "16 + 2J\n",
      "16 + 2J\n"
     ]
    },
    {
     "data": {
      "text/plain": [
       "Complexe(1, 2)"
      ]
     },
     "execution_count": 68,
     "metadata": {},
     "output_type": "execute_result"
    }
   ],
   "source": [
    "print(z + z2)\n",
    "print(z + 15)\n",
    "print(15 + z)\n",
    "z"
   ]
  },
  {
   "cell_type": "code",
   "execution_count": 71,
   "metadata": {},
   "outputs": [
    {
     "data": {
      "text/plain": [
       "2"
      ]
     },
     "execution_count": 71,
     "metadata": {},
     "output_type": "execute_result"
    }
   ],
   "source": [
    "z[0]\n",
    "z[1]"
   ]
  },
  {
   "cell_type": "code",
   "execution_count": 73,
   "metadata": {},
   "outputs": [
    {
     "ename": "TypeError",
     "evalue": "'Complexe' object does not support item assignment",
     "output_type": "error",
     "traceback": [
      "\u001b[0;31m---------------------------------------------------------------------------\u001b[0m",
      "\u001b[0;31mTypeError\u001b[0m                                 Traceback (most recent call last)",
      "\u001b[0;32m<ipython-input-73-2e1440cd8a0b>\u001b[0m in \u001b[0;36m<module>\u001b[0;34m\u001b[0m\n\u001b[0;32m----> 1\u001b[0;31m \u001b[0mz\u001b[0m\u001b[0;34m[\u001b[0m\u001b[0;36m1\u001b[0m\u001b[0;34m]\u001b[0m \u001b[0;34m=\u001b[0m \u001b[0;36m5\u001b[0m\u001b[0;34m\u001b[0m\u001b[0;34m\u001b[0m\u001b[0m\n\u001b[0m",
      "\u001b[0;31mTypeError\u001b[0m: 'Complexe' object does not support item assignment"
     ]
    }
   ],
   "source": [
    "z[1] = 5"
   ]
  },
  {
   "cell_type": "code",
   "execution_count": 60,
   "metadata": {},
   "outputs": [
    {
     "ename": "TypeError",
     "evalue": "unsupported operand type(s) for +: 'Complexe' and 'str'",
     "output_type": "error",
     "traceback": [
      "\u001b[0;31m---------------------------------------------------------------------------\u001b[0m",
      "\u001b[0;31mTypeError\u001b[0m                                 Traceback (most recent call last)",
      "\u001b[0;32m<ipython-input-60-378fe7c08bce>\u001b[0m in \u001b[0;36m<module>\u001b[0;34m\u001b[0m\n\u001b[0;32m----> 1\u001b[0;31m \u001b[0mz\u001b[0m \u001b[0;34m+\u001b[0m \u001b[0;34m'coucou'\u001b[0m\u001b[0;34m\u001b[0m\u001b[0;34m\u001b[0m\u001b[0m\n\u001b[0m",
      "\u001b[0;31mTypeError\u001b[0m: unsupported operand type(s) for +: 'Complexe' and 'str'"
     ]
    }
   ],
   "source": [
    "# a + b\n",
    "# resultat = a.__add__(b)\n",
    "# si resultat est NotImplemented alors b.__radd__(a) sinon renvoie resultat"
   ]
  },
  {
   "cell_type": "code",
   "execution_count": 57,
   "metadata": {},
   "outputs": [
    {
     "ename": "TypeError",
     "evalue": "unsupported operand type(s) for +: 'int' and 'str'",
     "output_type": "error",
     "traceback": [
      "\u001b[0;31m---------------------------------------------------------------------------\u001b[0m",
      "\u001b[0;31mTypeError\u001b[0m                                 Traceback (most recent call last)",
      "\u001b[0;32m<ipython-input-57-8872caacd2e9>\u001b[0m in \u001b[0;36m<module>\u001b[0;34m\u001b[0m\n\u001b[0;32m----> 1\u001b[0;31m \u001b[0;36m1\u001b[0m \u001b[0;34m+\u001b[0m \u001b[0;34m'poipoi'\u001b[0m\u001b[0;34m\u001b[0m\u001b[0;34m\u001b[0m\u001b[0m\n\u001b[0m",
      "\u001b[0;31mTypeError\u001b[0m: unsupported operand type(s) for +: 'int' and 'str'"
     ]
    }
   ],
   "source": [
    "1 + 'poipoi'"
   ]
  },
  {
   "cell_type": "code",
   "execution_count": 61,
   "metadata": {},
   "outputs": [
    {
     "data": {
      "text/plain": [
       "array([1, 2, 5])"
      ]
     },
     "execution_count": 61,
     "metadata": {},
     "output_type": "execute_result"
    }
   ],
   "source": [
    "a = np.array([1, 2, 5])\n",
    "a"
   ]
  },
  {
   "cell_type": "code",
   "execution_count": 63,
   "metadata": {},
   "outputs": [
    {
     "name": "stdout",
     "output_type": "stream",
     "text": [
      "[1 2 5]\n"
     ]
    }
   ],
   "source": [
    "print(a)"
   ]
  },
  {
   "cell_type": "code",
   "execution_count": null,
   "metadata": {},
   "outputs": [],
   "source": []
  },
  {
   "cell_type": "code",
   "execution_count": null,
   "metadata": {},
   "outputs": [],
   "source": []
  },
  {
   "cell_type": "code",
   "execution_count": null,
   "metadata": {},
   "outputs": [],
   "source": []
  },
  {
   "cell_type": "markdown",
   "metadata": {},
   "source": [
    "## Nouveaux concepts\n",
    "\n",
    "\n",
    "\n",
    "### Méthodes spéciales\n",
    "\n",
    "* `__init__`\n",
    "* `__repr__`, `__str__`\n",
    "\n",
    "Lorsque c'est possible, `__repr__` doit représenté au mieux l'objet. Souvent il s'agit d'une chaine de caractère qui en étant évaluée renvoie un objet similaire. La méthode `__str__` renvoie `__repr__` par défaut. Sinon, elle doit être plus simple.\n",
    "\n",
    "Opérateur unaire et binaire\n",
    "* `__neg__`\n",
    "* `__add__`, `__sub__`, `__mul__`, `__truediv__`, `__mod__`, `__pow__`\n",
    "* `__radd__`, ...\n",
    "* `__eq__` (==), `__ne__` (!=), `__lt__` (<), `__le__` (<=), `__gt__`, `__ge__`\n",
    "* `__or__`, `__and__`, `__xor__`\n",
    "\n",
    "\n",
    "Emulateur de contenu\n",
    "* a[key] => `a.__getitem__(key)`\n",
    "* a[key] = val => `a.__setitem__(key, val)`\n",
    "* del a[key] => `a.__delitem__(key)`\n",
    "* len(a) => `a.__len__()`\n",
    "* for elm in a => `for elm in a.__iter__()`\n",
    "\n",
    "### Attributs et property\n",
    "* Attributs de class vs attributs d'objets\n",
    "* property\n",
    "\n",
    "### Héritage\n",
    "* isinstance permet de tester si un objet est une instance d'une classe. "
   ]
  },
  {
   "cell_type": "code",
   "execution_count": 87,
   "metadata": {},
   "outputs": [
    {
     "name": "stdout",
     "output_type": "stream",
     "text": [
      "{'b': []}\n",
      "{'b': [], 'a': 4}\n",
      "1\n"
     ]
    }
   ],
   "source": [
    "class Test:\n",
    "    a = 1\n",
    "#    b = []\n",
    "    def __init__(self):\n",
    "        self.b = []\n",
    "    def ma_methode(self):\n",
    "        return 1\n",
    "    \n",
    "    def ajoute(self, val):\n",
    "        self.b.append(val)\n",
    "    \n",
    "Test.ma_methode\n",
    "Test.a\n",
    "\n",
    "t = Test()\n",
    "t.a\n",
    "print(t.__dict__)\n",
    "t.a = 4\n",
    "print(t.__dict__)\n",
    "print(Test.a)"
   ]
  },
  {
   "cell_type": "code",
   "execution_count": 89,
   "metadata": {},
   "outputs": [
    {
     "name": "stdout",
     "output_type": "stream",
     "text": [
      "[]\n"
     ]
    }
   ],
   "source": [
    "t1 = Test()\n",
    "t2 = Test()\n",
    "t1.ajoute(3)\n",
    "print(t2.b)"
   ]
  },
  {
   "cell_type": "code",
   "execution_count": null,
   "metadata": {},
   "outputs": [],
   "source": []
  },
  {
   "cell_type": "code",
   "execution_count": null,
   "metadata": {},
   "outputs": [],
   "source": []
  },
  {
   "cell_type": "code",
   "execution_count": null,
   "metadata": {},
   "outputs": [],
   "source": []
  },
  {
   "cell_type": "code",
   "execution_count": null,
   "metadata": {},
   "outputs": [],
   "source": []
  },
  {
   "cell_type": "markdown",
   "metadata": {},
   "source": [
    "### Circuit électrique\n",
    "\n",
    "![circuit](kicad.sch.png \"Exemple de circuit\")\n",
    "\n",
    "Objectif : faire comprendre à Python ce circuit pour pouvoir ensuite faire des calculs. Ici, on demandera de calculer l'impédance complexe à une fréquence donnée.\n",
    "\n",
    "Stucture en arbre : \n",
    "<code>\n",
    "Serie :\n",
    "    |- Parallele:\n",
    "    |   |-inductance\n",
    "    |   |-resistance\n",
    "    |   |-condensateur\n",
    "    |- resistance\n",
    "</code>\n",
    "\n",
    "\n",
    "Il y a plusieurs objets de nature différente donc de classe différente (résistance, condensateur, circuit parallèle, ...). Mais ces objets sont tous des circuits bibolaires. Tous ces objets devront mettre en oeuvre un méthode pour calculer leur impédance à une fréquence donnée. \n",
    "\n",
    "Code final en Python (objectif à atteindre pour que l'objet soit le plus simple à utiliser):\n",
    "\n",
    "    R1 = Resistance(10)\n",
    "    R1 = Resistance(5)\n",
    "    L1 = Inductance(15E-6)\n",
    "    C1 = Condensateur(10E-6)\n",
    "\n",
    "    circuit = R2 + (L1|R1|C1)\n",
    "    \n",
    "    print(circuit.impedance(50))\n",
    "    isinstance(R1, CircuitBibolaire) # True\n",
    "    isinstance(circuit, CircuitBibolaire) # True    \n",
    "\n",
    "\n"
   ]
  },
  {
   "cell_type": "code",
   "execution_count": null,
   "metadata": {},
   "outputs": [],
   "source": []
  },
  {
   "cell_type": "code",
   "execution_count": null,
   "metadata": {},
   "outputs": [],
   "source": []
  },
  {
   "cell_type": "code",
   "execution_count": null,
   "metadata": {},
   "outputs": [],
   "source": []
  },
  {
   "cell_type": "code",
   "execution_count": null,
   "metadata": {},
   "outputs": [],
   "source": []
  },
  {
   "cell_type": "markdown",
   "metadata": {},
   "source": [
    "### Simulation autour d'un pendule"
   ]
  },
  {
   "cell_type": "code",
   "execution_count": null,
   "metadata": {},
   "outputs": [],
   "source": []
  },
  {
   "cell_type": "code",
   "execution_count": null,
   "metadata": {},
   "outputs": [],
   "source": []
  },
  {
   "cell_type": "code",
   "execution_count": null,
   "metadata": {},
   "outputs": [],
   "source": []
  }
 ],
 "metadata": {
  "kernelspec": {
   "display_name": "Python 3",
   "language": "python",
   "name": "python3"
  },
  "language_info": {
   "codemirror_mode": {
    "name": "ipython",
    "version": 3
   },
   "file_extension": ".py",
   "mimetype": "text/x-python",
   "name": "python",
   "nbconvert_exporter": "python",
   "pygments_lexer": "ipython3",
   "version": "3.7.4"
  }
 },
 "nbformat": 4,
 "nbformat_minor": 2
}
